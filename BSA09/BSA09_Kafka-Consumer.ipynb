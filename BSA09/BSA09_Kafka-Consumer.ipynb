{
 "cells": [
  {
   "cell_type": "code",
   "execution_count": 1,
   "id": "6b41f88c",
   "metadata": {},
   "outputs": [],
   "source": [
    "from kafka import KafkaConsumer\n",
    "from json import loads\n",
    "import json"
   ]
  },
  {
   "cell_type": "code",
   "execution_count": 2,
   "id": "36a2aedd",
   "metadata": {},
   "outputs": [],
   "source": [
    "topic_name = \"testevents\"\n",
    "consumer = KafkaConsumer(topic_name,\n",
    "                        bootstrap_servers=['localhost:9092'], \n",
    "                         consumer_timeout_ms=20 ## 20개만 가져오고 멈춤 \n",
    "                        )"
   ]
  },
  {
   "cell_type": "code",
   "execution_count": 7,
   "id": "686fb8be",
   "metadata": {},
   "outputs": [
    {
     "name": "stdout",
     "output_type": "stream",
     "text": [
      "b'\"Message 15:30:00.666931\"'\n",
      "b'\"Message 15:30:03.674471\"'\n",
      "b'\"Message 15:30:06.686800\"'\n"
     ]
    }
   ],
   "source": [
    "for message in consumer:\n",
    "    print(message.value)"
   ]
  },
  {
   "cell_type": "code",
   "execution_count": null,
   "id": "a6f0624e",
   "metadata": {},
   "outputs": [],
   "source": []
  },
  {
   "cell_type": "code",
   "execution_count": null,
   "id": "4a08299c",
   "metadata": {},
   "outputs": [],
   "source": []
  }
 ],
 "metadata": {
  "kernelspec": {
   "display_name": "Python 3 (ipykernel)",
   "language": "python",
   "name": "python3"
  },
  "language_info": {
   "codemirror_mode": {
    "name": "ipython",
    "version": 3
   },
   "file_extension": ".py",
   "mimetype": "text/x-python",
   "name": "python",
   "nbconvert_exporter": "python",
   "pygments_lexer": "ipython3",
   "version": "3.9.13"
  }
 },
 "nbformat": 4,
 "nbformat_minor": 5
}
