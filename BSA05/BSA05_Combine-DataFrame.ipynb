{
 "cells": [
  {
   "cell_type": "code",
   "execution_count": 1,
   "metadata": {},
   "outputs": [],
   "source": [
    "import pandas as pd"
   ]
  },
  {
   "cell_type": "code",
   "execution_count": null,
   "metadata": {},
   "outputs": [],
   "source": [
    "df1 = pd.read_csv(\"./combinedata/data1.csv\")\n",
    "df2 = pd.read_csv(\"./combinedata/data2.csv\")\n",
    "df3 = pd.read_csv(\"./combinedata/data3.csv\")\n",
    "display(df1)"
   ]
  },
  {
   "cell_type": "code",
   "execution_count": null,
   "metadata": {},
   "outputs": [],
   "source": [
    "display(df2)"
   ]
  },
  {
   "cell_type": "code",
   "execution_count": null,
   "metadata": {},
   "outputs": [],
   "source": [
    "display(df3)"
   ]
  },
  {
   "cell_type": "markdown",
   "metadata": {},
   "source": [
    "### Pandas DataFrame\n",
    "- side by side (axis=1): merge or join\n",
    "    - join은 제거될 예정\n",
    "- stacking (axis=0): concat or append\n",
    "    - append는 제거될 예정"
   ]
  },
  {
   "cell_type": "code",
   "execution_count": null,
   "metadata": {},
   "outputs": [],
   "source": [
    "##위아래로 붙이기\n",
    "df = pd.concat([df1, df2])\n",
    "display(df)"
   ]
  },
  {
   "cell_type": "code",
   "execution_count": null,
   "metadata": {},
   "outputs": [],
   "source": [
    "#위아래로 붙이기, index는 새로 편집\n",
    "df = pd.concat([df1,df2], ignore_index = True)\n",
    "display(df)"
   ]
  },
  {
   "cell_type": "code",
   "execution_count": null,
   "metadata": {},
   "outputs": [],
   "source": [
    "## 위아래로 붙이기, DF에 키값 추가\n",
    "df = pd.concat([df1, df2], keys=([\"데이터1\", \"데이터2\"]))\n",
    "display(df)"
   ]
  },
  {
   "cell_type": "code",
   "execution_count": null,
   "metadata": {},
   "outputs": [],
   "source": [
    "## 위아래로 붙이기, 중복삭제\n",
    "df4 = pd.concat([df1, df2], keys=([\"데이터1\", \"데이터2\"])).drop_duplicates()\n",
    "display(df4)"
   ]
  },
  {
   "cell_type": "code",
   "execution_count": null,
   "metadata": {},
   "outputs": [],
   "source": [
    "## 다른 변수가 있는 경우: 옵션이 없으면 모두 출력\n",
    "df = pd.concat([df1, df3])\n",
    "display(df)"
   ]
  },
  {
   "cell_type": "code",
   "execution_count": null,
   "metadata": {},
   "outputs": [],
   "source": [
    "## 모든 DF에 있는 변수만 출력\n",
    "df = pd.concat([df1,df3], join = 'inner')\n",
    "display(df)"
   ]
  },
  {
   "cell_type": "code",
   "execution_count": null,
   "metadata": {},
   "outputs": [],
   "source": [
    "## pandas 2.0에서는 제거됨\n",
    "df = df1.append(df2, sort=True)\n",
    "display(df)"
   ]
  },
  {
   "cell_type": "code",
   "execution_count": null,
   "metadata": {},
   "outputs": [],
   "source": [
    "# 좌우로 붙이기\n",
    "## DF+ DF, DF+Series , Series+Series\n",
    "## df4: df4, reset_index(drop=True, inplace=True) 적용한 DF\n",
    "## 옵션이 없는 경우 index 기준으로 병합"
   ]
  },
  {
   "cell_type": "code",
   "execution_count": null,
   "metadata": {},
   "outputs": [],
   "source": [
    "# \"동일 변수\" 를 확인 후 같은 자료만 좌우로 결합\n",
    "df = pd.merge(df1, df2)\n",
    "display(df)"
   ]
  },
  {
   "cell_type": "code",
   "execution_count": null,
   "metadata": {},
   "outputs": [],
   "source": [
    "# 동일 변수를 확인 후 같은 자료만 좌우로 결합\n",
    "df = pd.merge(df4, df3)\n",
    "display(df)"
   ]
  },
  {
   "cell_type": "code",
   "execution_count": null,
   "metadata": {},
   "outputs": [],
   "source": [
    "# 특정 변수값을 기준으로 좌우 결합 => 조인 결합 !!\n",
    "## 각 DF가 동일 변수명을 가지는 경우 변수명에 suffies가 붙음 \n",
    "df = pd.merge(df1, df2, on=['학번'], how='inner')\n",
    "#df = pd.merge(df1, df2, on=['학번'],suffixes=[\"_l\", \"_r\"] ,how='outer')\n",
    "#df = pd.merge(df1, df2, on=['학번'],suffixes=[\"_l\", \"_r\"] , how='left')\n",
    "#df = pd.merge(df1, df2, on=['학번'],suffixes=[\"_l\", \"_r\"] , how='right')\n",
    "#df = pd.merge(df1, df2, on=['학번'],suffixes=[\"_l\", \"_r\"] , how='outer')\n",
    "#df = pd.merge(df1, df2, on=['학번'],suffixes=[\"_l\", \"_r\"] , how='outer')\n",
    "#df = pd.merge(df1, df2, suffixes=[\"_l\", \"_r\"] ,left_index=True, right_index=True)\n",
    "display(df)"
   ]
  },
  {
   "cell_type": "code",
   "execution_count": null,
   "metadata": {},
   "outputs": [],
   "source": [
    "## 다른 변수명의 값을 기준으로 좌우 결합\n",
    "df5 = df2.copy()\n",
    "df5.rename(columns={\"학번\":\"ID\"}, inplace=True)\n",
    "df = pd.merge(df1,df5, left_on = \"학번\", right_on=\"ID\", how='right')\n",
    "display(df)"
   ]
  },
  {
   "cell_type": "code",
   "execution_count": 3,
   "metadata": {},
   "outputs": [
    {
     "name": "stdout",
     "output_type": "stream",
     "text": [
      "1.20.3\n"
     ]
    }
   ],
   "source": [
    "## 비교 변수명에 동일 값이 여러 개 있는 경우\n",
    "df = pd.merge(df1, df2, on=[\"이름\"], how='inner')\n",
    "display(df)"
   ]
  },
  {
   "cell_type": "markdown",
   "metadata": {},
   "source": [
    "#### Pyspark DataFrame"
   ]
  },
  {
   "cell_type": "code",
   "execution_count": null,
   "metadata": {},
   "outputs": [],
   "source": [
    "import pyspark\n",
    "from pyspark.sql import SparkSession\n",
    "\n",
    "스파크 = SparkSession.builder.appName('mergeDF').getOrCreate()\n",
    "스파크.conf.sqlet(\"spark.sql.execution.arrow.enabled\", \"true\")"
   ]
  },
  {
   "cell_type": "code",
   "execution_count": null,
   "metadata": {},
   "outputs": [],
   "source": [
    "스파크DF1 = 스파크.read.option('header','true').csv(\"hdfs://localhost:9000/Spark/combinedata/data1.csv\")\n",
    "스파크DF2 = 스파크.read.option('header','true').csv(\"hdfs://localhost:9000/Spark/combinedata/data2.csv\")\n",
    "스파크DF3 = 스파크.read.option('header','true').csv(\"hdfs://localhost:9000/Spark/combinedata/data3.csv\")"
   ]
  },
  {
   "cell_type": "code",
   "execution_count": null,
   "metadata": {},
   "outputs": [],
   "source": [
    "스파크DF1.show()"
   ]
  },
  {
   "cell_type": "code",
   "execution_count": null,
   "metadata": {},
   "outputs": [],
   "source": [
    "##같은 칼럼이 있어도 그대로 추가\n",
    "DF=스파크DF1.union(스파크DF2)\n",
    "DF.show(30)"
   ]
  },
  {
   "cell_type": "code",
   "execution_count": null,
   "metadata": {},
   "outputs": [],
   "source": [
    "DF=스파크DF1.unionAll(스파크DF2)\n",
    "DF.show(30)"
   ]
  },
  {
   "cell_type": "code",
   "execution_count": null,
   "metadata": {},
   "outputs": [],
   "source": [
    "DF=스파크DF1.union(스파크DF2).distinct()\n",
    "DF.show(30)"
   ]
  },
  {
   "cell_type": "code",
   "execution_count": null,
   "metadata": {},
   "outputs": [],
   "source": [
    "#PySpark\n",
    "DF = 스파크DF2.unionByName(스파크DF3, allowMissingColumns=True)\n",
    "DF.show()"
   ]
  },
  {
   "cell_type": "code",
   "execution_count": null,
   "metadata": {},
   "outputs": [],
   "source": [
    "스파크DF1.join(스파크DF2).show()"
   ]
  },
  {
   "cell_type": "code",
   "execution_count": null,
   "metadata": {},
   "outputs": [],
   "source": [
    "DF = 스파크DF1.join(스파크DF3, 스파크DF1.학번 == 스파크DF3.학번)\n",
    "DF.show() ## 조인의 종류 복습"
   ]
  }
 ],
 "metadata": {
  "kernelspec": {
   "display_name": "Python 3",
   "language": "python",
   "name": "python3"
  },
  "language_info": {
   "codemirror_mode": {
    "name": "ipython",
    "version": 3
   },
   "file_extension": ".py",
   "mimetype": "text/x-python",
   "name": "python",
   "nbconvert_exporter": "python",
   "pygments_lexer": "ipython3",
   "version": "3.8.5"
  }
 },
 "nbformat": 4,
 "nbformat_minor": 4
}
