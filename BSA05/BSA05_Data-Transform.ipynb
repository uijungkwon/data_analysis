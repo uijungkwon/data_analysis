{
 "cells": [
  {
   "cell_type": "markdown",
   "metadata": {},
   "source": [
    "### 자료의 값 변경\n",
    "- 수치자료의 범주화\n",
    "- 범주형 자료의 수치화\n",
    "- 표준화 & 정규화\n",
    "- 시간자료"
   ]
  },
  {
   "cell_type": "markdown",
   "metadata": {},
   "source": [
    "### 수치자료를 범주형자료로\n",
    "https://pandas.pydata.org/docs/reference/api/pandas.cut.html\n",
    "- 구간으로 조절: pandas.cut\n",
    "- 갯수로 조절: pandas.qcut\n",
    "기본적으로 순서자료: 명목자료로 설정하려면 \"ordered = False\"\n"
   ]
  },
  {
   "cell_type": "code",
   "execution_count": 1,
   "metadata": {},
   "outputs": [],
   "source": [
    "import pandas as pd\n",
    "import numpy as np"
   ]
  },
  {
   "cell_type": "code",
   "execution_count": 2,
   "metadata": {},
   "outputs": [],
   "source": [
    "np.random.seed(316)\n",
    "정규난수 = np.random.normal(size=1000)"
   ]
  },
  {
   "cell_type": "code",
   "execution_count": 3,
   "metadata": {},
   "outputs": [
    {
     "data": {
      "text/plain": [
       "[(-0.525, 0.768], (-0.525, 0.768], (-0.525, 0.768], (-0.525, 0.768], (-0.525, 0.768], ..., (-0.525, 0.768], (-1.818, -0.525], (-1.818, -0.525], (-0.525, 0.768], (0.768, 2.062]]\n",
       "Length: 1000\n",
       "Categories (5, interval[float64]): [(-3.118, -1.818] < (-1.818, -0.525] < (-0.525, 0.768] < (0.768, 2.062] < (2.062, 3.355]]"
      ]
     },
     "execution_count": 3,
     "metadata": {},
     "output_type": "execute_result"
    }
   ],
   "source": [
    "동일구간 = pd.cut(정규난수, bins=5)\n",
    "동일구간"
   ]
  },
  {
   "cell_type": "code",
   "execution_count": 4,
   "metadata": {},
   "outputs": [
    {
     "data": {
      "text/html": [
       "<div>\n",
       "<style scoped>\n",
       "    .dataframe tbody tr th:only-of-type {\n",
       "        vertical-align: middle;\n",
       "    }\n",
       "\n",
       "    .dataframe tbody tr th {\n",
       "        vertical-align: top;\n",
       "    }\n",
       "\n",
       "    .dataframe thead th {\n",
       "        text-align: right;\n",
       "    }\n",
       "</style>\n",
       "<table border=\"1\" class=\"dataframe\">\n",
       "  <thead>\n",
       "    <tr style=\"text-align: right;\">\n",
       "      <th></th>\n",
       "      <th>counts</th>\n",
       "      <th>freqs</th>\n",
       "    </tr>\n",
       "    <tr>\n",
       "      <th>categories</th>\n",
       "      <th></th>\n",
       "      <th></th>\n",
       "    </tr>\n",
       "  </thead>\n",
       "  <tbody>\n",
       "    <tr>\n",
       "      <th>(-3.118, -1.818]</th>\n",
       "      <td>28</td>\n",
       "      <td>0.028</td>\n",
       "    </tr>\n",
       "    <tr>\n",
       "      <th>(-1.818, -0.525]</th>\n",
       "      <td>284</td>\n",
       "      <td>0.284</td>\n",
       "    </tr>\n",
       "    <tr>\n",
       "      <th>(-0.525, 0.768]</th>\n",
       "      <td>484</td>\n",
       "      <td>0.484</td>\n",
       "    </tr>\n",
       "    <tr>\n",
       "      <th>(0.768, 2.062]</th>\n",
       "      <td>180</td>\n",
       "      <td>0.180</td>\n",
       "    </tr>\n",
       "    <tr>\n",
       "      <th>(2.062, 3.355]</th>\n",
       "      <td>24</td>\n",
       "      <td>0.024</td>\n",
       "    </tr>\n",
       "  </tbody>\n",
       "</table>\n",
       "</div>"
      ],
      "text/plain": [
       "                  counts  freqs\n",
       "categories                     \n",
       "(-3.118, -1.818]      28  0.028\n",
       "(-1.818, -0.525]     284  0.284\n",
       "(-0.525, 0.768]      484  0.484\n",
       "(0.768, 2.062]       180  0.180\n",
       "(2.062, 3.355]        24  0.024"
      ]
     },
     "execution_count": 4,
     "metadata": {},
     "output_type": "execute_result"
    }
   ],
   "source": [
    "동일구간.describe()"
   ]
  },
  {
   "cell_type": "code",
   "execution_count": 6,
   "metadata": {},
   "outputs": [
    {
     "data": {
      "text/plain": [
       "['D', 'D', 'C', 'C', 'D', ..., 'C', 'B', 'B', 'C', 'D']\n",
       "Length: 1000\n",
       "Categories (5, object): ['A' < 'B' < 'C' < 'D' < 'E']"
      ]
     },
     "execution_count": 6,
     "metadata": {},
     "output_type": "execute_result"
    }
   ],
   "source": [
    "구간지정 = pd.cut(정규난수, bins=[-3.5,-1.5,-0.5,0.5,1.5,3.5], labels=[\"A\",\"B\",\"C\",\"D\",\"E\"])\n",
    "구간지정"
   ]
  },
  {
   "cell_type": "code",
   "execution_count": 7,
   "metadata": {},
   "outputs": [
    {
     "data": {
      "text/html": [
       "<div>\n",
       "<style scoped>\n",
       "    .dataframe tbody tr th:only-of-type {\n",
       "        vertical-align: middle;\n",
       "    }\n",
       "\n",
       "    .dataframe tbody tr th {\n",
       "        vertical-align: top;\n",
       "    }\n",
       "\n",
       "    .dataframe thead th {\n",
       "        text-align: right;\n",
       "    }\n",
       "</style>\n",
       "<table border=\"1\" class=\"dataframe\">\n",
       "  <thead>\n",
       "    <tr style=\"text-align: right;\">\n",
       "      <th></th>\n",
       "      <th>counts</th>\n",
       "      <th>freqs</th>\n",
       "    </tr>\n",
       "    <tr>\n",
       "      <th>categories</th>\n",
       "      <th></th>\n",
       "      <th></th>\n",
       "    </tr>\n",
       "  </thead>\n",
       "  <tbody>\n",
       "    <tr>\n",
       "      <th>A</th>\n",
       "      <td>58</td>\n",
       "      <td>0.058</td>\n",
       "    </tr>\n",
       "    <tr>\n",
       "      <th>B</th>\n",
       "      <td>266</td>\n",
       "      <td>0.266</td>\n",
       "    </tr>\n",
       "    <tr>\n",
       "      <th>C</th>\n",
       "      <td>380</td>\n",
       "      <td>0.380</td>\n",
       "    </tr>\n",
       "    <tr>\n",
       "      <th>D</th>\n",
       "      <td>230</td>\n",
       "      <td>0.230</td>\n",
       "    </tr>\n",
       "    <tr>\n",
       "      <th>E</th>\n",
       "      <td>66</td>\n",
       "      <td>0.066</td>\n",
       "    </tr>\n",
       "  </tbody>\n",
       "</table>\n",
       "</div>"
      ],
      "text/plain": [
       "            counts  freqs\n",
       "categories               \n",
       "A               58  0.058\n",
       "B              266  0.266\n",
       "C              380  0.380\n",
       "D              230  0.230\n",
       "E               66  0.066"
      ]
     },
     "execution_count": 7,
     "metadata": {},
     "output_type": "execute_result"
    }
   ],
   "source": [
    "구간지정.describe()"
   ]
  },
  {
   "cell_type": "code",
   "execution_count": 8,
   "metadata": {},
   "outputs": [
    {
     "data": {
      "text/html": [
       "<div>\n",
       "<style scoped>\n",
       "    .dataframe tbody tr th:only-of-type {\n",
       "        vertical-align: middle;\n",
       "    }\n",
       "\n",
       "    .dataframe tbody tr th {\n",
       "        vertical-align: top;\n",
       "    }\n",
       "\n",
       "    .dataframe thead th {\n",
       "        text-align: right;\n",
       "    }\n",
       "</style>\n",
       "<table border=\"1\" class=\"dataframe\">\n",
       "  <thead>\n",
       "    <tr style=\"text-align: right;\">\n",
       "      <th></th>\n",
       "      <th>counts</th>\n",
       "      <th>freqs</th>\n",
       "    </tr>\n",
       "    <tr>\n",
       "      <th>categories</th>\n",
       "      <th></th>\n",
       "      <th></th>\n",
       "    </tr>\n",
       "  </thead>\n",
       "  <tbody>\n",
       "    <tr>\n",
       "      <th>(-3.112, -0.845]</th>\n",
       "      <td>200</td>\n",
       "      <td>0.2</td>\n",
       "    </tr>\n",
       "    <tr>\n",
       "      <th>(-0.845, -0.295]</th>\n",
       "      <td>200</td>\n",
       "      <td>0.2</td>\n",
       "    </tr>\n",
       "    <tr>\n",
       "      <th>(-0.295, 0.191]</th>\n",
       "      <td>200</td>\n",
       "      <td>0.2</td>\n",
       "    </tr>\n",
       "    <tr>\n",
       "      <th>(0.191, 0.783]</th>\n",
       "      <td>200</td>\n",
       "      <td>0.2</td>\n",
       "    </tr>\n",
       "    <tr>\n",
       "      <th>(0.783, 3.355]</th>\n",
       "      <td>200</td>\n",
       "      <td>0.2</td>\n",
       "    </tr>\n",
       "  </tbody>\n",
       "</table>\n",
       "</div>"
      ],
      "text/plain": [
       "                  counts  freqs\n",
       "categories                     \n",
       "(-3.112, -0.845]     200    0.2\n",
       "(-0.845, -0.295]     200    0.2\n",
       "(-0.295, 0.191]      200    0.2\n",
       "(0.191, 0.783]       200    0.2\n",
       "(0.783, 3.355]       200    0.2"
      ]
     },
     "execution_count": 8,
     "metadata": {},
     "output_type": "execute_result"
    }
   ],
   "source": [
    "동일개수 = pd.qcut(정규난수, q=5)\n",
    "동일개수.describe()"
   ]
  },
  {
   "cell_type": "code",
   "execution_count": 9,
   "metadata": {},
   "outputs": [
    {
     "data": {
      "text/html": [
       "<div>\n",
       "<style scoped>\n",
       "    .dataframe tbody tr th:only-of-type {\n",
       "        vertical-align: middle;\n",
       "    }\n",
       "\n",
       "    .dataframe tbody tr th {\n",
       "        vertical-align: top;\n",
       "    }\n",
       "\n",
       "    .dataframe thead th {\n",
       "        text-align: right;\n",
       "    }\n",
       "</style>\n",
       "<table border=\"1\" class=\"dataframe\">\n",
       "  <thead>\n",
       "    <tr style=\"text-align: right;\">\n",
       "      <th></th>\n",
       "      <th>counts</th>\n",
       "      <th>freqs</th>\n",
       "    </tr>\n",
       "    <tr>\n",
       "      <th>categories</th>\n",
       "      <th></th>\n",
       "      <th></th>\n",
       "    </tr>\n",
       "  </thead>\n",
       "  <tbody>\n",
       "    <tr>\n",
       "      <th>(-3.112, -0.686]</th>\n",
       "      <td>250</td>\n",
       "      <td>0.25</td>\n",
       "    </tr>\n",
       "    <tr>\n",
       "      <th>(-0.686, -0.0377]</th>\n",
       "      <td>250</td>\n",
       "      <td>0.25</td>\n",
       "    </tr>\n",
       "    <tr>\n",
       "      <th>(-0.0377, 0.627]</th>\n",
       "      <td>250</td>\n",
       "      <td>0.25</td>\n",
       "    </tr>\n",
       "    <tr>\n",
       "      <th>(0.627, 3.355]</th>\n",
       "      <td>250</td>\n",
       "      <td>0.25</td>\n",
       "    </tr>\n",
       "  </tbody>\n",
       "</table>\n",
       "</div>"
      ],
      "text/plain": [
       "                   counts  freqs\n",
       "categories                      \n",
       "(-3.112, -0.686]      250   0.25\n",
       "(-0.686, -0.0377]     250   0.25\n",
       "(-0.0377, 0.627]      250   0.25\n",
       "(0.627, 3.355]        250   0.25"
      ]
     },
     "execution_count": 9,
     "metadata": {},
     "output_type": "execute_result"
    }
   ],
   "source": [
    "비율지정 = pd.qcut(정규난수, q=[0,0.25,0.5,0.75,1.])\n",
    "비율지정.describe()"
   ]
  },
  {
   "cell_type": "code",
   "execution_count": 10,
   "metadata": {},
   "outputs": [
    {
     "data": {
      "text/plain": [
       "['D', 'D', 'C', 'C', 'D', ..., 'C', 'B', 'B', 'C', 'D']\n",
       "Length: 1000\n",
       "Categories (5, object): ['A', 'B', 'C', 'D', 'E']"
      ]
     },
     "execution_count": 10,
     "metadata": {},
     "output_type": "execute_result"
    }
   ],
   "source": [
    "##\"명목자료\"로 표시할 떄에는 labels를 설정해야 함\n",
    "구간지정 = pd.cut(정규난수, bins=[-3.5,-1.5,-0.5,0.5,1.5,3.5],labels=[\"A\",\"B\",\"C\",\"D\",\"E\"],ordered=False)\n",
    "구간지정"
   ]
  },
  {
   "cell_type": "code",
   "execution_count": 12,
   "metadata": {},
   "outputs": [
    {
     "data": {
      "text/plain": [
       "Index(['A', 'B', 'C', 'D', 'E'], dtype='object')"
      ]
     },
     "execution_count": 12,
     "metadata": {},
     "output_type": "execute_result"
    }
   ],
   "source": [
    "## 범주값을 활용하고 싶은 경우\n",
    "구간지정.categories"
   ]
  },
  {
   "cell_type": "markdown",
   "metadata": {},
   "source": [
    "### 범주형 자료의 수치화\n",
    "- 명목자료를 가변수로: pandas.get_dummies()\n",
    "- 순서자료를 등간격의 수치로 "
   ]
  },
  {
   "cell_type": "code",
   "execution_count": 14,
   "metadata": {},
   "outputs": [
    {
     "data": {
      "text/html": [
       "<div>\n",
       "<style scoped>\n",
       "    .dataframe tbody tr th:only-of-type {\n",
       "        vertical-align: middle;\n",
       "    }\n",
       "\n",
       "    .dataframe tbody tr th {\n",
       "        vertical-align: top;\n",
       "    }\n",
       "\n",
       "    .dataframe thead th {\n",
       "        text-align: right;\n",
       "    }\n",
       "</style>\n",
       "<table border=\"1\" class=\"dataframe\">\n",
       "  <thead>\n",
       "    <tr style=\"text-align: right;\">\n",
       "      <th></th>\n",
       "      <th>longitude</th>\n",
       "      <th>latitude</th>\n",
       "      <th>housing_median_age</th>\n",
       "      <th>total_rooms</th>\n",
       "      <th>total_bedrooms</th>\n",
       "      <th>population</th>\n",
       "      <th>households</th>\n",
       "      <th>median_income</th>\n",
       "      <th>median_house_value</th>\n",
       "      <th>ocean_proximity</th>\n",
       "    </tr>\n",
       "  </thead>\n",
       "  <tbody>\n",
       "    <tr>\n",
       "      <th>0</th>\n",
       "      <td>-122.23</td>\n",
       "      <td>37.88</td>\n",
       "      <td>41.0</td>\n",
       "      <td>880.0</td>\n",
       "      <td>129.0</td>\n",
       "      <td>322.0</td>\n",
       "      <td>126.0</td>\n",
       "      <td>8.3252</td>\n",
       "      <td>452600.0</td>\n",
       "      <td>NEAR BAY</td>\n",
       "    </tr>\n",
       "    <tr>\n",
       "      <th>1</th>\n",
       "      <td>-122.22</td>\n",
       "      <td>37.86</td>\n",
       "      <td>21.0</td>\n",
       "      <td>7099.0</td>\n",
       "      <td>1106.0</td>\n",
       "      <td>2401.0</td>\n",
       "      <td>1138.0</td>\n",
       "      <td>8.3014</td>\n",
       "      <td>358500.0</td>\n",
       "      <td>NEAR BAY</td>\n",
       "    </tr>\n",
       "    <tr>\n",
       "      <th>2</th>\n",
       "      <td>-122.24</td>\n",
       "      <td>37.85</td>\n",
       "      <td>52.0</td>\n",
       "      <td>1467.0</td>\n",
       "      <td>190.0</td>\n",
       "      <td>496.0</td>\n",
       "      <td>177.0</td>\n",
       "      <td>7.2574</td>\n",
       "      <td>352100.0</td>\n",
       "      <td>NEAR BAY</td>\n",
       "    </tr>\n",
       "    <tr>\n",
       "      <th>3</th>\n",
       "      <td>-122.25</td>\n",
       "      <td>37.85</td>\n",
       "      <td>52.0</td>\n",
       "      <td>1274.0</td>\n",
       "      <td>235.0</td>\n",
       "      <td>558.0</td>\n",
       "      <td>219.0</td>\n",
       "      <td>5.6431</td>\n",
       "      <td>341300.0</td>\n",
       "      <td>NEAR BAY</td>\n",
       "    </tr>\n",
       "    <tr>\n",
       "      <th>4</th>\n",
       "      <td>-122.25</td>\n",
       "      <td>37.85</td>\n",
       "      <td>52.0</td>\n",
       "      <td>1627.0</td>\n",
       "      <td>280.0</td>\n",
       "      <td>565.0</td>\n",
       "      <td>259.0</td>\n",
       "      <td>3.8462</td>\n",
       "      <td>342200.0</td>\n",
       "      <td>NEAR BAY</td>\n",
       "    </tr>\n",
       "  </tbody>\n",
       "</table>\n",
       "</div>"
      ],
      "text/plain": [
       "   longitude  latitude  housing_median_age  total_rooms  total_bedrooms  \\\n",
       "0    -122.23     37.88                41.0        880.0           129.0   \n",
       "1    -122.22     37.86                21.0       7099.0          1106.0   \n",
       "2    -122.24     37.85                52.0       1467.0           190.0   \n",
       "3    -122.25     37.85                52.0       1274.0           235.0   \n",
       "4    -122.25     37.85                52.0       1627.0           280.0   \n",
       "\n",
       "   population  households  median_income  median_house_value ocean_proximity  \n",
       "0       322.0       126.0         8.3252            452600.0        NEAR BAY  \n",
       "1      2401.0      1138.0         8.3014            358500.0        NEAR BAY  \n",
       "2       496.0       177.0         7.2574            352100.0        NEAR BAY  \n",
       "3       558.0       219.0         5.6431            341300.0        NEAR BAY  \n",
       "4       565.0       259.0         3.8462            342200.0        NEAR BAY  "
      ]
     },
     "execution_count": 14,
     "metadata": {},
     "output_type": "execute_result"
    }
   ],
   "source": [
    "주택 = pd.read_csv(\"housing.csv\")\n",
    "주택.head()"
   ]
  },
  {
   "cell_type": "markdown",
   "metadata": {},
   "source": [
    "명목자료를 가변수로 변환"
   ]
  },
  {
   "cell_type": "code",
   "execution_count": 15,
   "metadata": {},
   "outputs": [
    {
     "data": {
      "text/plain": [
       "0        NEAR BAY\n",
       "1        NEAR BAY\n",
       "2        NEAR BAY\n",
       "3        NEAR BAY\n",
       "4        NEAR BAY\n",
       "           ...   \n",
       "20635      INLAND\n",
       "20636      INLAND\n",
       "20637      INLAND\n",
       "20638      INLAND\n",
       "20639      INLAND\n",
       "Name: 해변근접성, Length: 20640, dtype: category\n",
       "Categories (5, object): ['<1H OCEAN', 'INLAND', 'ISLAND', 'NEAR BAY', 'NEAR OCEAN']"
      ]
     },
     "execution_count": 15,
     "metadata": {},
     "output_type": "execute_result"
    }
   ],
   "source": [
    "주택[\"해변근접성\"] = 주택['ocean_proximity'].astype('category')\n",
    "주택[\"해변근접성\"]"
   ]
  },
  {
   "cell_type": "code",
   "execution_count": 16,
   "metadata": {},
   "outputs": [
    {
     "data": {
      "text/html": [
       "<div>\n",
       "<style scoped>\n",
       "    .dataframe tbody tr th:only-of-type {\n",
       "        vertical-align: middle;\n",
       "    }\n",
       "\n",
       "    .dataframe tbody tr th {\n",
       "        vertical-align: top;\n",
       "    }\n",
       "\n",
       "    .dataframe thead th {\n",
       "        text-align: right;\n",
       "    }\n",
       "</style>\n",
       "<table border=\"1\" class=\"dataframe\">\n",
       "  <thead>\n",
       "    <tr style=\"text-align: right;\">\n",
       "      <th></th>\n",
       "      <th>&lt;1H OCEAN</th>\n",
       "      <th>INLAND</th>\n",
       "      <th>ISLAND</th>\n",
       "      <th>NEAR BAY</th>\n",
       "      <th>NEAR OCEAN</th>\n",
       "    </tr>\n",
       "  </thead>\n",
       "  <tbody>\n",
       "    <tr>\n",
       "      <th>0</th>\n",
       "      <td>0</td>\n",
       "      <td>0</td>\n",
       "      <td>0</td>\n",
       "      <td>1</td>\n",
       "      <td>0</td>\n",
       "    </tr>\n",
       "    <tr>\n",
       "      <th>1</th>\n",
       "      <td>0</td>\n",
       "      <td>0</td>\n",
       "      <td>0</td>\n",
       "      <td>1</td>\n",
       "      <td>0</td>\n",
       "    </tr>\n",
       "    <tr>\n",
       "      <th>2</th>\n",
       "      <td>0</td>\n",
       "      <td>0</td>\n",
       "      <td>0</td>\n",
       "      <td>1</td>\n",
       "      <td>0</td>\n",
       "    </tr>\n",
       "    <tr>\n",
       "      <th>3</th>\n",
       "      <td>0</td>\n",
       "      <td>0</td>\n",
       "      <td>0</td>\n",
       "      <td>1</td>\n",
       "      <td>0</td>\n",
       "    </tr>\n",
       "    <tr>\n",
       "      <th>4</th>\n",
       "      <td>0</td>\n",
       "      <td>0</td>\n",
       "      <td>0</td>\n",
       "      <td>1</td>\n",
       "      <td>0</td>\n",
       "    </tr>\n",
       "    <tr>\n",
       "      <th>...</th>\n",
       "      <td>...</td>\n",
       "      <td>...</td>\n",
       "      <td>...</td>\n",
       "      <td>...</td>\n",
       "      <td>...</td>\n",
       "    </tr>\n",
       "    <tr>\n",
       "      <th>20635</th>\n",
       "      <td>0</td>\n",
       "      <td>1</td>\n",
       "      <td>0</td>\n",
       "      <td>0</td>\n",
       "      <td>0</td>\n",
       "    </tr>\n",
       "    <tr>\n",
       "      <th>20636</th>\n",
       "      <td>0</td>\n",
       "      <td>1</td>\n",
       "      <td>0</td>\n",
       "      <td>0</td>\n",
       "      <td>0</td>\n",
       "    </tr>\n",
       "    <tr>\n",
       "      <th>20637</th>\n",
       "      <td>0</td>\n",
       "      <td>1</td>\n",
       "      <td>0</td>\n",
       "      <td>0</td>\n",
       "      <td>0</td>\n",
       "    </tr>\n",
       "    <tr>\n",
       "      <th>20638</th>\n",
       "      <td>0</td>\n",
       "      <td>1</td>\n",
       "      <td>0</td>\n",
       "      <td>0</td>\n",
       "      <td>0</td>\n",
       "    </tr>\n",
       "    <tr>\n",
       "      <th>20639</th>\n",
       "      <td>0</td>\n",
       "      <td>1</td>\n",
       "      <td>0</td>\n",
       "      <td>0</td>\n",
       "      <td>0</td>\n",
       "    </tr>\n",
       "  </tbody>\n",
       "</table>\n",
       "<p>20640 rows × 5 columns</p>\n",
       "</div>"
      ],
      "text/plain": [
       "       <1H OCEAN  INLAND  ISLAND  NEAR BAY  NEAR OCEAN\n",
       "0              0       0       0         1           0\n",
       "1              0       0       0         1           0\n",
       "2              0       0       0         1           0\n",
       "3              0       0       0         1           0\n",
       "4              0       0       0         1           0\n",
       "...          ...     ...     ...       ...         ...\n",
       "20635          0       1       0         0           0\n",
       "20636          0       1       0         0           0\n",
       "20637          0       1       0         0           0\n",
       "20638          0       1       0         0           0\n",
       "20639          0       1       0         0           0\n",
       "\n",
       "[20640 rows x 5 columns]"
      ]
     },
     "execution_count": 16,
     "metadata": {},
     "output_type": "execute_result"
    }
   ],
   "source": [
    "주택위치 =pd.get_dummies(주택[\"해변근접성\"])\n",
    "주택위치"
   ]
  },
  {
   "cell_type": "code",
   "execution_count": 17,
   "metadata": {},
   "outputs": [
    {
     "data": {
      "text/html": [
       "<div>\n",
       "<style scoped>\n",
       "    .dataframe tbody tr th:only-of-type {\n",
       "        vertical-align: middle;\n",
       "    }\n",
       "\n",
       "    .dataframe tbody tr th {\n",
       "        vertical-align: top;\n",
       "    }\n",
       "\n",
       "    .dataframe thead th {\n",
       "        text-align: right;\n",
       "    }\n",
       "</style>\n",
       "<table border=\"1\" class=\"dataframe\">\n",
       "  <thead>\n",
       "    <tr style=\"text-align: right;\">\n",
       "      <th></th>\n",
       "      <th>Ocean</th>\n",
       "      <th>Inland</th>\n",
       "      <th>Island</th>\n",
       "      <th>NearBay</th>\n",
       "      <th>NearOcean</th>\n",
       "    </tr>\n",
       "  </thead>\n",
       "  <tbody>\n",
       "    <tr>\n",
       "      <th>0</th>\n",
       "      <td>0</td>\n",
       "      <td>0</td>\n",
       "      <td>0</td>\n",
       "      <td>1</td>\n",
       "      <td>0</td>\n",
       "    </tr>\n",
       "    <tr>\n",
       "      <th>1</th>\n",
       "      <td>0</td>\n",
       "      <td>0</td>\n",
       "      <td>0</td>\n",
       "      <td>1</td>\n",
       "      <td>0</td>\n",
       "    </tr>\n",
       "    <tr>\n",
       "      <th>2</th>\n",
       "      <td>0</td>\n",
       "      <td>0</td>\n",
       "      <td>0</td>\n",
       "      <td>1</td>\n",
       "      <td>0</td>\n",
       "    </tr>\n",
       "    <tr>\n",
       "      <th>3</th>\n",
       "      <td>0</td>\n",
       "      <td>0</td>\n",
       "      <td>0</td>\n",
       "      <td>1</td>\n",
       "      <td>0</td>\n",
       "    </tr>\n",
       "    <tr>\n",
       "      <th>4</th>\n",
       "      <td>0</td>\n",
       "      <td>0</td>\n",
       "      <td>0</td>\n",
       "      <td>1</td>\n",
       "      <td>0</td>\n",
       "    </tr>\n",
       "    <tr>\n",
       "      <th>...</th>\n",
       "      <td>...</td>\n",
       "      <td>...</td>\n",
       "      <td>...</td>\n",
       "      <td>...</td>\n",
       "      <td>...</td>\n",
       "    </tr>\n",
       "    <tr>\n",
       "      <th>20635</th>\n",
       "      <td>0</td>\n",
       "      <td>1</td>\n",
       "      <td>0</td>\n",
       "      <td>0</td>\n",
       "      <td>0</td>\n",
       "    </tr>\n",
       "    <tr>\n",
       "      <th>20636</th>\n",
       "      <td>0</td>\n",
       "      <td>1</td>\n",
       "      <td>0</td>\n",
       "      <td>0</td>\n",
       "      <td>0</td>\n",
       "    </tr>\n",
       "    <tr>\n",
       "      <th>20637</th>\n",
       "      <td>0</td>\n",
       "      <td>1</td>\n",
       "      <td>0</td>\n",
       "      <td>0</td>\n",
       "      <td>0</td>\n",
       "    </tr>\n",
       "    <tr>\n",
       "      <th>20638</th>\n",
       "      <td>0</td>\n",
       "      <td>1</td>\n",
       "      <td>0</td>\n",
       "      <td>0</td>\n",
       "      <td>0</td>\n",
       "    </tr>\n",
       "    <tr>\n",
       "      <th>20639</th>\n",
       "      <td>0</td>\n",
       "      <td>1</td>\n",
       "      <td>0</td>\n",
       "      <td>0</td>\n",
       "      <td>0</td>\n",
       "    </tr>\n",
       "  </tbody>\n",
       "</table>\n",
       "<p>20640 rows × 5 columns</p>\n",
       "</div>"
      ],
      "text/plain": [
       "       Ocean  Inland  Island  NearBay  NearOcean\n",
       "0          0       0       0        1          0\n",
       "1          0       0       0        1          0\n",
       "2          0       0       0        1          0\n",
       "3          0       0       0        1          0\n",
       "4          0       0       0        1          0\n",
       "...      ...     ...     ...      ...        ...\n",
       "20635      0       1       0        0          0\n",
       "20636      0       1       0        0          0\n",
       "20637      0       1       0        0          0\n",
       "20638      0       1       0        0          0\n",
       "20639      0       1       0        0          0\n",
       "\n",
       "[20640 rows x 5 columns]"
      ]
     },
     "execution_count": 17,
     "metadata": {},
     "output_type": "execute_result"
    }
   ],
   "source": [
    "주택위치.columns = [\"Ocean\", \"Inland\", \"Island\", \"NearBay\", \"NearOcean\"]\n",
    "주택위치"
   ]
  },
  {
   "cell_type": "markdown",
   "metadata": {},
   "source": [
    "순서자료를 동일 간격의 수치로"
   ]
  },
  {
   "cell_type": "code",
   "execution_count": 18,
   "metadata": {},
   "outputs": [
    {
     "data": {
      "text/plain": [
       "['D', 'D', 'C', 'C', 'D', ..., 'C', 'B', 'B', 'C', 'D']\n",
       "Length: 1000\n",
       "Categories (5, object): ['A', 'B', 'C', 'D', 'E']"
      ]
     },
     "execution_count": 18,
     "metadata": {},
     "output_type": "execute_result"
    }
   ],
   "source": [
    "구간지정\n",
    "##데이터 프레임 확인 : dtypes\n",
    "## 데이터 프레임 변경:astype"
   ]
  },
  {
   "cell_type": "code",
   "execution_count": 20,
   "metadata": {},
   "outputs": [
    {
     "data": {
      "text/plain": [
       "['D', 'D', 'C', 'C', 'D', ..., 'C', 'B', 'B', 'C', 'D']\n",
       "Length: 1000\n",
       "Categories (5, object): ['A' < 'B' < 'C' < 'D' < 'E']"
      ]
     },
     "execution_count": 20,
     "metadata": {},
     "output_type": "execute_result"
    }
   ],
   "source": [
    "##명목자료를 순서자료로\n",
    "from pandas.api.types import CategoricalDtype\n",
    "\n",
    "순서지정 = ['A','B','C','D','E']\n",
    "순서구간 = 구간지정.astype(CategoricalDtype(categories=순서지정,ordered=True))\n",
    "순서구간"
   ]
  },
  {
   "cell_type": "markdown",
   "metadata": {},
   "source": [
    "### 변수의 종류(수치자료와 범주형자료) 확인\n",
    "- _get_numeric_data 메서드\n",
    "- select_dtypes()"
   ]
  },
  {
   "cell_type": "code",
   "execution_count": 21,
   "metadata": {},
   "outputs": [
    {
     "name": "stdout",
     "output_type": "stream",
     "text": [
      "전체변수명: ['longitude', 'latitude', 'housing_median_age', 'total_rooms', 'total_bedrooms', 'population', 'households', 'median_income', 'median_house_value', 'ocean_proximity', '해변근접성']\n",
      "전체변수명: ['longitude', 'latitude', 'housing_median_age', 'total_rooms', 'total_bedrooms', 'population', 'households', 'median_income', 'median_house_value']\n",
      "전체변수명: ['ocean_proximity', '해변근접성']\n"
     ]
    }
   ],
   "source": [
    "변수명= 주택.columns.tolist()\n",
    "수치변수명 = 주택._get_numeric_data().columns.tolist()\n",
    "범주변수명 = list(set(변수명)-set(수치변수명))\n",
    "print(\"전체변수명:\", 변수명)\n",
    "print(\"수치변수명:\", 수치변수명)\n",
    "print(\"범주변수명:\", 범주변수명)"
   ]
  },
  {
   "cell_type": "code",
   "execution_count": 22,
   "metadata": {},
   "outputs": [
    {
     "name": "stdout",
     "output_type": "stream",
     "text": [
      "수치변수명: ['longitude', 'latitude', 'housing_median_age', 'total_rooms', 'total_bedrooms', 'population', 'households', 'median_income', 'median_house_value']\n",
      "범주변수명: ['ocean_proximity', '해변근접성']\n"
     ]
    }
   ],
   "source": [
    "수치변수명 = 주택.select_dtypes(include=np.number).columns.tolist()\n",
    "범주변수명 = 주택.select_dtypes(exclude=np.number).columns.tolist()\n",
    "print(\"수치변수명:\", 수치변수명)\n",
    "print(\"범주변수명:\", 범주변수명)"
   ]
  },
  {
   "cell_type": "markdown",
   "metadata": {},
   "source": [
    "### 표준화 & 정규화"
   ]
  },
  {
   "cell_type": "code",
   "execution_count": 23,
   "metadata": {},
   "outputs": [
    {
     "name": "stdout",
     "output_type": "stream",
     "text": [
      "<class 'pandas.core.frame.DataFrame'>\n",
      "RangeIndex: 20640 entries, 0 to 20639\n",
      "Data columns (total 11 columns):\n",
      " #   Column              Non-Null Count  Dtype   \n",
      "---  ------              --------------  -----   \n",
      " 0   longitude           20640 non-null  float64 \n",
      " 1   latitude            20640 non-null  float64 \n",
      " 2   housing_median_age  20640 non-null  float64 \n",
      " 3   total_rooms         20640 non-null  float64 \n",
      " 4   total_bedrooms      20433 non-null  float64 \n",
      " 5   population          20640 non-null  float64 \n",
      " 6   households          20640 non-null  float64 \n",
      " 7   median_income       20640 non-null  float64 \n",
      " 8   median_house_value  20640 non-null  float64 \n",
      " 9   ocean_proximity     20640 non-null  object  \n",
      " 10  해변근접성               20640 non-null  category\n",
      "dtypes: category(1), float64(9), object(1)\n",
      "memory usage: 1.6+ MB\n"
     ]
    }
   ],
   "source": [
    "주택.info()"
   ]
  },
  {
   "cell_type": "code",
   "execution_count": 24,
   "metadata": {},
   "outputs": [
    {
     "data": {
      "text/html": [
       "<div>\n",
       "<style scoped>\n",
       "    .dataframe tbody tr th:only-of-type {\n",
       "        vertical-align: middle;\n",
       "    }\n",
       "\n",
       "    .dataframe tbody tr th {\n",
       "        vertical-align: top;\n",
       "    }\n",
       "\n",
       "    .dataframe thead th {\n",
       "        text-align: right;\n",
       "    }\n",
       "</style>\n",
       "<table border=\"1\" class=\"dataframe\">\n",
       "  <thead>\n",
       "    <tr style=\"text-align: right;\">\n",
       "      <th></th>\n",
       "      <th>housing_median_age</th>\n",
       "      <th>total_rooms</th>\n",
       "      <th>total_bedrooms</th>\n",
       "      <th>population</th>\n",
       "      <th>households</th>\n",
       "      <th>median_income</th>\n",
       "    </tr>\n",
       "  </thead>\n",
       "  <tbody>\n",
       "    <tr>\n",
       "      <th>0</th>\n",
       "      <td>41.0</td>\n",
       "      <td>880.0</td>\n",
       "      <td>129.0</td>\n",
       "      <td>322.0</td>\n",
       "      <td>126.0</td>\n",
       "      <td>8.3252</td>\n",
       "    </tr>\n",
       "    <tr>\n",
       "      <th>1</th>\n",
       "      <td>21.0</td>\n",
       "      <td>7099.0</td>\n",
       "      <td>1106.0</td>\n",
       "      <td>2401.0</td>\n",
       "      <td>1138.0</td>\n",
       "      <td>8.3014</td>\n",
       "    </tr>\n",
       "    <tr>\n",
       "      <th>2</th>\n",
       "      <td>52.0</td>\n",
       "      <td>1467.0</td>\n",
       "      <td>190.0</td>\n",
       "      <td>496.0</td>\n",
       "      <td>177.0</td>\n",
       "      <td>7.2574</td>\n",
       "    </tr>\n",
       "    <tr>\n",
       "      <th>3</th>\n",
       "      <td>52.0</td>\n",
       "      <td>1274.0</td>\n",
       "      <td>235.0</td>\n",
       "      <td>558.0</td>\n",
       "      <td>219.0</td>\n",
       "      <td>5.6431</td>\n",
       "    </tr>\n",
       "    <tr>\n",
       "      <th>4</th>\n",
       "      <td>52.0</td>\n",
       "      <td>1627.0</td>\n",
       "      <td>280.0</td>\n",
       "      <td>565.0</td>\n",
       "      <td>259.0</td>\n",
       "      <td>3.8462</td>\n",
       "    </tr>\n",
       "  </tbody>\n",
       "</table>\n",
       "</div>"
      ],
      "text/plain": [
       "   housing_median_age  total_rooms  total_bedrooms  population  households  \\\n",
       "0                41.0        880.0           129.0       322.0       126.0   \n",
       "1                21.0       7099.0          1106.0      2401.0      1138.0   \n",
       "2                52.0       1467.0           190.0       496.0       177.0   \n",
       "3                52.0       1274.0           235.0       558.0       219.0   \n",
       "4                52.0       1627.0           280.0       565.0       259.0   \n",
       "\n",
       "   median_income  \n",
       "0         8.3252  \n",
       "1         8.3014  \n",
       "2         7.2574  \n",
       "3         5.6431  \n",
       "4         3.8462  "
      ]
     },
     "execution_count": 24,
     "metadata": {},
     "output_type": "execute_result"
    }
   ],
   "source": [
    "수치자료 = 주택.iloc[:,[2,3,4,5,6,7]]# 행, 열 -> 칼럼만 뽑음 \n",
    "수치자료.head()"
   ]
  },
  {
   "cell_type": "code",
   "execution_count": 25,
   "metadata": {},
   "outputs": [
    {
     "data": {
      "text/html": [
       "<div>\n",
       "<style scoped>\n",
       "    .dataframe tbody tr th:only-of-type {\n",
       "        vertical-align: middle;\n",
       "    }\n",
       "\n",
       "    .dataframe tbody tr th {\n",
       "        vertical-align: top;\n",
       "    }\n",
       "\n",
       "    .dataframe thead th {\n",
       "        text-align: right;\n",
       "    }\n",
       "</style>\n",
       "<table border=\"1\" class=\"dataframe\">\n",
       "  <thead>\n",
       "    <tr style=\"text-align: right;\">\n",
       "      <th></th>\n",
       "      <th>housing_median_age</th>\n",
       "      <th>total_rooms</th>\n",
       "      <th>total_bedrooms</th>\n",
       "      <th>population</th>\n",
       "      <th>households</th>\n",
       "      <th>median_income</th>\n",
       "    </tr>\n",
       "  </thead>\n",
       "  <tbody>\n",
       "    <tr>\n",
       "      <th>0</th>\n",
       "      <td>12.360514</td>\n",
       "      <td>-1755.763081</td>\n",
       "      <td>-408.870553</td>\n",
       "      <td>-1103.476744</td>\n",
       "      <td>-373.53968</td>\n",
       "      <td>4.454529</td>\n",
       "    </tr>\n",
       "    <tr>\n",
       "      <th>1</th>\n",
       "      <td>-7.639486</td>\n",
       "      <td>4463.236919</td>\n",
       "      <td>568.129447</td>\n",
       "      <td>975.523256</td>\n",
       "      <td>638.46032</td>\n",
       "      <td>4.430729</td>\n",
       "    </tr>\n",
       "    <tr>\n",
       "      <th>2</th>\n",
       "      <td>23.360514</td>\n",
       "      <td>-1168.763081</td>\n",
       "      <td>-347.870553</td>\n",
       "      <td>-929.476744</td>\n",
       "      <td>-322.53968</td>\n",
       "      <td>3.386729</td>\n",
       "    </tr>\n",
       "    <tr>\n",
       "      <th>3</th>\n",
       "      <td>23.360514</td>\n",
       "      <td>-1361.763081</td>\n",
       "      <td>-302.870553</td>\n",
       "      <td>-867.476744</td>\n",
       "      <td>-280.53968</td>\n",
       "      <td>1.772429</td>\n",
       "    </tr>\n",
       "    <tr>\n",
       "      <th>4</th>\n",
       "      <td>23.360514</td>\n",
       "      <td>-1008.763081</td>\n",
       "      <td>-257.870553</td>\n",
       "      <td>-860.476744</td>\n",
       "      <td>-240.53968</td>\n",
       "      <td>-0.024471</td>\n",
       "    </tr>\n",
       "    <tr>\n",
       "      <th>...</th>\n",
       "      <td>...</td>\n",
       "      <td>...</td>\n",
       "      <td>...</td>\n",
       "      <td>...</td>\n",
       "      <td>...</td>\n",
       "      <td>...</td>\n",
       "    </tr>\n",
       "    <tr>\n",
       "      <th>20635</th>\n",
       "      <td>-3.639486</td>\n",
       "      <td>-970.763081</td>\n",
       "      <td>-163.870553</td>\n",
       "      <td>-580.476744</td>\n",
       "      <td>-169.53968</td>\n",
       "      <td>-2.310371</td>\n",
       "    </tr>\n",
       "    <tr>\n",
       "      <th>20636</th>\n",
       "      <td>-10.639486</td>\n",
       "      <td>-1938.763081</td>\n",
       "      <td>-387.870553</td>\n",
       "      <td>-1069.476744</td>\n",
       "      <td>-385.53968</td>\n",
       "      <td>-1.313871</td>\n",
       "    </tr>\n",
       "    <tr>\n",
       "      <th>20637</th>\n",
       "      <td>-11.639486</td>\n",
       "      <td>-381.763081</td>\n",
       "      <td>-52.870553</td>\n",
       "      <td>-418.476744</td>\n",
       "      <td>-66.53968</td>\n",
       "      <td>-2.170671</td>\n",
       "    </tr>\n",
       "    <tr>\n",
       "      <th>20638</th>\n",
       "      <td>-10.639486</td>\n",
       "      <td>-775.763081</td>\n",
       "      <td>-128.870553</td>\n",
       "      <td>-684.476744</td>\n",
       "      <td>-150.53968</td>\n",
       "      <td>-2.003471</td>\n",
       "    </tr>\n",
       "    <tr>\n",
       "      <th>20639</th>\n",
       "      <td>-12.639486</td>\n",
       "      <td>149.236919</td>\n",
       "      <td>78.129447</td>\n",
       "      <td>-38.476744</td>\n",
       "      <td>30.46032</td>\n",
       "      <td>-1.482071</td>\n",
       "    </tr>\n",
       "  </tbody>\n",
       "</table>\n",
       "<p>20640 rows × 6 columns</p>\n",
       "</div>"
      ],
      "text/plain": [
       "       housing_median_age  total_rooms  total_bedrooms   population  \\\n",
       "0               12.360514 -1755.763081     -408.870553 -1103.476744   \n",
       "1               -7.639486  4463.236919      568.129447   975.523256   \n",
       "2               23.360514 -1168.763081     -347.870553  -929.476744   \n",
       "3               23.360514 -1361.763081     -302.870553  -867.476744   \n",
       "4               23.360514 -1008.763081     -257.870553  -860.476744   \n",
       "...                   ...          ...             ...          ...   \n",
       "20635           -3.639486  -970.763081     -163.870553  -580.476744   \n",
       "20636          -10.639486 -1938.763081     -387.870553 -1069.476744   \n",
       "20637          -11.639486  -381.763081      -52.870553  -418.476744   \n",
       "20638          -10.639486  -775.763081     -128.870553  -684.476744   \n",
       "20639          -12.639486   149.236919       78.129447   -38.476744   \n",
       "\n",
       "       households  median_income  \n",
       "0      -373.53968       4.454529  \n",
       "1       638.46032       4.430729  \n",
       "2      -322.53968       3.386729  \n",
       "3      -280.53968       1.772429  \n",
       "4      -240.53968      -0.024471  \n",
       "...           ...            ...  \n",
       "20635  -169.53968      -2.310371  \n",
       "20636  -385.53968      -1.313871  \n",
       "20637   -66.53968      -2.170671  \n",
       "20638  -150.53968      -2.003471  \n",
       "20639    30.46032      -1.482071  \n",
       "\n",
       "[20640 rows x 6 columns]"
      ]
     },
     "execution_count": 25,
     "metadata": {},
     "output_type": "execute_result"
    }
   ],
   "source": [
    "수치자료 - 수치자료.mean(axis=0)"
   ]
  },
  {
   "cell_type": "code",
   "execution_count": 26,
   "metadata": {},
   "outputs": [
    {
     "data": {
      "text/html": [
       "<div>\n",
       "<style scoped>\n",
       "    .dataframe tbody tr th:only-of-type {\n",
       "        vertical-align: middle;\n",
       "    }\n",
       "\n",
       "    .dataframe tbody tr th {\n",
       "        vertical-align: top;\n",
       "    }\n",
       "\n",
       "    .dataframe thead th {\n",
       "        text-align: right;\n",
       "    }\n",
       "</style>\n",
       "<table border=\"1\" class=\"dataframe\">\n",
       "  <thead>\n",
       "    <tr style=\"text-align: right;\">\n",
       "      <th></th>\n",
       "      <th>housing_median_age</th>\n",
       "      <th>total_rooms</th>\n",
       "      <th>total_bedrooms</th>\n",
       "      <th>population</th>\n",
       "      <th>households</th>\n",
       "      <th>median_income</th>\n",
       "    </tr>\n",
       "  </thead>\n",
       "  <tbody>\n",
       "    <tr>\n",
       "      <th>0</th>\n",
       "      <td>0.982119</td>\n",
       "      <td>-0.804800</td>\n",
       "      <td>-0.970301</td>\n",
       "      <td>-0.974405</td>\n",
       "      <td>-0.977009</td>\n",
       "      <td>2.344709</td>\n",
       "    </tr>\n",
       "    <tr>\n",
       "      <th>1</th>\n",
       "      <td>-0.607004</td>\n",
       "      <td>2.045841</td>\n",
       "      <td>1.348243</td>\n",
       "      <td>0.861418</td>\n",
       "      <td>1.669921</td>\n",
       "      <td>2.332181</td>\n",
       "    </tr>\n",
       "    <tr>\n",
       "      <th>2</th>\n",
       "      <td>1.856137</td>\n",
       "      <td>-0.535733</td>\n",
       "      <td>-0.825541</td>\n",
       "      <td>-0.820757</td>\n",
       "      <td>-0.843616</td>\n",
       "      <td>1.782656</td>\n",
       "    </tr>\n",
       "    <tr>\n",
       "      <th>3</th>\n",
       "      <td>1.856137</td>\n",
       "      <td>-0.624199</td>\n",
       "      <td>-0.718750</td>\n",
       "      <td>-0.766010</td>\n",
       "      <td>-0.733764</td>\n",
       "      <td>0.932945</td>\n",
       "    </tr>\n",
       "    <tr>\n",
       "      <th>4</th>\n",
       "      <td>1.856137</td>\n",
       "      <td>-0.462393</td>\n",
       "      <td>-0.611959</td>\n",
       "      <td>-0.759828</td>\n",
       "      <td>-0.629142</td>\n",
       "      <td>-0.012881</td>\n",
       "    </tr>\n",
       "  </tbody>\n",
       "</table>\n",
       "</div>"
      ],
      "text/plain": [
       "   housing_median_age  total_rooms  total_bedrooms  population  households  \\\n",
       "0            0.982119    -0.804800       -0.970301   -0.974405   -0.977009   \n",
       "1           -0.607004     2.045841        1.348243    0.861418    1.669921   \n",
       "2            1.856137    -0.535733       -0.825541   -0.820757   -0.843616   \n",
       "3            1.856137    -0.624199       -0.718750   -0.766010   -0.733764   \n",
       "4            1.856137    -0.462393       -0.611959   -0.759828   -0.629142   \n",
       "\n",
       "   median_income  \n",
       "0       2.344709  \n",
       "1       2.332181  \n",
       "2       1.782656  \n",
       "3       0.932945  \n",
       "4      -0.012881  "
      ]
     },
     "execution_count": 26,
     "metadata": {},
     "output_type": "execute_result"
    }
   ],
   "source": [
    "표준자료 = (수치자료-수치자료.mean(axis=0))/수치자료.std(axis=0)\n",
    "표준자료.head()"
   ]
  },
  {
   "cell_type": "code",
   "execution_count": 27,
   "metadata": {},
   "outputs": [
    {
     "data": {
      "text/html": [
       "<div>\n",
       "<style scoped>\n",
       "    .dataframe tbody tr th:only-of-type {\n",
       "        vertical-align: middle;\n",
       "    }\n",
       "\n",
       "    .dataframe tbody tr th {\n",
       "        vertical-align: top;\n",
       "    }\n",
       "\n",
       "    .dataframe thead th {\n",
       "        text-align: right;\n",
       "    }\n",
       "</style>\n",
       "<table border=\"1\" class=\"dataframe\">\n",
       "  <thead>\n",
       "    <tr style=\"text-align: right;\">\n",
       "      <th></th>\n",
       "      <th>housing_median_age</th>\n",
       "      <th>total_rooms</th>\n",
       "      <th>total_bedrooms</th>\n",
       "      <th>population</th>\n",
       "      <th>households</th>\n",
       "      <th>median_income</th>\n",
       "    </tr>\n",
       "  </thead>\n",
       "  <tbody>\n",
       "    <tr>\n",
       "      <th>20635</th>\n",
       "      <td>0.470588</td>\n",
       "      <td>0.042296</td>\n",
       "      <td>0.057883</td>\n",
       "      <td>0.023599</td>\n",
       "      <td>0.054103</td>\n",
       "      <td>0.073130</td>\n",
       "    </tr>\n",
       "    <tr>\n",
       "      <th>20636</th>\n",
       "      <td>0.333333</td>\n",
       "      <td>0.017676</td>\n",
       "      <td>0.023122</td>\n",
       "      <td>0.009894</td>\n",
       "      <td>0.018582</td>\n",
       "      <td>0.141853</td>\n",
       "    </tr>\n",
       "    <tr>\n",
       "      <th>20637</th>\n",
       "      <td>0.313725</td>\n",
       "      <td>0.057277</td>\n",
       "      <td>0.075109</td>\n",
       "      <td>0.028140</td>\n",
       "      <td>0.071041</td>\n",
       "      <td>0.082764</td>\n",
       "    </tr>\n",
       "    <tr>\n",
       "      <th>20638</th>\n",
       "      <td>0.333333</td>\n",
       "      <td>0.047256</td>\n",
       "      <td>0.063315</td>\n",
       "      <td>0.020684</td>\n",
       "      <td>0.057227</td>\n",
       "      <td>0.094295</td>\n",
       "    </tr>\n",
       "    <tr>\n",
       "      <th>20639</th>\n",
       "      <td>0.294118</td>\n",
       "      <td>0.070782</td>\n",
       "      <td>0.095438</td>\n",
       "      <td>0.038790</td>\n",
       "      <td>0.086992</td>\n",
       "      <td>0.130253</td>\n",
       "    </tr>\n",
       "  </tbody>\n",
       "</table>\n",
       "</div>"
      ],
      "text/plain": [
       "       housing_median_age  total_rooms  total_bedrooms  population  \\\n",
       "20635            0.470588     0.042296        0.057883    0.023599   \n",
       "20636            0.333333     0.017676        0.023122    0.009894   \n",
       "20637            0.313725     0.057277        0.075109    0.028140   \n",
       "20638            0.333333     0.047256        0.063315    0.020684   \n",
       "20639            0.294118     0.070782        0.095438    0.038790   \n",
       "\n",
       "       households  median_income  \n",
       "20635    0.054103       0.073130  \n",
       "20636    0.018582       0.141853  \n",
       "20637    0.071041       0.082764  \n",
       "20638    0.057227       0.094295  \n",
       "20639    0.086992       0.130253  "
      ]
     },
     "execution_count": 27,
     "metadata": {},
     "output_type": "execute_result"
    }
   ],
   "source": [
    "정규자료 =(수치자료-수치자료.min(axis=0))/(수치자료.max(axis=0)-수치자료.min(axis=0))\n",
    "정규자료.tail()"
   ]
  },
  {
   "cell_type": "markdown",
   "metadata": {},
   "source": [
    "#### 시간자료 처리"
   ]
  },
  {
   "cell_type": "code",
   "execution_count": 28,
   "metadata": {},
   "outputs": [
    {
     "data": {
      "text/plain": [
       "DatetimeIndex(['2023-03-02', '2023-03-03', '2023-03-04', '2023-03-05',\n",
       "               '2023-03-06', '2023-03-07', '2023-03-08', '2023-03-09',\n",
       "               '2023-03-10', '2023-03-11',\n",
       "               ...\n",
       "               '2023-06-12', '2023-06-13', '2023-06-14', '2023-06-15',\n",
       "               '2023-06-16', '2023-06-17', '2023-06-18', '2023-06-19',\n",
       "               '2023-06-20', '2023-06-21'],\n",
       "              dtype='datetime64[ns]', length=112, freq='D')"
      ]
     },
     "execution_count": 28,
     "metadata": {},
     "output_type": "execute_result"
    }
   ],
   "source": [
    "# 시간 생성\n",
    "pd.date_range(\"2023-3-2\", \"2023-6-21\")"
   ]
  },
  {
   "cell_type": "code",
   "execution_count": 29,
   "metadata": {},
   "outputs": [
    {
     "data": {
      "text/plain": [
       "DatetimeIndex(['2023-03-02', '2023-03-03', '2023-03-04', '2023-03-05',\n",
       "               '2023-03-06', '2023-03-07', '2023-03-08', '2023-03-09',\n",
       "               '2023-03-10', '2023-03-11', '2023-03-12', '2023-03-13',\n",
       "               '2023-03-14', '2023-03-15', '2023-03-16', '2023-03-17',\n",
       "               '2023-03-18', '2023-03-19', '2023-03-20', '2023-03-21',\n",
       "               '2023-03-22', '2023-03-23', '2023-03-24', '2023-03-25',\n",
       "               '2023-03-26', '2023-03-27', '2023-03-28', '2023-03-29',\n",
       "               '2023-03-30', '2023-03-31', '2023-04-01', '2023-04-02',\n",
       "               '2023-04-03', '2023-04-04', '2023-04-05', '2023-04-06',\n",
       "               '2023-04-07', '2023-04-08', '2023-04-09', '2023-04-10',\n",
       "               '2023-04-11', '2023-04-12', '2023-04-13', '2023-04-14',\n",
       "               '2023-04-15', '2023-04-16', '2023-04-17', '2023-04-18',\n",
       "               '2023-04-19', '2023-04-20', '2023-04-21', '2023-04-22',\n",
       "               '2023-04-23', '2023-04-24', '2023-04-25', '2023-04-26',\n",
       "               '2023-04-27', '2023-04-28', '2023-04-29', '2023-04-30',\n",
       "               '2023-05-01', '2023-05-02', '2023-05-03', '2023-05-04',\n",
       "               '2023-05-05', '2023-05-06', '2023-05-07', '2023-05-08',\n",
       "               '2023-05-09', '2023-05-10', '2023-05-11', '2023-05-12',\n",
       "               '2023-05-13', '2023-05-14', '2023-05-15', '2023-05-16',\n",
       "               '2023-05-17', '2023-05-18', '2023-05-19', '2023-05-20',\n",
       "               '2023-05-21', '2023-05-22', '2023-05-23', '2023-05-24',\n",
       "               '2023-05-25', '2023-05-26', '2023-05-27', '2023-05-28',\n",
       "               '2023-05-29', '2023-05-30', '2023-05-31', '2023-06-01',\n",
       "               '2023-06-02', '2023-06-03', '2023-06-04', '2023-06-05',\n",
       "               '2023-06-06', '2023-06-07', '2023-06-08', '2023-06-09'],\n",
       "              dtype='datetime64[ns]', freq='D')"
      ]
     },
     "execution_count": 29,
     "metadata": {},
     "output_type": "execute_result"
    }
   ],
   "source": [
    "pd.date_range(\"2023-3-2\",periods=100)"
   ]
  },
  {
   "cell_type": "markdown",
   "metadata": {},
   "source": [
    "주기\n",
    "- s:초\n",
    "- T:분\n",
    "- H:시간\n",
    "- D:일\n",
    "- B:주말이 아닌 평일\n",
    "- W:주\n",
    "- W-MON: 주(월요일)\n",
    "- M :각 달의 마지막날\n",
    "- MS: 각 달의 첫날\n",
    "- BM: 주말이 아닌 평일 중에서 각 달의 마지막 날\n",
    "- BMS: 주말이 아닌 평일 중에서 각 달의 첫날\n",
    "- WOM-2THU :각 달의 두번째 목요일\n",
    "- Q-JAN: 각 분기의 첫달의 마지막 날\n",
    "- Q-DEC: 각 분기의 마지막 달의 마지막 날"
   ]
  },
  {
   "cell_type": "code",
   "execution_count": 30,
   "metadata": {},
   "outputs": [
    {
     "data": {
      "text/plain": [
       "DatetimeIndex(['2023-03-02 00:00:00', '2023-03-02 01:00:00',\n",
       "               '2023-03-02 02:00:00', '2023-03-02 03:00:00',\n",
       "               '2023-03-02 04:00:00'],\n",
       "              dtype='datetime64[ns]', freq='H')"
      ]
     },
     "execution_count": 30,
     "metadata": {},
     "output_type": "execute_result"
    }
   ],
   "source": [
    "pd.date_range(\"2023-3-2\",periods=5, freq=\"h\")"
   ]
  },
  {
   "cell_type": "code",
   "execution_count": 35,
   "metadata": {},
   "outputs": [
    {
     "name": "stdout",
     "output_type": "stream",
     "text": [
      "<class 'pandas.core.frame.DataFrame'>\n",
      "RangeIndex: 8 entries, 0 to 7\n",
      "Data columns (total 1 columns):\n",
      " #   Column  Non-Null Count  Dtype \n",
      "---  ------  --------------  ----- \n",
      " 0   날짜      8 non-null      object\n",
      "dtypes: object(1)\n",
      "memory usage: 192.0+ bytes\n"
     ]
    }
   ],
   "source": [
    "#date time index 사용\n",
    "시간자료 = pd.DataFrame({'날짜': ['2023-01-01 01:10:00', '2023-02-25 03:20:20',\n",
    "                                   '2023-03-02 06:30:00','2023-04-19 10:40:30',\n",
    "                                    '2023-05-16 12:50:00','2023-06-29 15:00:30',\n",
    "                                    '2023-07-01 18:10:00','2023-09-15 21:50:30']})\n",
    "시간자료.info()"
   ]
  },
  {
   "cell_type": "code",
   "execution_count": 36,
   "metadata": {},
   "outputs": [
    {
     "name": "stdout",
     "output_type": "stream",
     "text": [
      "<class 'pandas.core.frame.DataFrame'>\n",
      "RangeIndex: 8 entries, 0 to 7\n",
      "Data columns (total 1 columns):\n",
      " #   Column  Non-Null Count  Dtype         \n",
      "---  ------  --------------  -----         \n",
      " 0   날짜      8 non-null      datetime64[ns]\n",
      "dtypes: datetime64[ns](1)\n",
      "memory usage: 192.0 bytes\n"
     ]
    }
   ],
   "source": [
    "# 시간자료로 변환\n",
    "시간자료['날짜'] = pd.to_datetime(시간자료['날짜'],format='%Y-%m-%d %H:%M:%S', errors='raise')\n",
    "시간자료.info()"
   ]
  },
  {
   "cell_type": "code",
   "execution_count": 38,
   "metadata": {},
   "outputs": [
    {
     "data": {
      "text/html": [
       "<div>\n",
       "<style scoped>\n",
       "    .dataframe tbody tr th:only-of-type {\n",
       "        vertical-align: middle;\n",
       "    }\n",
       "\n",
       "    .dataframe tbody tr th {\n",
       "        vertical-align: top;\n",
       "    }\n",
       "\n",
       "    .dataframe thead th {\n",
       "        text-align: right;\n",
       "    }\n",
       "</style>\n",
       "<table border=\"1\" class=\"dataframe\">\n",
       "  <thead>\n",
       "    <tr style=\"text-align: right;\">\n",
       "      <th></th>\n",
       "      <th>날짜</th>\n",
       "      <th>date</th>\n",
       "      <th>year</th>\n",
       "      <th>month</th>\n",
       "      <th>월이름</th>\n",
       "      <th>day</th>\n",
       "      <th>time</th>\n",
       "      <th>hour</th>\n",
       "      <th>minute</th>\n",
       "      <th>second</th>\n",
       "    </tr>\n",
       "  </thead>\n",
       "  <tbody>\n",
       "    <tr>\n",
       "      <th>0</th>\n",
       "      <td>2023-01-01 01:10:00</td>\n",
       "      <td>2023-01-01</td>\n",
       "      <td>2023</td>\n",
       "      <td>1</td>\n",
       "      <td>January</td>\n",
       "      <td>1</td>\n",
       "      <td>01:10:00</td>\n",
       "      <td>1</td>\n",
       "      <td>10</td>\n",
       "      <td>0</td>\n",
       "    </tr>\n",
       "    <tr>\n",
       "      <th>1</th>\n",
       "      <td>2023-02-25 03:20:20</td>\n",
       "      <td>2023-02-25</td>\n",
       "      <td>2023</td>\n",
       "      <td>2</td>\n",
       "      <td>February</td>\n",
       "      <td>25</td>\n",
       "      <td>03:20:20</td>\n",
       "      <td>3</td>\n",
       "      <td>20</td>\n",
       "      <td>20</td>\n",
       "    </tr>\n",
       "    <tr>\n",
       "      <th>2</th>\n",
       "      <td>2023-03-02 06:30:00</td>\n",
       "      <td>2023-03-02</td>\n",
       "      <td>2023</td>\n",
       "      <td>3</td>\n",
       "      <td>March</td>\n",
       "      <td>2</td>\n",
       "      <td>06:30:00</td>\n",
       "      <td>6</td>\n",
       "      <td>30</td>\n",
       "      <td>0</td>\n",
       "    </tr>\n",
       "    <tr>\n",
       "      <th>3</th>\n",
       "      <td>2023-04-19 10:40:30</td>\n",
       "      <td>2023-04-19</td>\n",
       "      <td>2023</td>\n",
       "      <td>4</td>\n",
       "      <td>April</td>\n",
       "      <td>19</td>\n",
       "      <td>10:40:30</td>\n",
       "      <td>10</td>\n",
       "      <td>40</td>\n",
       "      <td>30</td>\n",
       "    </tr>\n",
       "    <tr>\n",
       "      <th>4</th>\n",
       "      <td>2023-05-16 12:50:00</td>\n",
       "      <td>2023-05-16</td>\n",
       "      <td>2023</td>\n",
       "      <td>5</td>\n",
       "      <td>May</td>\n",
       "      <td>16</td>\n",
       "      <td>12:50:00</td>\n",
       "      <td>12</td>\n",
       "      <td>50</td>\n",
       "      <td>0</td>\n",
       "    </tr>\n",
       "  </tbody>\n",
       "</table>\n",
       "</div>"
      ],
      "text/plain": [
       "                   날짜        date  year  month       월이름  day      time  hour  \\\n",
       "0 2023-01-01 01:10:00  2023-01-01  2023      1   January    1  01:10:00     1   \n",
       "1 2023-02-25 03:20:20  2023-02-25  2023      2  February   25  03:20:20     3   \n",
       "2 2023-03-02 06:30:00  2023-03-02  2023      3     March    2  06:30:00     6   \n",
       "3 2023-04-19 10:40:30  2023-04-19  2023      4     April   19  10:40:30    10   \n",
       "4 2023-05-16 12:50:00  2023-05-16  2023      5       May   16  12:50:00    12   \n",
       "\n",
       "   minute  second  \n",
       "0      10       0  \n",
       "1      20      20  \n",
       "2      30       0  \n",
       "3      40      30  \n",
       "4      50       0  "
      ]
     },
     "execution_count": 38,
     "metadata": {},
     "output_type": "execute_result"
    }
   ],
   "source": [
    "시간자료['date'] = 시간자료['날짜'].dt.date\n",
    "시간자료['year'] = 시간자료['날짜'].dt.year\n",
    "시간자료['month'] = 시간자료['날짜'].dt.month\n",
    "시간자료['월이름'] = 시간자료['날짜'].dt.month_name()\n",
    "시간자료['day'] = 시간자료['날짜'].dt.day\n",
    "시간자료['time'] = 시간자료['날짜'].dt.time\n",
    "시간자료['hour'] = 시간자료['날짜'].dt.hour\n",
    "시간자료['minute'] = 시간자료['날짜'].dt.minute\n",
    "시간자료['second'] = 시간자료['날짜'].dt.second\n",
    "시간자료.head()"
   ]
  },
  {
   "cell_type": "markdown",
   "metadata": {},
   "source": [
    "#### 날짜 & 시간 조정"
   ]
  },
  {
   "cell_type": "code",
   "execution_count": 39,
   "metadata": {},
   "outputs": [
    {
     "data": {
      "text/plain": [
       "0   2023-01-06 01:10:00\n",
       "1   2023-03-02 03:20:20\n",
       "2   2023-03-07 06:30:00\n",
       "3   2023-04-24 10:40:30\n",
       "4   2023-05-21 12:50:00\n",
       "5   2023-07-04 15:00:30\n",
       "6   2023-07-06 18:10:00\n",
       "7   2023-09-20 21:50:30\n",
       "Name: 날짜, dtype: datetime64[ns]"
      ]
     },
     "execution_count": 39,
     "metadata": {},
     "output_type": "execute_result"
    }
   ],
   "source": [
    "import datetime\n",
    "시간자료['날짜']+datetime.timedelta(days=5)"
   ]
  },
  {
   "cell_type": "markdown",
   "metadata": {},
   "source": [
    "#### 시간간격 조정:resample\n",
    "- up-sampling:시간간격 좁아짐 -> 데이터량 증가\n",
    "- down-sampling: 시간 간격 넓어짐 -> 데이터량 감소"
   ]
  },
  {
   "cell_type": "code",
   "execution_count": 40,
   "metadata": {},
   "outputs": [
    {
     "data": {
      "text/plain": [
       "2023-01-01    0.618585\n",
       "2023-01-02    0.365010\n",
       "2023-01-03    0.872302\n",
       "2023-01-04    0.060234\n",
       "2023-01-05    0.349634\n",
       "Freq: D, dtype: float64"
      ]
     },
     "execution_count": 40,
     "metadata": {},
     "output_type": "execute_result"
    }
   ],
   "source": [
    "시계열 = pd.Series(np.random.randn(100), index=pd.date_range(\"2023-1-1\", periods=100,freq=\"D\"))\n",
    "시계열.head()"
   ]
  },
  {
   "cell_type": "code",
   "execution_count": 41,
   "metadata": {},
   "outputs": [
    {
     "data": {
      "text/plain": [
       "2023-01-01    0.618585\n",
       "2023-01-08    0.673604\n",
       "2023-01-15   -0.188737\n",
       "2023-01-22   -0.038570\n",
       "2023-01-29    0.449123\n",
       "2023-02-05    0.431923\n",
       "2023-02-12    0.016617\n",
       "2023-02-19    0.325256\n",
       "2023-02-26    0.142551\n",
       "2023-03-05    0.317464\n",
       "2023-03-12    0.051187\n",
       "2023-03-19   -0.383341\n",
       "2023-03-26    0.028789\n",
       "2023-04-02   -0.288245\n",
       "2023-04-09   -0.242945\n",
       "2023-04-16   -0.534956\n",
       "Freq: W-SUN, dtype: float64"
      ]
     },
     "execution_count": 41,
     "metadata": {},
     "output_type": "execute_result"
    }
   ],
   "source": [
    "시계열.resample('W').mean()"
   ]
  },
  {
   "cell_type": "code",
   "execution_count": 42,
   "metadata": {},
   "outputs": [
    {
     "data": {
      "text/plain": [
       "2023-01-01 00:00:00    0.664212\n",
       "2023-01-01 00:01:00    0.124144\n",
       "2023-01-01 00:02:00    0.338395\n",
       "2023-01-01 00:03:00    0.445345\n",
       "2023-01-01 00:04:00   -0.159555\n",
       "Freq: T, dtype: float64"
      ]
     },
     "execution_count": 42,
     "metadata": {},
     "output_type": "execute_result"
    }
   ],
   "source": [
    "분당자료 =pd.Series(np.random.randn(100), index=pd.date_range(\"2023-1-1\", periods=100,freq=\"T\"))\n",
    "분당자료.head()"
   ]
  },
  {
   "cell_type": "code",
   "execution_count": 44,
   "metadata": {},
   "outputs": [],
   "source": [
    "##10분간의 자료 중 open, high, low, close 출력\n",
    "#분당자료.resample('10T').ohlc()"
   ]
  }
 ],
 "metadata": {
  "kernelspec": {
   "display_name": "Python 3",
   "language": "python",
   "name": "python3"
  },
  "language_info": {
   "codemirror_mode": {
    "name": "ipython",
    "version": 3
   },
   "file_extension": ".py",
   "mimetype": "text/x-python",
   "name": "python",
   "nbconvert_exporter": "python",
   "pygments_lexer": "ipython3",
   "version": "3.8.5"
  }
 },
 "nbformat": 4,
 "nbformat_minor": 4
}
