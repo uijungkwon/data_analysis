{
 "cells": [
  {
   "cell_type": "markdown",
   "metadata": {},
   "source": [
    "## Dimensionality Reduction\n",
    "##### Dimensionality Reduction Algorithms\n",
    "- Linear Algebra Methods\n",
    "- Manifold Learning Methods: seek a lower-dimensional projection of high dimensional input that captures the salient properties of the input data"
   ]
  },
  {
   "cell_type": "code",
   "execution_count": 1,
   "metadata": {},
   "outputs": [
    {
     "name": "stdout",
     "output_type": "stream",
     "text": [
      "Requirement already satisfied: scikit-learn in c:\\users\\sm-pc\\appdata\\local\\programs\\python\\python39\\lib\\site-packages (1.2.2)\n",
      "Requirement already satisfied: threadpoolctl>=2.0.0 in c:\\users\\sm-pc\\appdata\\local\\programs\\python\\python39\\lib\\site-packages (from scikit-learn) (3.1.0)\n",
      "Requirement already satisfied: numpy>=1.17.3 in c:\\users\\sm-pc\\appdata\\local\\programs\\python\\python39\\lib\\site-packages (from scikit-learn) (1.23.0)\n",
      "Requirement already satisfied: joblib>=1.1.1 in c:\\users\\sm-pc\\appdata\\local\\programs\\python\\python39\\lib\\site-packages (from scikit-learn) (1.2.0)\n",
      "Requirement already satisfied: scipy>=1.3.2 in c:\\users\\sm-pc\\appdata\\local\\programs\\python\\python39\\lib\\site-packages (from scikit-learn) (1.10.1)\n"
     ]
    },
    {
     "name": "stderr",
     "output_type": "stream",
     "text": [
      "\n",
      "[notice] A new release of pip is available: 23.0.1 -> 23.1\n",
      "[notice] To update, run: python.exe -m pip install --upgrade pip\n"
     ]
    }
   ],
   "source": [
    "!pip install scikit-learn"
   ]
  },
  {
   "cell_type": "code",
   "execution_count": 2,
   "metadata": {},
   "outputs": [
    {
     "name": "stdout",
     "output_type": "stream",
     "text": [
      "1.2.2\n"
     ]
    }
   ],
   "source": [
    "import sklearn\n",
    "print(sklearn.__version__)\n",
    "## 0.23.0 이상인 버전"
   ]
  },
  {
   "cell_type": "markdown",
   "metadata": {},
   "source": [
    "#### 모의실험용 데이터 생성: 분류분석"
   ]
  },
  {
   "cell_type": "code",
   "execution_count": 3,
   "metadata": {},
   "outputs": [],
   "source": [
    "from sklearn.datasets import make_classification\n",
    "설명변수, 반응변수 = make_classification(n_samples=1000,n_features=5, n_informative=5, n_redundant=0, random_state=0 )\n",
    "##데이터는 100개, 칼럼은 5개(모든 변수가 y(반응변수)에 영향을 주는 변수), 다중공선성= 0"
   ]
  },
  {
   "cell_type": "code",
   "execution_count": 4,
   "metadata": {},
   "outputs": [
    {
     "name": "stdout",
     "output_type": "stream",
     "text": [
      "Optimization terminated successfully.\n",
      "         Current function value: 0.229467\n",
      "         Iterations 8\n",
      "                           Logit Regression Results                           \n",
      "==============================================================================\n",
      "Dep. Variable:                      y   No. Observations:                 1000\n",
      "Model:                          Logit   Df Residuals:                      994\n",
      "Method:                           MLE   Df Model:                            5\n",
      "Date:                Mon, 17 Apr 2023   Pseudo R-squ.:                  0.6689\n",
      "Time:                        16:17:07   Log-Likelihood:                -229.47\n",
      "converged:                       True   LL-Null:                       -693.15\n",
      "Covariance Type:            nonrobust   LLR p-value:                3.185e-198\n",
      "==============================================================================\n",
      "                 coef    std err          z      P>|z|      [0.025      0.975]\n",
      "------------------------------------------------------------------------------\n",
      "const          0.8778      0.225      3.898      0.000       0.436       1.319\n",
      "x1             0.3045      0.093      3.271      0.001       0.122       0.487\n",
      "x2            -2.8144      0.204    -13.777      0.000      -3.215      -2.414\n",
      "x3             0.2694      0.093      2.895      0.004       0.087       0.452\n",
      "x4            -0.9467      0.098     -9.700      0.000      -1.138      -0.755\n",
      "x5            -0.4056      0.094     -4.317      0.000      -0.590      -0.221\n",
      "==============================================================================\n"
     ]
    }
   ],
   "source": [
    "import statsmodels.api as sm\n",
    "##with statsmodels\n",
    "설명변수 = sm.add_constant(설명변수) # adding a contant 절편이 없는 모델이기 때문에 상수를 추가함 \n",
    "print(sm.Logit(반응변수, 설명변수).fit().summary()) ## fit 한 것의 구조를 요약하여 나타냄 "
   ]
  },
  {
   "cell_type": "code",
   "execution_count": 5,
   "metadata": {},
   "outputs": [
    {
     "name": "stdout",
     "output_type": "stream",
     "text": [
      "Warning: Maximum number of iterations has been exceeded.\n",
      "         Current function value: 0.243352\n",
      "         Iterations: 35\n",
      "                           Logit Regression Results                           \n",
      "==============================================================================\n",
      "Dep. Variable:                      y   No. Observations:                 1000\n",
      "Model:                          Logit   Df Residuals:                      989\n",
      "Method:                           MLE   Df Model:                           10\n",
      "Date:                Mon, 17 Apr 2023   Pseudo R-squ.:                  0.6489\n",
      "Time:                        16:19:32   Log-Likelihood:                -243.35\n",
      "converged:                      False   LL-Null:                       -693.14\n",
      "Covariance Type:            nonrobust   LLR p-value:                7.860e-187\n",
      "==============================================================================\n",
      "                 coef    std err          z      P>|z|      [0.025      0.975]\n",
      "------------------------------------------------------------------------------\n",
      "const          0.8979      0.217      4.141      0.000       0.473       1.323\n",
      "x1             0.1679      0.122      1.376      0.169      -0.071       0.407\n",
      "x2             0.4603        nan        nan        nan         nan         nan\n",
      "x3             0.0631        nan        nan        nan         nan         nan\n",
      "x4             0.4806        nan        nan        nan         nan         nan\n",
      "x5             0.1183      0.124      0.954      0.340      -0.125       0.361\n",
      "x6            -0.1771        nan        nan        nan         nan         nan\n",
      "x7             0.4613        nan        nan        nan         nan         nan\n",
      "x8            -0.1720      0.117     -1.475      0.140      -0.401       0.057\n",
      "x9            -0.0417   1.81e+06  -2.31e-08      1.000   -3.54e+06    3.54e+06\n",
      "x10            0.3231        nan        nan        nan         nan         nan\n",
      "x11            0.1556      0.117      1.325      0.185      -0.075       0.386\n",
      "x12           -0.0927   4.77e+05  -1.94e-07      1.000   -9.35e+05    9.35e+05\n",
      "x13           -0.7649   8.88e+05  -8.61e-07      1.000   -1.74e+06    1.74e+06\n",
      "x14            0.2686        nan        nan        nan         nan         nan\n",
      "x15           -0.5891        nan        nan        nan         nan         nan\n",
      "x16           -0.1306   2.89e+06  -4.52e-08      1.000   -5.66e+06    5.66e+06\n",
      "x17            0.0978    4.6e+06   2.13e-08      1.000   -9.02e+06    9.02e+06\n",
      "x18           -0.5001   2.03e+06  -2.47e-07      1.000   -3.98e+06    3.98e+06\n",
      "x19            0.0619   3.18e+06   1.95e-08      1.000   -6.23e+06    6.23e+06\n",
      "x20           -0.0820      0.123     -0.670      0.503      -0.322       0.158\n",
      "==============================================================================\n"
     ]
    },
    {
     "name": "stderr",
     "output_type": "stream",
     "text": [
      "C:\\Users\\SM-PC\\AppData\\Local\\Programs\\Python\\Python39\\lib\\site-packages\\statsmodels\\base\\model.py:604: ConvergenceWarning: Maximum Likelihood optimization failed to converge. Check mle_retvals\n",
      "  warnings.warn(\"Maximum Likelihood optimization failed to \"\n"
     ]
    }
   ],
   "source": [
    "##표본크기=1000, 설명변수개수 = 20, 설명력이 있는 변수 =10, 불필요한 변수=10\n",
    "설명변수, 반응변수 = make_classification(n_samples=1000,n_features=20, n_informative=5, n_redundant=10,random_state=0 )\n",
    "설명변수 = sm.add_constant(설명변수)#adding a constant\n",
    "print(sm.Logit(반응변수, 설명변수).fit().summary())## 불필요한 변수를 가져온것 빼고 나머지는 위랑 똑같음\n",
    "## 아래 표를 가지고 설명하기에는 어려움이 있음 "
   ]
  },
  {
   "cell_type": "markdown",
   "metadata": {},
   "source": [
    "#### 차원축소 방법을 적용한 자료에 대한 로지스틱 회귀분석\n",
    "Repeated stratified 10-fold cross-validation 방법을 통해 성능비교"
   ]
  },
  {
   "cell_type": "code",
   "execution_count": 7,
   "metadata": {},
   "outputs": [],
   "source": [
    "from numpy import mean ## 비교하는 방식으로 사용됨 , 데이터가 많은 경우에는 train + test셋으로 나누지만 데이터가 많이 없는 경우에는 k개의 칸으로 나눠서 한칸을 테스트로 사용\n",
    "from numpy import std ## 표준편차 계산 \n",
    "from sklearn.datasets import make_classification\n",
    "from sklearn.model_selection import cross_val_score\n",
    "from sklearn.model_selection import RepeatedStratifiedKFold\n",
    "from sklearn.linear_model import LogisticRegression ## 예측 모델을 사용하기 위해 로지스틱 리그레션 방식을 사용함 \n",
    "## stats 모델은 통계적인 값들을 나타내기 위해 사용하는 것이고 sklearn 은 \"예측\" 하기위해서 사용하는 방식임 "
   ]
  },
  {
   "cell_type": "code",
   "execution_count": 8,
   "metadata": {},
   "outputs": [
    {
     "name": "stdout",
     "output_type": "stream",
     "text": [
      "Accuracy: 0.902 (0.026)\n"
     ]
    }
   ],
   "source": [
    "# 모형 설정\n",
    "분석방법 = LogisticRegression()\n",
    "\n",
    "#원자료에 대한 평가\n",
    "cv = RepeatedStratifiedKFold(n_splits=10, n_repeats=3, random_state=1) ##10개로 자르고 3번 반복하여 사용함 \n",
    "점수 = cross_val_score(분석방법, 설명변수, 반응변수, scoring='accuracy', cv=cv, n_jobs=-1)## n_jobs: 모든 cpu를 다 사용하라!\n",
    "print('Accuracy: %.3f (%.3f)' % (mean(점수), std(점수)))"
   ]
  },
  {
   "cell_type": "code",
   "execution_count": 10,
   "metadata": {},
   "outputs": [
    {
     "data": {
      "text/plain": [
       "array([[-3.49116061, -3.18790272,  1.12960961,  0.54013697,  0.02654012],\n",
       "       [-0.10276923, -3.50457665, -0.72794009,  0.05346297, -0.91530089],\n",
       "       [-3.0979493 ,  3.53395139, -2.76254129, -4.2934772 , -0.83307225],\n",
       "       ...,\n",
       "       [-2.14847104,  6.97758979,  0.91435403, -0.2051838 , -0.81127541],\n",
       "       [ 2.44834879, -0.22556633,  4.41572754,  0.97962709,  1.22745587],\n",
       "       [-3.67345152, -3.69101242, -1.22137635, -2.54358137, -0.43784689]])"
      ]
     },
     "execution_count": 10,
     "metadata": {},
     "output_type": "execute_result"
    }
   ],
   "source": [
    "##PCA: 서로 독립이 아닌데이터 들을 묶어서 독립인 데이터처럼 만들어줌 \n",
    "## 파이프라인 : \n",
    "from sklearn.decomposition import PCA\n",
    "from sklearn.pipeline import Pipeline\n",
    "\n",
    "PCA(n_components=5).fit_transform(설명변수) ## PCA에서 5개의 칼럼들로 뽑아옴 -> 각 한줄씩 분석을 함 "
   ]
  },
  {
   "cell_type": "code",
   "execution_count": 11,
   "metadata": {},
   "outputs": [
    {
     "data": {
      "text/html": [
       "<style>#sk-container-id-1 {color: black;background-color: white;}#sk-container-id-1 pre{padding: 0;}#sk-container-id-1 div.sk-toggleable {background-color: white;}#sk-container-id-1 label.sk-toggleable__label {cursor: pointer;display: block;width: 100%;margin-bottom: 0;padding: 0.3em;box-sizing: border-box;text-align: center;}#sk-container-id-1 label.sk-toggleable__label-arrow:before {content: \"▸\";float: left;margin-right: 0.25em;color: #696969;}#sk-container-id-1 label.sk-toggleable__label-arrow:hover:before {color: black;}#sk-container-id-1 div.sk-estimator:hover label.sk-toggleable__label-arrow:before {color: black;}#sk-container-id-1 div.sk-toggleable__content {max-height: 0;max-width: 0;overflow: hidden;text-align: left;background-color: #f0f8ff;}#sk-container-id-1 div.sk-toggleable__content pre {margin: 0.2em;color: black;border-radius: 0.25em;background-color: #f0f8ff;}#sk-container-id-1 input.sk-toggleable__control:checked~div.sk-toggleable__content {max-height: 200px;max-width: 100%;overflow: auto;}#sk-container-id-1 input.sk-toggleable__control:checked~label.sk-toggleable__label-arrow:before {content: \"▾\";}#sk-container-id-1 div.sk-estimator input.sk-toggleable__control:checked~label.sk-toggleable__label {background-color: #d4ebff;}#sk-container-id-1 div.sk-label input.sk-toggleable__control:checked~label.sk-toggleable__label {background-color: #d4ebff;}#sk-container-id-1 input.sk-hidden--visually {border: 0;clip: rect(1px 1px 1px 1px);clip: rect(1px, 1px, 1px, 1px);height: 1px;margin: -1px;overflow: hidden;padding: 0;position: absolute;width: 1px;}#sk-container-id-1 div.sk-estimator {font-family: monospace;background-color: #f0f8ff;border: 1px dotted black;border-radius: 0.25em;box-sizing: border-box;margin-bottom: 0.5em;}#sk-container-id-1 div.sk-estimator:hover {background-color: #d4ebff;}#sk-container-id-1 div.sk-parallel-item::after {content: \"\";width: 100%;border-bottom: 1px solid gray;flex-grow: 1;}#sk-container-id-1 div.sk-label:hover label.sk-toggleable__label {background-color: #d4ebff;}#sk-container-id-1 div.sk-serial::before {content: \"\";position: absolute;border-left: 1px solid gray;box-sizing: border-box;top: 0;bottom: 0;left: 50%;z-index: 0;}#sk-container-id-1 div.sk-serial {display: flex;flex-direction: column;align-items: center;background-color: white;padding-right: 0.2em;padding-left: 0.2em;position: relative;}#sk-container-id-1 div.sk-item {position: relative;z-index: 1;}#sk-container-id-1 div.sk-parallel {display: flex;align-items: stretch;justify-content: center;background-color: white;position: relative;}#sk-container-id-1 div.sk-item::before, #sk-container-id-1 div.sk-parallel-item::before {content: \"\";position: absolute;border-left: 1px solid gray;box-sizing: border-box;top: 0;bottom: 0;left: 50%;z-index: -1;}#sk-container-id-1 div.sk-parallel-item {display: flex;flex-direction: column;z-index: 1;position: relative;background-color: white;}#sk-container-id-1 div.sk-parallel-item:first-child::after {align-self: flex-end;width: 50%;}#sk-container-id-1 div.sk-parallel-item:last-child::after {align-self: flex-start;width: 50%;}#sk-container-id-1 div.sk-parallel-item:only-child::after {width: 0;}#sk-container-id-1 div.sk-dashed-wrapped {border: 1px dashed gray;margin: 0 0.4em 0.5em 0.4em;box-sizing: border-box;padding-bottom: 0.4em;background-color: white;}#sk-container-id-1 div.sk-label label {font-family: monospace;font-weight: bold;display: inline-block;line-height: 1.2em;}#sk-container-id-1 div.sk-label-container {text-align: center;}#sk-container-id-1 div.sk-container {/* jupyter's `normalize.less` sets `[hidden] { display: none; }` but bootstrap.min.css set `[hidden] { display: none !important; }` so we also need the `!important` here to be able to override the default hidden behavior on the sphinx rendered scikit-learn.org. See: https://github.com/scikit-learn/scikit-learn/issues/21755 */display: inline-block !important;position: relative;}#sk-container-id-1 div.sk-text-repr-fallback {display: none;}</style><div id=\"sk-container-id-1\" class=\"sk-top-container\"><div class=\"sk-text-repr-fallback\"><pre>Pipeline(steps=[(&#x27;pca&#x27;, PCA(n_components=5)), (&#x27;m&#x27;, LogisticRegression())])</pre><b>In a Jupyter environment, please rerun this cell to show the HTML representation or trust the notebook. <br />On GitHub, the HTML representation is unable to render, please try loading this page with nbviewer.org.</b></div><div class=\"sk-container\" hidden><div class=\"sk-item sk-dashed-wrapped\"><div class=\"sk-label-container\"><div class=\"sk-label sk-toggleable\"><input class=\"sk-toggleable__control sk-hidden--visually\" id=\"sk-estimator-id-1\" type=\"checkbox\" ><label for=\"sk-estimator-id-1\" class=\"sk-toggleable__label sk-toggleable__label-arrow\">Pipeline</label><div class=\"sk-toggleable__content\"><pre>Pipeline(steps=[(&#x27;pca&#x27;, PCA(n_components=5)), (&#x27;m&#x27;, LogisticRegression())])</pre></div></div></div><div class=\"sk-serial\"><div class=\"sk-item\"><div class=\"sk-estimator sk-toggleable\"><input class=\"sk-toggleable__control sk-hidden--visually\" id=\"sk-estimator-id-2\" type=\"checkbox\" ><label for=\"sk-estimator-id-2\" class=\"sk-toggleable__label sk-toggleable__label-arrow\">PCA</label><div class=\"sk-toggleable__content\"><pre>PCA(n_components=5)</pre></div></div></div><div class=\"sk-item\"><div class=\"sk-estimator sk-toggleable\"><input class=\"sk-toggleable__control sk-hidden--visually\" id=\"sk-estimator-id-3\" type=\"checkbox\" ><label for=\"sk-estimator-id-3\" class=\"sk-toggleable__label sk-toggleable__label-arrow\">LogisticRegression</label><div class=\"sk-toggleable__content\"><pre>LogisticRegression()</pre></div></div></div></div></div></div></div>"
      ],
      "text/plain": [
       "Pipeline(steps=[('pca', PCA(n_components=5)), ('m', LogisticRegression())])"
      ]
     },
     "execution_count": 11,
     "metadata": {},
     "output_type": "execute_result"
    }
   ],
   "source": [
    "과정 = [('pca', PCA(n_components=5)), ('m',LogisticRegression() )] ## 뽑힌 데이터들을 로지스틱 회귀분석에 적용함\n",
    "## pca 방법을 적용함(차원 축소). 이것을 로지스틱 회귀분석에 적용함\n",
    "모형 = Pipeline(steps=과정)## step이란 값에 \"과정\"을 대입함\n",
    "모형\n",
    "## pca모형에 \"설명변수\"를 집어넣으면 p값이 나옴 이후 \"반응변수\"랑 \"p\"값을 \"로지스틱 회귀분석\"에 넣어서 적용함 "
   ]
  },
  {
   "cell_type": "code",
   "execution_count": 12,
   "metadata": {},
   "outputs": [
    {
     "name": "stdout",
     "output_type": "stream",
     "text": [
      "Accuracy: 0.906 (0.028)\n"
     ]
    }
   ],
   "source": [
    "점수 = cross_val_score(모형, 설명변수, 반응변수,scoring='accuracy', cv = cv, n_jobs=-1 )\n",
    "print('Accuracy: %.3f (%.3f)' % (mean(점수), std(점수)))"
   ]
  },
  {
   "cell_type": "code",
   "execution_count": 13,
   "metadata": {},
   "outputs": [
    {
     "data": {
      "text/plain": [
       "array([[-3.70343229, -3.98650213, -1.37265822, -0.63471761,  1.03247114],\n",
       "       [-0.32235725, -4.55947547, -0.71336881,  0.67398658, -0.48779025],\n",
       "       [-3.28594421, -0.12982111,  5.53813371, -1.45593703, -3.56446996],\n",
       "       ...,\n",
       "       [-2.23701309,  4.47584669,  4.24237147, -1.62495065,  0.73184243],\n",
       "       [ 2.28298104, -1.0570723 , -1.26324642, -3.26202823,  3.29992018],\n",
       "       [-3.92271469, -5.39950294,  0.2761539 , -0.79135582, -2.22434667]])"
      ]
     },
     "execution_count": 13,
     "metadata": {},
     "output_type": "execute_result"
    }
   ],
   "source": [
    "from sklearn.decomposition import TruncatedSVD\n",
    "TruncatedSVD(n_components=5).fit_transform(설명변수) ## 5개의 데이터들을 사용 -> 데이터들에 대한 추정값을 구할 수 있음\n",
    "## 위와는 다른 방식으로 5개의 칼럼 들을 뽑아줌 (차원축소)"
   ]
  },
  {
   "cell_type": "code",
   "execution_count": 14,
   "metadata": {},
   "outputs": [
    {
     "name": "stdout",
     "output_type": "stream",
     "text": [
      "Accuracy: 0.906 (0.027)\n"
     ]
    }
   ],
   "source": [
    "과정 = [('svd', TruncatedSVD(n_components=5)), ('m', LogisticRegression())]\n",
    "모형 = Pipeline(steps=과정)\n",
    "점수 = cross_val_score(모형, 설명변수, 반응변수, scoring='accuracy',cv=cv, n_jobs=-1)\n",
    "print('Accuracy: %.3f (%.3f)' % (mean(점수), std(점수)))"
   ]
  },
  {
   "cell_type": "code",
   "execution_count": 22,
   "metadata": {},
   "outputs": [
    {
     "data": {
      "text/plain": [
       "array([[-7.76254864, -0.66304379,  1.80835807,  0.62572071, -0.45239671],\n",
       "       [-2.7732265 , -5.77186012,  0.65549934, -0.73085225, -2.05136113],\n",
       "       [-1.32547897, 12.58390657, -5.94061377, -0.55662981, -2.72985668],\n",
       "       ...,\n",
       "       [ 9.62942053, 15.28561819, -0.58394826,  3.80816428,  1.22223658],\n",
       "       [ 6.0879797 , -0.23694135, 11.87014937, -3.25689988,  3.55412476],\n",
       "       [-9.50504788, -4.15974532,  0.46826841, -3.20340085, -4.754981  ]])"
      ]
     },
     "execution_count": 22,
     "metadata": {},
     "output_type": "execute_result"
    }
   ],
   "source": [
    "from sklearn.manifold import Isomap\n",
    "Isomap(n_components=5).fit_transform(설명변수)## 5개의 변수를 사용함 "
   ]
  },
  {
   "cell_type": "code",
   "execution_count": 23,
   "metadata": {},
   "outputs": [
    {
     "name": "stdout",
     "output_type": "stream",
     "text": [
      "Accuracy: 0.928 (0.023)\n"
     ]
    }
   ],
   "source": [
    "과정 = [('iso', Isomap(n_components=5)), ('m', LogisticRegression())]\n",
    "모형 = Pipeline(steps=과정)\n",
    "점수 = cross_val_score(모형, 설명변수, 반응변수, scoring='accuracy',cv=cv, n_jobs=-1)\n",
    "print('Accuracy: %.3f (%.3f)' % (mean(점수), std(점수)))"
   ]
  },
  {
   "cell_type": "code",
   "execution_count": 18,
   "metadata": {},
   "outputs": [
    {
     "data": {
      "text/plain": [
       "array([[ 0.02760783,  0.00433234, -0.02095877,  0.00680272,  0.04844755],\n",
       "       [ 0.01966448, -0.00270673,  0.01955879,  0.03550865, -0.02465609],\n",
       "       [-0.0046547 ,  0.02217439, -0.01581134, -0.01763469,  0.01790108],\n",
       "       ...,\n",
       "       [-0.03972864,  0.02724226, -0.00618751, -0.011095  ,  0.01299083],\n",
       "       [-0.01025056, -0.00886601, -0.00233497,  0.00562289,  0.01698014],\n",
       "       [ 0.02387398,  0.00062849,  0.00033194,  0.02135728, -0.01534125]])"
      ]
     },
     "execution_count": 18,
     "metadata": {},
     "output_type": "execute_result"
    }
   ],
   "source": [
    "from sklearn.manifold import LocallyLinearEmbedding\n",
    "LocallyLinearEmbedding(n_components=5).fit_transform(설명변수)"
   ]
  },
  {
   "cell_type": "code",
   "execution_count": 19,
   "metadata": {},
   "outputs": [
    {
     "name": "stdout",
     "output_type": "stream",
     "text": [
      "Accuracy: 0.876 (0.030)\n"
     ]
    }
   ],
   "source": [
    "과정 = [('lle', LocallyLinearEmbedding(n_components=5)), ('m', LogisticRegression())]\n",
    "모형 = Pipeline(steps=과정)\n",
    "점수 = cross_val_score(모형, 설명변수, 반응변수, scoring='accuracy',cv=cv, n_jobs=-1)\n",
    "print('Accuracy: %.3f (%.3f)' % (mean(점수), std(점수)))\n",
    "## 성능이 약간 떨어짐 "
   ]
  },
  {
   "cell_type": "markdown",
   "metadata": {},
   "source": [
    "#### 추가 정보"
   ]
  },
  {
   "cell_type": "code",
   "execution_count": 25,
   "metadata": {},
   "outputs": [
    {
     "name": "stdout",
     "output_type": "stream",
     "text": [
      "Optimization terminated successfully.\n",
      "         Current function value: 0.185880\n",
      "         Iterations 9\n",
      "                           Logit Regression Results                           \n",
      "==============================================================================\n",
      "Dep. Variable:                      y   No. Observations:                 1000\n",
      "Model:                          Logit   Df Residuals:                      994\n",
      "Method:                           MLE   Df Model:                            5\n",
      "Date:                Mon, 17 Apr 2023   Pseudo R-squ.:                  0.7318\n",
      "Time:                        16:44:53   Log-Likelihood:                -185.88\n",
      "converged:                       True   LL-Null:                       -693.14\n",
      "Covariance Type:            nonrobust   LLR p-value:                4.322e-217\n",
      "==============================================================================\n",
      "                 coef    std err          z      P>|z|      [0.025      0.975]\n",
      "------------------------------------------------------------------------------\n",
      "const          0.9161      0.212      4.314      0.000       0.500       1.332\n",
      "x1             0.4608      0.037     12.606      0.000       0.389       0.532\n",
      "x2             0.3489      0.037      9.427      0.000       0.276       0.421\n",
      "x3             0.4892      0.044     11.128      0.000       0.403       0.575\n",
      "x4            -0.3305      0.069     -4.813      0.000      -0.465      -0.196\n",
      "x5             0.2841      0.046      6.215      0.000       0.195       0.374\n",
      "==============================================================================\n",
      "\n",
      "Possibly complete quasi-separation: A fraction 0.11 of observations can be\n",
      "perfectly predicted. This might indicate that there is complete\n",
      "quasi-separation. In this case some parameters will not be identified.\n"
     ]
    }
   ],
   "source": [
    "설명축소 = Isomap(n_components=5).fit_transform(설명변수)\n",
    "설명축소 = sm.add_constant(설명축소)\n",
    "print(sm.Logit(반응변수, 설명축소).fit().summary())"
   ]
  }
 ],
 "metadata": {
  "kernelspec": {
   "display_name": "Python 3",
   "language": "python",
   "name": "python3"
  },
  "language_info": {
   "codemirror_mode": {
    "name": "ipython",
    "version": 3
   },
   "file_extension": ".py",
   "mimetype": "text/x-python",
   "name": "python",
   "nbconvert_exporter": "python",
   "pygments_lexer": "ipython3",
   "version": "3.8.5"
  }
 },
 "nbformat": 4,
 "nbformat_minor": 4
}
