{
 "cells": [
  {
   "cell_type": "markdown",
   "id": "0cba9935",
   "metadata": {},
   "source": [
    "## SNS 데이터 가져오기\n",
    "\n",
    "- package: snscrape\n",
    "    - a scraper for social networking services (SNS)\n",
    "    - Facebook, Instagram, Mastodon, Reddit, Telegram, Twitter, VKontakte, Weibo\n",
    "https://github.com/JustAnotherArchivist/snscrape"
   ]
  },
  {
   "cell_type": "code",
   "execution_count": 4,
   "id": "25b55b6b",
   "metadata": {},
   "outputs": [
    {
     "name": "stdout",
     "output_type": "stream",
     "text": [
      "Collecting snscrape\n",
      "  Downloading snscrape-0.6.1.20230314-py3-none-any.whl (71 kB)\n",
      "     ---------------------------------------- 0.0/71.6 kB ? eta -:--:--\n",
      "     ---------------------------------------- 71.6/71.6 kB ? eta 0:00:00\n",
      "Collecting lxml\n",
      "  Downloading lxml-4.9.2-cp39-cp39-win_amd64.whl (3.9 MB)\n",
      "     ---------------------------------------- 0.0/3.9 MB ? eta -:--:--\n",
      "     ---- ----------------------------------- 0.4/3.9 MB 12.6 MB/s eta 0:00:01\n",
      "     ------- -------------------------------- 0.8/3.9 MB 9.6 MB/s eta 0:00:01\n",
      "     ----------- ---------------------------- 1.1/3.9 MB 8.7 MB/s eta 0:00:01\n",
      "     -------------- ------------------------- 1.4/3.9 MB 8.2 MB/s eta 0:00:01\n",
      "     ------------------ --------------------- 1.8/3.9 MB 8.3 MB/s eta 0:00:01\n",
      "     ---------------------- ----------------- 2.2/3.9 MB 8.4 MB/s eta 0:00:01\n",
      "     --------------------------- ------------ 2.7/3.9 MB 8.5 MB/s eta 0:00:01\n",
      "     ------------------------------- -------- 3.1/3.9 MB 8.6 MB/s eta 0:00:01\n",
      "     ------------------------------------ --- 3.5/3.9 MB 8.7 MB/s eta 0:00:01\n",
      "     ---------------------------------------  3.9/3.9 MB 8.6 MB/s eta 0:00:01\n",
      "     ---------------------------------------- 3.9/3.9 MB 8.0 MB/s eta 0:00:00\n",
      "Collecting filelock\n",
      "  Downloading filelock-3.9.1-py3-none-any.whl (9.7 kB)\n",
      "Collecting requests[socks]\n",
      "  Downloading requests-2.28.2-py3-none-any.whl (62 kB)\n",
      "     ---------------------------------------- 0.0/62.8 kB ? eta -:--:--\n",
      "     ---------------------------------------- 62.8/62.8 kB 3.5 MB/s eta 0:00:00\n",
      "Requirement already satisfied: beautifulsoup4 in c:\\users\\sm-pc\\appdata\\local\\programs\\python\\python39\\lib\\site-packages (from snscrape) (4.11.2)\n",
      "Requirement already satisfied: soupsieve>1.2 in c:\\users\\sm-pc\\appdata\\local\\programs\\python\\python39\\lib\\site-packages (from beautifulsoup4->snscrape) (2.4)\n",
      "Collecting certifi>=2017.4.17\n",
      "  Downloading certifi-2022.12.7-py3-none-any.whl (155 kB)\n",
      "     ---------------------------------------- 0.0/155.3 kB ? eta -:--:--\n",
      "     -------------------------------------- 155.3/155.3 kB 4.7 MB/s eta 0:00:00\n",
      "Collecting charset-normalizer<4,>=2\n",
      "  Downloading charset_normalizer-3.1.0-cp39-cp39-win_amd64.whl (97 kB)\n",
      "     ---------------------------------------- 0.0/97.1 kB ? eta -:--:--\n",
      "     ---------------------------------------- 97.1/97.1 kB 2.8 MB/s eta 0:00:00\n",
      "Collecting urllib3<1.27,>=1.21.1\n",
      "  Downloading urllib3-1.26.15-py2.py3-none-any.whl (140 kB)\n",
      "     ---------------------------------------- 0.0/140.9 kB ? eta -:--:--\n",
      "     -------------------------------------- 140.9/140.9 kB 8.7 MB/s eta 0:00:00\n",
      "Requirement already satisfied: idna<4,>=2.5 in c:\\users\\sm-pc\\appdata\\local\\programs\\python\\python39\\lib\\site-packages (from requests[socks]->snscrape) (3.4)\n",
      "Collecting PySocks!=1.5.7,>=1.5.6\n",
      "  Downloading PySocks-1.7.1-py3-none-any.whl (16 kB)\n",
      "Installing collected packages: urllib3, PySocks, lxml, filelock, charset-normalizer, certifi, requests, snscrape\n",
      "Successfully installed PySocks-1.7.1 certifi-2022.12.7 charset-normalizer-3.1.0 filelock-3.9.1 lxml-4.9.2 requests-2.28.2 snscrape-0.6.1.20230314 urllib3-1.26.15\n"
     ]
    }
   ],
   "source": [
    "!pip install snscrape"
   ]
  },
  {
   "cell_type": "markdown",
   "id": "6ae9cde1",
   "metadata": {},
   "source": [
    "### Twitter 데이터 가져오기"
   ]
  },
  {
   "cell_type": "code",
   "execution_count": 8,
   "id": "07fc89cf",
   "metadata": {},
   "outputs": [
    {
     "name": "stdout",
     "output_type": "stream",
     "text": [
      "Collecting pandas\n",
      "  Downloading pandas-1.5.3-cp39-cp39-win_amd64.whl (10.9 MB)\n",
      "     ---------------------------------------- 0.0/10.9 MB ? eta -:--:--\n",
      "      --------------------------------------- 0.2/10.9 MB 10.2 MB/s eta 0:00:02\n",
      "     -- ------------------------------------- 0.6/10.9 MB 7.1 MB/s eta 0:00:02\n",
      "     -- ------------------------------------- 0.8/10.9 MB 6.2 MB/s eta 0:00:02\n",
      "     --- ------------------------------------ 1.0/10.9 MB 5.5 MB/s eta 0:00:02\n",
      "     ---- ----------------------------------- 1.3/10.9 MB 5.4 MB/s eta 0:00:02\n",
      "     ----- ---------------------------------- 1.5/10.9 MB 5.3 MB/s eta 0:00:02\n",
      "     ------ --------------------------------- 1.7/10.9 MB 5.2 MB/s eta 0:00:02\n",
      "     ------- -------------------------------- 2.0/10.9 MB 5.3 MB/s eta 0:00:02\n",
      "     -------- ------------------------------- 2.3/10.9 MB 5.3 MB/s eta 0:00:02\n",
      "     --------- ------------------------------ 2.5/10.9 MB 5.4 MB/s eta 0:00:02\n",
      "     ---------- ----------------------------- 2.8/10.9 MB 5.4 MB/s eta 0:00:02\n",
      "     ----------- ---------------------------- 3.1/10.9 MB 5.6 MB/s eta 0:00:02\n",
      "     ------------ --------------------------- 3.4/10.9 MB 5.6 MB/s eta 0:00:02\n",
      "     ------------- -------------------------- 3.8/10.9 MB 5.9 MB/s eta 0:00:02\n",
      "     --------------- ------------------------ 4.1/10.9 MB 6.0 MB/s eta 0:00:02\n",
      "     ---------------- ----------------------- 4.4/10.9 MB 5.9 MB/s eta 0:00:02\n",
      "     ----------------- ---------------------- 4.8/10.9 MB 5.9 MB/s eta 0:00:02\n",
      "     ------------------- -------------------- 5.3/10.9 MB 6.2 MB/s eta 0:00:01\n",
      "     -------------------- ------------------- 5.7/10.9 MB 6.2 MB/s eta 0:00:01\n",
      "     ---------------------- ----------------- 6.0/10.9 MB 6.4 MB/s eta 0:00:01\n",
      "     ----------------------- ---------------- 6.4/10.9 MB 6.5 MB/s eta 0:00:01\n",
      "     ------------------------ --------------- 6.6/10.9 MB 6.4 MB/s eta 0:00:01\n",
      "     ------------------------- -------------- 6.9/10.9 MB 6.4 MB/s eta 0:00:01\n",
      "     -------------------------- ------------- 7.2/10.9 MB 6.4 MB/s eta 0:00:01\n",
      "     -------------------------- ------------- 7.4/10.9 MB 6.2 MB/s eta 0:00:01\n",
      "     --------------------------- ------------ 7.5/10.9 MB 6.1 MB/s eta 0:00:01\n",
      "     ---------------------------- ----------- 7.7/10.9 MB 6.0 MB/s eta 0:00:01\n",
      "     ---------------------------- ----------- 7.8/10.9 MB 5.8 MB/s eta 0:00:01\n",
      "     ----------------------------- ---------- 7.9/10.9 MB 5.8 MB/s eta 0:00:01\n",
      "     ----------------------------- ---------- 8.1/10.9 MB 5.7 MB/s eta 0:00:01\n",
      "     ------------------------------ --------- 8.3/10.9 MB 5.7 MB/s eta 0:00:01\n",
      "     ------------------------------- -------- 8.6/10.9 MB 5.7 MB/s eta 0:00:01\n",
      "     -------------------------------- ------- 8.8/10.9 MB 5.7 MB/s eta 0:00:01\n",
      "     -------------------------------- ------- 9.0/10.9 MB 5.6 MB/s eta 0:00:01\n",
      "     --------------------------------- ------ 9.2/10.9 MB 5.6 MB/s eta 0:00:01\n",
      "     ---------------------------------- ----- 9.5/10.9 MB 5.6 MB/s eta 0:00:01\n",
      "     ----------------------------------- ---- 9.8/10.9 MB 5.6 MB/s eta 0:00:01\n",
      "     ------------------------------------- -- 10.1/10.9 MB 5.6 MB/s eta 0:00:01\n",
      "     -------------------------------------- - 10.5/10.9 MB 5.7 MB/s eta 0:00:01\n",
      "     ---------------------------------------  10.9/10.9 MB 5.7 MB/s eta 0:00:01\n",
      "     ---------------------------------------  10.9/10.9 MB 5.7 MB/s eta 0:00:01\n",
      "     ---------------------------------------- 10.9/10.9 MB 5.6 MB/s eta 0:00:00\n",
      "Requirement already satisfied: python-dateutil>=2.8.1 in c:\\users\\sm-pc\\appdata\\local\\programs\\python\\python39\\lib\\site-packages (from pandas) (2.8.2)\n",
      "Collecting numpy>=1.20.3\n",
      "  Downloading numpy-1.24.2-cp39-cp39-win_amd64.whl (14.9 MB)\n",
      "     ---------------------------------------- 0.0/14.9 MB ? eta -:--:--\n",
      "      --------------------------------------- 0.2/14.9 MB 4.1 MB/s eta 0:00:04\n",
      "     - -------------------------------------- 0.4/14.9 MB 5.3 MB/s eta 0:00:03\n",
      "     - -------------------------------------- 0.7/14.9 MB 5.2 MB/s eta 0:00:03\n",
      "     -- ------------------------------------- 0.9/14.9 MB 4.9 MB/s eta 0:00:03\n",
      "     -- ------------------------------------- 1.1/14.9 MB 5.4 MB/s eta 0:00:03\n",
      "     --- ------------------------------------ 1.4/14.9 MB 5.1 MB/s eta 0:00:03\n",
      "     ---- ----------------------------------- 1.6/14.9 MB 5.0 MB/s eta 0:00:03\n",
      "     ----- ---------------------------------- 1.9/14.9 MB 5.0 MB/s eta 0:00:03\n",
      "     ----- ---------------------------------- 2.2/14.9 MB 5.1 MB/s eta 0:00:03\n",
      "     ------ --------------------------------- 2.5/14.9 MB 5.3 MB/s eta 0:00:03\n",
      "     ------- -------------------------------- 2.8/14.9 MB 5.5 MB/s eta 0:00:03\n",
      "     -------- ------------------------------- 3.1/14.9 MB 5.6 MB/s eta 0:00:03\n",
      "     --------- ------------------------------ 3.5/14.9 MB 5.7 MB/s eta 0:00:03\n",
      "     ---------- ----------------------------- 3.9/14.9 MB 6.1 MB/s eta 0:00:02\n",
      "     ----------- ---------------------------- 4.2/14.9 MB 6.1 MB/s eta 0:00:02\n",
      "     ----------- ---------------------------- 4.4/14.9 MB 6.0 MB/s eta 0:00:02\n",
      "     ------------ --------------------------- 4.6/14.9 MB 5.9 MB/s eta 0:00:02\n",
      "     ------------- -------------------------- 4.8/14.9 MB 5.8 MB/s eta 0:00:02\n",
      "     ------------- -------------------------- 5.1/14.9 MB 5.7 MB/s eta 0:00:02\n",
      "     -------------- ------------------------- 5.4/14.9 MB 5.8 MB/s eta 0:00:02\n",
      "     --------------- ------------------------ 5.7/14.9 MB 5.9 MB/s eta 0:00:02\n",
      "     ---------------- ----------------------- 6.0/14.9 MB 5.9 MB/s eta 0:00:02\n",
      "     ---------------- ----------------------- 6.3/14.9 MB 5.9 MB/s eta 0:00:02\n",
      "     ----------------- ---------------------- 6.6/14.9 MB 6.0 MB/s eta 0:00:02\n",
      "     ------------------ --------------------- 6.9/14.9 MB 5.9 MB/s eta 0:00:02\n",
      "     ------------------- -------------------- 7.2/14.9 MB 5.9 MB/s eta 0:00:02\n",
      "     -------------------- ------------------- 7.5/14.9 MB 5.9 MB/s eta 0:00:02\n",
      "     -------------------- ------------------- 7.7/14.9 MB 5.9 MB/s eta 0:00:02\n",
      "     --------------------- ------------------ 8.0/14.9 MB 5.8 MB/s eta 0:00:02\n",
      "     ---------------------- ----------------- 8.3/14.9 MB 5.9 MB/s eta 0:00:02\n",
      "     ----------------------- ---------------- 8.7/14.9 MB 6.0 MB/s eta 0:00:02\n",
      "     ------------------------ --------------- 8.9/14.9 MB 6.0 MB/s eta 0:00:01\n",
      "     ------------------------ --------------- 9.2/14.9 MB 5.9 MB/s eta 0:00:01\n",
      "     ------------------------- -------------- 9.5/14.9 MB 6.0 MB/s eta 0:00:01\n",
      "     -------------------------- ------------- 9.8/14.9 MB 5.9 MB/s eta 0:00:01\n",
      "     --------------------------- ------------ 10.1/14.9 MB 5.9 MB/s eta 0:00:01\n",
      "     --------------------------- ------------ 10.4/14.9 MB 6.0 MB/s eta 0:00:01\n",
      "     ---------------------------- ----------- 10.4/14.9 MB 5.9 MB/s eta 0:00:01\n",
      "     ---------------------------- ----------- 10.6/14.9 MB 5.8 MB/s eta 0:00:01\n",
      "     ---------------------------- ----------- 10.7/14.9 MB 5.7 MB/s eta 0:00:01\n",
      "     ----------------------------- ---------- 10.8/14.9 MB 5.7 MB/s eta 0:00:01\n",
      "     ----------------------------- ---------- 10.9/14.9 MB 5.6 MB/s eta 0:00:01\n",
      "     ----------------------------- ---------- 11.1/14.9 MB 5.5 MB/s eta 0:00:01\n",
      "     ------------------------------ --------- 11.2/14.9 MB 5.5 MB/s eta 0:00:01\n",
      "     ------------------------------ --------- 11.4/14.9 MB 5.5 MB/s eta 0:00:01\n",
      "     ------------------------------- -------- 11.6/14.9 MB 5.4 MB/s eta 0:00:01\n",
      "     ------------------------------- -------- 11.7/14.9 MB 5.4 MB/s eta 0:00:01\n",
      "     -------------------------------- ------- 11.9/14.9 MB 5.4 MB/s eta 0:00:01\n",
      "     -------------------------------- ------- 12.1/14.9 MB 5.3 MB/s eta 0:00:01\n",
      "     --------------------------------- ------ 12.4/14.9 MB 5.3 MB/s eta 0:00:01\n",
      "     --------------------------------- ------ 12.6/14.9 MB 5.2 MB/s eta 0:00:01\n",
      "     ---------------------------------- ----- 12.7/14.9 MB 5.2 MB/s eta 0:00:01\n",
      "     ---------------------------------- ----- 12.9/14.9 MB 5.1 MB/s eta 0:00:01\n",
      "     ----------------------------------- ---- 13.0/14.9 MB 5.0 MB/s eta 0:00:01\n",
      "     ----------------------------------- ---- 13.2/14.9 MB 5.0 MB/s eta 0:00:01\n",
      "     ------------------------------------ --- 13.5/14.9 MB 5.0 MB/s eta 0:00:01\n",
      "     ------------------------------------- -- 13.8/14.9 MB 5.0 MB/s eta 0:00:01\n",
      "     -------------------------------------- - 14.1/14.9 MB 5.0 MB/s eta 0:00:01\n",
      "     -------------------------------------- - 14.4/14.9 MB 4.9 MB/s eta 0:00:01\n",
      "     ---------------------------------------  14.7/14.9 MB 4.9 MB/s eta 0:00:01\n",
      "     ---------------------------------------  14.9/14.9 MB 5.0 MB/s eta 0:00:01\n",
      "     ---------------------------------------  14.9/14.9 MB 5.0 MB/s eta 0:00:01\n",
      "     ---------------------------------------- 14.9/14.9 MB 4.7 MB/s eta 0:00:00\n",
      "Collecting pytz>=2020.1\n",
      "  Downloading pytz-2022.7.1-py2.py3-none-any.whl (499 kB)\n",
      "     ---------------------------------------- 0.0/499.4 kB ? eta -:--:--\n",
      "     ------------------- ------------------ 256.0/499.4 kB 7.9 MB/s eta 0:00:01\n",
      "     -------------------------------------- 499.4/499.4 kB 6.3 MB/s eta 0:00:00\n",
      "Requirement already satisfied: six>=1.5 in c:\\users\\sm-pc\\appdata\\local\\programs\\python\\python39\\lib\\site-packages (from python-dateutil>=2.8.1->pandas) (1.16.0)\n",
      "Installing collected packages: pytz, numpy, pandas\n",
      "Successfully installed numpy-1.24.2 pandas-1.5.3 pytz-2022.7.1\n"
     ]
    }
   ],
   "source": [
    "!pip install pandas"
   ]
  },
  {
   "cell_type": "code",
   "execution_count": 10,
   "id": "af18b0cf",
   "metadata": {},
   "outputs": [],
   "source": [
    "import pandas as pd\n",
    "import snscrape.modules.twitter as sntwitter ##트위터를 관리하는 프로그램을 갖고옴"
   ]
  },
  {
   "cell_type": "code",
   "execution_count": 11,
   "id": "5fc7d75b",
   "metadata": {},
   "outputs": [],
   "source": [
    "스크레이퍼 = sntwitter.TwitterSearchScraper(\"#python\")## 트위터에서 \"파이선\" 단어가 포함된 데이터를 찾음 "
   ]
  },
  {
   "cell_type": "code",
   "execution_count": 12,
   "id": "f3cf3579",
   "metadata": {},
   "outputs": [
    {
     "data": {
      "text/plain": [
       "<snscrape.modules.twitter.TwitterSearchScraper at 0x1c8e3316e50>"
      ]
     },
     "execution_count": 12,
     "metadata": {},
     "output_type": "execute_result"
    }
   ],
   "source": [
    "스크레이퍼"
   ]
  },
  {
   "cell_type": "code",
   "execution_count": 13,
   "id": "96155046",
   "metadata": {},
   "outputs": [],
   "source": [
    "for 트위 in 스크레이퍼.get_items():\n",
    "    break"
   ]
  },
  {
   "cell_type": "code",
   "execution_count": 14,
   "id": "4ccbae29",
   "metadata": {},
   "outputs": [
    {
     "data": {
      "text/plain": [
       "Tweet(url='https://twitter.com/manasseh_gish/status/1635890204253859840', date=datetime.datetime(2023, 3, 15, 6, 26, 32, tzinfo=datetime.timezone.utc), rawContent='#Python,#kibe,Pope Francis,Super Petrol,#Champions League,EPRA,20th Of March,Sonko,Hot Air,Haaland', renderedContent='#Python,#kibe,Pope Francis,Super Petrol,#Champions League,EPRA,20th Of March,Sonko,Hot Air,Haaland', id=1635890204253859840, user=User(username='manasseh_gish', id=1600574738782371856, displayname='gish', rawDescription='computer scientist|Influencer\\nWe strive together', renderedDescription='computer scientist|Influencer\\nWe strive together', descriptionLinks=None, verified=False, created=datetime.datetime(2022, 12, 7, 19, 35, 40, tzinfo=datetime.timezone.utc), followersCount=257, friendsCount=624, statusesCount=225, favouritesCount=293, listedCount=0, mediaCount=11, location='', protected=False, link=None, profileImageUrl='https://pbs.twimg.com/profile_images/1630566807512686594/w0b4UoOK_normal.jpg', profileBannerUrl='https://pbs.twimg.com/profile_banners/1600574738782371856/1676111110', label=None), replyCount=0, retweetCount=0, likeCount=0, quoteCount=0, conversationId=1635890204253859840, lang='en', source='<a href=\"http://twitter.com/download/android\" rel=\"nofollow\">Twitter for Android</a>', sourceUrl='http://twitter.com/download/android', sourceLabel='Twitter for Android', links=None, media=None, retweetedTweet=None, quotedTweet=Tweet(url='https://twitter.com/moses_princefx/status/1635885057414950912', date=datetime.datetime(2023, 3, 15, 6, 6, 5, tzinfo=datetime.timezone.utc), rawContent='Women wanafaa kutake up more space in Tech inorder to  to close the gender pay gap,to close talent shortage,to generate impact and more revenue,to generate innovation among others. \\nwatch out and take advantage of the all female ALX Cohort via the link: https://t.co/9ZXcvwoFoX https://t.co/uox47QMldj', renderedContent='Women wanafaa kutake up more space in Tech inorder to  to close the gender pay gap,to close talent shortage,to generate impact and more revenue,to generate innovation among others. \\nwatch out and take advantage of the all female ALX Cohort via the link: aif.la/3Sk9TIw https://t.co/uox47QMldj', id=1635885057414950912, user=User(username='moses_princefx', id=1553772476064210944, displayname='Budha', rawDescription='programmer|influencer|IT Technologist', renderedDescription='programmer|influencer|IT Technologist', descriptionLinks=None, verified=False, created=datetime.datetime(2022, 7, 31, 16, 0, 18, tzinfo=datetime.timezone.utc), followersCount=2658, friendsCount=4838, statusesCount=584, favouritesCount=1309, listedCount=0, mediaCount=62, location='', protected=False, link=None, profileImageUrl='https://pbs.twimg.com/profile_images/1635881608040292353/gY52M7dZ_normal.jpg', profileBannerUrl='https://pbs.twimg.com/profile_banners/1553772476064210944/1666339095', label=None), replyCount=0, retweetCount=7, likeCount=7, quoteCount=7, conversationId=1635885057414950912, lang='en', source='<a href=\"http://twitter.com/download/android\" rel=\"nofollow\">Twitter for Android</a>', sourceUrl='http://twitter.com/download/android', sourceLabel='Twitter for Android', links=[TextLink(text='aif.la/3Sk9TIw', url='http://aif.la/3Sk9TIw', tcourl='https://t.co/9ZXcvwoFoX', indices=(254, 277))], media=[Photo(previewUrl='https://pbs.twimg.com/media/FrPUykEWYAMH0nO?format=jpg&name=small', fullUrl='https://pbs.twimg.com/media/FrPUykEWYAMH0nO?format=jpg&name=orig', altText=None)], retweetedTweet=None, quotedTweet=None, inReplyToTweetId=None, inReplyToUser=None, mentionedUsers=None, coordinates=None, place=None, hashtags=None, cashtags=None, card=None, viewCount=92, vibe=None), inReplyToTweetId=None, inReplyToUser=None, mentionedUsers=None, coordinates=None, place=None, hashtags=['Python', 'kibe', 'Champions'], cashtags=None, card=None, viewCount=None, vibe=None)"
      ]
     },
     "execution_count": 14,
     "metadata": {},
     "output_type": "execute_result"
    }
   ],
   "source": [
    "트위"
   ]
  },
  {
   "cell_type": "code",
   "execution_count": 15,
   "id": "9e96682f",
   "metadata": {},
   "outputs": [
    {
     "name": "stdout",
     "output_type": "stream",
     "text": [
      "[datetime.datetime(2023, 3, 15, 6, 26, 32, tzinfo=datetime.timezone.utc), 1635890204253859840, '#Python,#kibe,Pope Francis,Super Petrol,#Champions League,EPRA,20th Of March,Sonko,Hot Air,Haaland', 'manasseh_gish', 0, 0]\n"
     ]
    }
   ],
   "source": [
    "트위자료 = [트위.date, 트위.id, 트위.rawContent, 트위.user.username, 트위.likeCount, 트위.retweetCount]\n",
    "print(트위자료) #원하는 속성의 값만 모아 출력"
   ]
  },
  {
   "cell_type": "code",
   "execution_count": 16,
   "id": "a17b36c5",
   "metadata": {},
   "outputs": [],
   "source": [
    "스크레이퍼 = sntwitter.TwitterSearchScraper(\"#python\")\n",
    "트윗묶음 = []\n",
    "for i, 트윗 in enumerate(스크레이퍼.get_items()):\n",
    "    트윗자료 = [트윗.date, 트윗.id, 트윗.rawContent, 트윗.user.username, 트윗.likeCount, 트윗.retweetCount]\n",
    "    트윗묶음.append(트윗자료)##여러개를 한번에 첨부할 때 사용\n",
    "    if i > 50: break"
   ]
  },
  {
   "cell_type": "code",
   "execution_count": 17,
   "id": "db34595b",
   "metadata": {},
   "outputs": [
    {
     "data": {
      "text/plain": [
       "52"
      ]
     },
     "execution_count": 17,
     "metadata": {},
     "output_type": "execute_result"
    }
   ],
   "source": [
    "len(트윗묶음)"
   ]
  },
  {
   "cell_type": "code",
   "execution_count": 20,
   "id": "6d294416",
   "metadata": {},
   "outputs": [
    {
     "data": {
      "text/html": [
       "<div>\n",
       "<style scoped>\n",
       "    .dataframe tbody tr th:only-of-type {\n",
       "        vertical-align: middle;\n",
       "    }\n",
       "\n",
       "    .dataframe tbody tr th {\n",
       "        vertical-align: top;\n",
       "    }\n",
       "\n",
       "    .dataframe thead th {\n",
       "        text-align: right;\n",
       "    }\n",
       "</style>\n",
       "<table border=\"1\" class=\"dataframe\">\n",
       "  <thead>\n",
       "    <tr style=\"text-align: right;\">\n",
       "      <th></th>\n",
       "      <th>date</th>\n",
       "      <th>id</th>\n",
       "      <th>content</th>\n",
       "      <th>username</th>\n",
       "      <th>likeCount</th>\n",
       "      <th>retweetCount</th>\n",
       "    </tr>\n",
       "  </thead>\n",
       "  <tbody>\n",
       "    <tr>\n",
       "      <th>0</th>\n",
       "      <td>2023-03-15 06:30:05+00:00</td>\n",
       "      <td>1635891098550779904</td>\n",
       "      <td>Top 5 category on twitch right now : \\nJust Ch...</td>\n",
       "      <td>TopFiveTwitch</td>\n",
       "      <td>0</td>\n",
       "      <td>0</td>\n",
       "    </tr>\n",
       "    <tr>\n",
       "      <th>1</th>\n",
       "      <td>2023-03-15 06:30:04+00:00</td>\n",
       "      <td>1635891091424657410</td>\n",
       "      <td>Excited to see the diverse applications of #Ja...</td>\n",
       "      <td>r_william_1</td>\n",
       "      <td>0</td>\n",
       "      <td>0</td>\n",
       "    </tr>\n",
       "    <tr>\n",
       "      <th>2</th>\n",
       "      <td>2023-03-15 06:30:03+00:00</td>\n",
       "      <td>1635891088866041857</td>\n",
       "      <td>🦄  Anduril Industries  is hiring Electrical En...</td>\n",
       "      <td>echojobs_io</td>\n",
       "      <td>0</td>\n",
       "      <td>0</td>\n",
       "    </tr>\n",
       "    <tr>\n",
       "      <th>3</th>\n",
       "      <td>2023-03-15 06:30:01+00:00</td>\n",
       "      <td>1635891081270431744</td>\n",
       "      <td>プログラミング初心者、駆け出しエンジニアの手伝いをします\\n https://t.co/uc...</td>\n",
       "      <td>y__hayashi</td>\n",
       "      <td>0</td>\n",
       "      <td>0</td>\n",
       "    </tr>\n",
       "    <tr>\n",
       "      <th>4</th>\n",
       "      <td>2023-03-15 06:29:47+00:00</td>\n",
       "      <td>1635891019488145408</td>\n",
       "      <td>Excited to dive into #PyTorch and #ScikitLearn...</td>\n",
       "      <td>Inkstall</td>\n",
       "      <td>0</td>\n",
       "      <td>0</td>\n",
       "    </tr>\n",
       "  </tbody>\n",
       "</table>\n",
       "</div>"
      ],
      "text/plain": [
       "                       date                   id  \\\n",
       "0 2023-03-15 06:30:05+00:00  1635891098550779904   \n",
       "1 2023-03-15 06:30:04+00:00  1635891091424657410   \n",
       "2 2023-03-15 06:30:03+00:00  1635891088866041857   \n",
       "3 2023-03-15 06:30:01+00:00  1635891081270431744   \n",
       "4 2023-03-15 06:29:47+00:00  1635891019488145408   \n",
       "\n",
       "                                             content       username  \\\n",
       "0  Top 5 category on twitch right now : \\nJust Ch...  TopFiveTwitch   \n",
       "1  Excited to see the diverse applications of #Ja...    r_william_1   \n",
       "2  🦄  Anduril Industries  is hiring Electrical En...    echojobs_io   \n",
       "3  プログラミング初心者、駆け出しエンジニアの手伝いをします\\n https://t.co/uc...     y__hayashi   \n",
       "4  Excited to dive into #PyTorch and #ScikitLearn...       Inkstall   \n",
       "\n",
       "   likeCount  retweetCount  \n",
       "0          0             0  \n",
       "1          0             0  \n",
       "2          0             0  \n",
       "3          0             0  \n",
       "4          0             0  "
      ]
     },
     "execution_count": 20,
     "metadata": {},
     "output_type": "execute_result"
    }
   ],
   "source": [
    "트윗_df  = pd.DataFrame(트윗묶음,columns=[\"date\",\"id\",\"content\",\"username\",\"likeCount\",\"retweetCount\"])#위에서 가져온 묶음을 데이터프레임으로 형성\n",
    "트윗_df.head()"
   ]
  },
  {
   "cell_type": "markdown",
   "id": "76dec9fe",
   "metadata": {},
   "source": [
    "### 진행바(Progress Bar) 추가"
   ]
  },
  {
   "cell_type": "code",
   "execution_count": 21,
   "id": "031c0243",
   "metadata": {},
   "outputs": [
    {
     "name": "stdout",
     "output_type": "stream",
     "text": [
      "Collecting tqdm\n",
      "  Downloading tqdm-4.65.0-py3-none-any.whl (77 kB)\n",
      "     ---------------------------------------- 0.0/77.1 kB ? eta -:--:--\n",
      "     ---------------------------------------- 77.1/77.1 kB 2.2 MB/s eta 0:00:00\n",
      "Requirement already satisfied: colorama in c:\\users\\sm-pc\\appdata\\local\\programs\\python\\python39\\lib\\site-packages (from tqdm) (0.4.6)\n",
      "Installing collected packages: tqdm\n",
      "Successfully installed tqdm-4.65.0\n"
     ]
    }
   ],
   "source": [
    "!pip install tqdm ##프로그램이 얼마나 진행되고있는지 알려주는 진행바"
   ]
  },
  {
   "cell_type": "code",
   "execution_count": 22,
   "id": "e10147a3",
   "metadata": {},
   "outputs": [],
   "source": [
    "from tqdm.notebook import tqdm"
   ]
  },
  {
   "cell_type": "code",
   "execution_count": 23,
   "id": "74c6ed3b",
   "metadata": {},
   "outputs": [
    {
     "data": {
      "application/vnd.jupyter.widget-view+json": {
       "model_id": "cf52da8cb7a344ecbede3685d445001d",
       "version_major": 2,
       "version_minor": 0
      },
      "text/plain": [
       "진행률:   0%|          | 0/1000 [00:00<?, ?it/s]"
      ]
     },
     "metadata": {},
     "output_type": "display_data"
    },
    {
     "data": {
      "text/html": [
       "<div>\n",
       "<style scoped>\n",
       "    .dataframe tbody tr th:only-of-type {\n",
       "        vertical-align: middle;\n",
       "    }\n",
       "\n",
       "    .dataframe tbody tr th {\n",
       "        vertical-align: top;\n",
       "    }\n",
       "\n",
       "    .dataframe thead th {\n",
       "        text-align: right;\n",
       "    }\n",
       "</style>\n",
       "<table border=\"1\" class=\"dataframe\">\n",
       "  <thead>\n",
       "    <tr style=\"text-align: right;\">\n",
       "      <th></th>\n",
       "      <th>date</th>\n",
       "      <th>id</th>\n",
       "      <th>content</th>\n",
       "      <th>username</th>\n",
       "      <th>likeCount</th>\n",
       "      <th>retweetCount</th>\n",
       "    </tr>\n",
       "  </thead>\n",
       "  <tbody>\n",
       "    <tr>\n",
       "      <th>0</th>\n",
       "      <td>2023-03-15 06:35:05+00:00</td>\n",
       "      <td>1635892353155190788</td>\n",
       "      <td>Excavation for a home wastewater recycling sys...</td>\n",
       "      <td>immazoct</td>\n",
       "      <td>0</td>\n",
       "      <td>0</td>\n",
       "    </tr>\n",
       "    <tr>\n",
       "      <th>1</th>\n",
       "      <td>2023-03-15 06:35:00+00:00</td>\n",
       "      <td>1635892332342964225</td>\n",
       "      <td>Can businesses build #trustworthy and #accurat...</td>\n",
       "      <td>VeilleCyber3</td>\n",
       "      <td>0</td>\n",
       "      <td>1</td>\n",
       "    </tr>\n",
       "    <tr>\n",
       "      <th>2</th>\n",
       "      <td>2023-03-15 06:33:59+00:00</td>\n",
       "      <td>1635892076221980672</td>\n",
       "      <td>@realpython #python #tweet @savetonotion</td>\n",
       "      <td>mohdatif1987</td>\n",
       "      <td>0</td>\n",
       "      <td>0</td>\n",
       "    </tr>\n",
       "    <tr>\n",
       "      <th>3</th>\n",
       "      <td>2023-03-15 06:33:58+00:00</td>\n",
       "      <td>1635892075609686016</td>\n",
       "      <td>@realpython #python #tweet @savetonotion</td>\n",
       "      <td>mohdatif1987</td>\n",
       "      <td>0</td>\n",
       "      <td>0</td>\n",
       "    </tr>\n",
       "    <tr>\n",
       "      <th>4</th>\n",
       "      <td>2023-03-15 06:33:58+00:00</td>\n",
       "      <td>1635892075018289154</td>\n",
       "      <td>@realpython #python #tweet @savetonotion</td>\n",
       "      <td>mohdatif1987</td>\n",
       "      <td>0</td>\n",
       "      <td>0</td>\n",
       "    </tr>\n",
       "  </tbody>\n",
       "</table>\n",
       "</div>"
      ],
      "text/plain": [
       "                       date                   id  \\\n",
       "0 2023-03-15 06:35:05+00:00  1635892353155190788   \n",
       "1 2023-03-15 06:35:00+00:00  1635892332342964225   \n",
       "2 2023-03-15 06:33:59+00:00  1635892076221980672   \n",
       "3 2023-03-15 06:33:58+00:00  1635892075609686016   \n",
       "4 2023-03-15 06:33:58+00:00  1635892075018289154   \n",
       "\n",
       "                                             content      username  likeCount  \\\n",
       "0  Excavation for a home wastewater recycling sys...      immazoct          0   \n",
       "1  Can businesses build #trustworthy and #accurat...  VeilleCyber3          0   \n",
       "2           @realpython #python #tweet @savetonotion  mohdatif1987          0   \n",
       "3           @realpython #python #tweet @savetonotion  mohdatif1987          0   \n",
       "4           @realpython #python #tweet @savetonotion  mohdatif1987          0   \n",
       "\n",
       "   retweetCount  \n",
       "0             0  \n",
       "1             1  \n",
       "2             0  \n",
       "3             0  \n",
       "4             0  "
      ]
     },
     "execution_count": 23,
     "metadata": {},
     "output_type": "execute_result"
    }
   ],
   "source": [
    "스크레이퍼 = sntwitter.TwitterSearchScraper(\"#python\")\n",
    "트윗묶음 = []\n",
    "n_트윗묶음 = 1_000\n",
    "for i, 트윗 in tqdm(enumerate(스크레이퍼.get_items()),desc=\"진행률\",total=n_트윗묶음): ##이 부분을 진행바를 통해 표현\n",
    "    트윗자료 = [트윗.date, 트윗.id, 트윗.rawContent, 트윗.user.username, 트윗.likeCount, 트윗.retweetCount]\n",
    "    트윗묶음.append(트윗자료)\n",
    "    if i > n_트윗묶음: break\n",
    "\n",
    "\n",
    "트윗_df  = pd.DataFrame(트윗묶음,columns=[\"date\",\"id\",\"content\",\"username\",\"likeCount\",\"retweetCount\"])\n",
    "트윗_df.head()\n",
    "        "
   ]
  }
 ],
 "metadata": {
  "kernelspec": {
   "display_name": "Python 3 (ipykernel)",
   "language": "python",
   "name": "python3"
  },
  "language_info": {
   "codemirror_mode": {
    "name": "ipython",
    "version": 3
   },
   "file_extension": ".py",
   "mimetype": "text/x-python",
   "name": "python",
   "nbconvert_exporter": "python",
   "pygments_lexer": "ipython3",
   "version": "3.9.13"
  }
 },
 "nbformat": 4,
 "nbformat_minor": 5
}
