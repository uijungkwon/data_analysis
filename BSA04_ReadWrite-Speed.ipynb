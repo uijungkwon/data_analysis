{
 "cells": [
  {
   "cell_type": "code",
   "execution_count": 1,
   "metadata": {},
   "outputs": [],
   "source": [
    "import numpy as np\n",
    "import pandas as pd\n",
    "\n",
    "pd.options.display.float_format ='{:,.4f}'.format"
   ]
  },
  {
   "cell_type": "code",
   "execution_count": 2,
   "metadata": {},
   "outputs": [
    {
     "data": {
      "text/html": [
       "<div>\n",
       "<style scoped>\n",
       "    .dataframe tbody tr th:only-of-type {\n",
       "        vertical-align: middle;\n",
       "    }\n",
       "\n",
       "    .dataframe tbody tr th {\n",
       "        vertical-align: top;\n",
       "    }\n",
       "\n",
       "    .dataframe thead th {\n",
       "        text-align: right;\n",
       "    }\n",
       "</style>\n",
       "<table border=\"1\" class=\"dataframe\">\n",
       "  <thead>\n",
       "    <tr style=\"text-align: right;\">\n",
       "      <th></th>\n",
       "      <th>0</th>\n",
       "      <th>1</th>\n",
       "      <th>2</th>\n",
       "      <th>3</th>\n",
       "      <th>4</th>\n",
       "      <th>5</th>\n",
       "      <th>6</th>\n",
       "      <th>7</th>\n",
       "      <th>8</th>\n",
       "      <th>9</th>\n",
       "    </tr>\n",
       "  </thead>\n",
       "  <tbody>\n",
       "    <tr>\n",
       "      <th>0</th>\n",
       "      <td>0.0920</td>\n",
       "      <td>0.7445</td>\n",
       "      <td>0.0998</td>\n",
       "      <td>0.8197</td>\n",
       "      <td>0.9221</td>\n",
       "      <td>0.7033</td>\n",
       "      <td>0.9407</td>\n",
       "      <td>0.7866</td>\n",
       "      <td>0.7943</td>\n",
       "      <td>0.3687</td>\n",
       "    </tr>\n",
       "    <tr>\n",
       "      <th>1</th>\n",
       "      <td>0.8380</td>\n",
       "      <td>0.9759</td>\n",
       "      <td>0.9613</td>\n",
       "      <td>0.9401</td>\n",
       "      <td>0.5545</td>\n",
       "      <td>0.4744</td>\n",
       "      <td>0.6102</td>\n",
       "      <td>0.0719</td>\n",
       "      <td>0.8165</td>\n",
       "      <td>0.3546</td>\n",
       "    </tr>\n",
       "    <tr>\n",
       "      <th>2</th>\n",
       "      <td>0.3765</td>\n",
       "      <td>0.0143</td>\n",
       "      <td>0.6231</td>\n",
       "      <td>0.4755</td>\n",
       "      <td>0.9187</td>\n",
       "      <td>0.2138</td>\n",
       "      <td>0.2814</td>\n",
       "      <td>0.1157</td>\n",
       "      <td>0.4695</td>\n",
       "      <td>0.0729</td>\n",
       "    </tr>\n",
       "    <tr>\n",
       "      <th>3</th>\n",
       "      <td>0.0663</td>\n",
       "      <td>0.0862</td>\n",
       "      <td>0.4757</td>\n",
       "      <td>0.5172</td>\n",
       "      <td>0.2152</td>\n",
       "      <td>0.6615</td>\n",
       "      <td>0.1177</td>\n",
       "      <td>0.2368</td>\n",
       "      <td>0.5583</td>\n",
       "      <td>0.4574</td>\n",
       "    </tr>\n",
       "    <tr>\n",
       "      <th>4</th>\n",
       "      <td>0.7970</td>\n",
       "      <td>0.3693</td>\n",
       "      <td>0.8625</td>\n",
       "      <td>0.8832</td>\n",
       "      <td>0.7024</td>\n",
       "      <td>0.8496</td>\n",
       "      <td>0.2042</td>\n",
       "      <td>0.5082</td>\n",
       "      <td>0.4817</td>\n",
       "      <td>0.2429</td>\n",
       "    </tr>\n",
       "    <tr>\n",
       "      <th>...</th>\n",
       "      <td>...</td>\n",
       "      <td>...</td>\n",
       "      <td>...</td>\n",
       "      <td>...</td>\n",
       "      <td>...</td>\n",
       "      <td>...</td>\n",
       "      <td>...</td>\n",
       "      <td>...</td>\n",
       "      <td>...</td>\n",
       "      <td>...</td>\n",
       "    </tr>\n",
       "    <tr>\n",
       "      <th>99995</th>\n",
       "      <td>0.0885</td>\n",
       "      <td>0.8727</td>\n",
       "      <td>0.7511</td>\n",
       "      <td>0.8401</td>\n",
       "      <td>0.3395</td>\n",
       "      <td>0.2251</td>\n",
       "      <td>0.9226</td>\n",
       "      <td>0.7236</td>\n",
       "      <td>0.7175</td>\n",
       "      <td>0.5748</td>\n",
       "    </tr>\n",
       "    <tr>\n",
       "      <th>99996</th>\n",
       "      <td>0.6055</td>\n",
       "      <td>0.6078</td>\n",
       "      <td>0.0825</td>\n",
       "      <td>0.0338</td>\n",
       "      <td>0.7491</td>\n",
       "      <td>0.8998</td>\n",
       "      <td>0.0368</td>\n",
       "      <td>0.9709</td>\n",
       "      <td>0.2390</td>\n",
       "      <td>0.2955</td>\n",
       "    </tr>\n",
       "    <tr>\n",
       "      <th>99997</th>\n",
       "      <td>0.9147</td>\n",
       "      <td>0.9093</td>\n",
       "      <td>0.2769</td>\n",
       "      <td>0.2125</td>\n",
       "      <td>0.3403</td>\n",
       "      <td>0.9216</td>\n",
       "      <td>0.3922</td>\n",
       "      <td>0.1873</td>\n",
       "      <td>0.7326</td>\n",
       "      <td>0.5595</td>\n",
       "    </tr>\n",
       "    <tr>\n",
       "      <th>99998</th>\n",
       "      <td>0.9332</td>\n",
       "      <td>0.4181</td>\n",
       "      <td>0.4892</td>\n",
       "      <td>0.2164</td>\n",
       "      <td>0.8559</td>\n",
       "      <td>0.3394</td>\n",
       "      <td>0.8338</td>\n",
       "      <td>0.9139</td>\n",
       "      <td>0.3642</td>\n",
       "      <td>0.4553</td>\n",
       "    </tr>\n",
       "    <tr>\n",
       "      <th>99999</th>\n",
       "      <td>0.7575</td>\n",
       "      <td>0.6447</td>\n",
       "      <td>0.7454</td>\n",
       "      <td>0.5564</td>\n",
       "      <td>0.7454</td>\n",
       "      <td>0.0598</td>\n",
       "      <td>0.9802</td>\n",
       "      <td>0.8282</td>\n",
       "      <td>0.7113</td>\n",
       "      <td>0.2143</td>\n",
       "    </tr>\n",
       "  </tbody>\n",
       "</table>\n",
       "<p>100000 rows × 10 columns</p>\n",
       "</div>"
      ],
      "text/plain": [
       "           0      1      2      3      4      5      6      7      8      9\n",
       "0     0.0920 0.7445 0.0998 0.8197 0.9221 0.7033 0.9407 0.7866 0.7943 0.3687\n",
       "1     0.8380 0.9759 0.9613 0.9401 0.5545 0.4744 0.6102 0.0719 0.8165 0.3546\n",
       "2     0.3765 0.0143 0.6231 0.4755 0.9187 0.2138 0.2814 0.1157 0.4695 0.0729\n",
       "3     0.0663 0.0862 0.4757 0.5172 0.2152 0.6615 0.1177 0.2368 0.5583 0.4574\n",
       "4     0.7970 0.3693 0.8625 0.8832 0.7024 0.8496 0.2042 0.5082 0.4817 0.2429\n",
       "...      ...    ...    ...    ...    ...    ...    ...    ...    ...    ...\n",
       "99995 0.0885 0.8727 0.7511 0.8401 0.3395 0.2251 0.9226 0.7236 0.7175 0.5748\n",
       "99996 0.6055 0.6078 0.0825 0.0338 0.7491 0.8998 0.0368 0.9709 0.2390 0.2955\n",
       "99997 0.9147 0.9093 0.2769 0.2125 0.3403 0.9216 0.3922 0.1873 0.7326 0.5595\n",
       "99998 0.9332 0.4181 0.4892 0.2164 0.8559 0.3394 0.8338 0.9139 0.3642 0.4553\n",
       "99999 0.7575 0.6447 0.7454 0.5564 0.7454 0.0598 0.9802 0.8282 0.7113 0.2143\n",
       "\n",
       "[100000 rows x 10 columns]"
      ]
     },
     "execution_count": 2,
     "metadata": {},
     "output_type": "execute_result"
    }
   ],
   "source": [
    "#random으로 100,000개 관측개체 X 10변수\n",
    "난수개수 = 100000\n",
    "변수개수 = 10\n",
    "values = np.random.random((난수개수, 변수개수))# 난수 생성\n",
    "df = pd.DataFrame(values)\n",
    "df"
   ]
  },
  {
   "cell_type": "markdown",
   "metadata": {},
   "source": [
    "## Pandas DataFrame\n",
    "#### > info(): DF에 대한 기본정보(행과열의 수, 각 열의 데이터 타입 등)\n",
    "#### > shape:행과 열의 수\n",
    "#### > dtypes:변수(열)의 데이터 형식\n",
    "#### > columns: 변수 명\n",
    "####     >전체 열 이름 변경: df.columns=[..]\n",
    "####     >열 이름 부분 변경: df.rename(columns={'0':'A', '1':'B'}, inplace=True)\n",
    "#### > head(): 앞 부분 5개 return ->데이터 선택\n",
    "#### > tail(): 뒷 부분 5개 return -> 뒷부분 데이터 선택\n",
    "#### > loc: index(행) 이름 해당 또는 T/F값에 따른 데이터 선택\n",
    "#### >iloc:번호로 행/열 데이터 선택\n",
    "#### > query(): 열들에 대해 boolean 연산결과로 rows 선택\n",
    "####     > Ex: df.query('A > B' )#df[df.A>df.B] 와 동일\n"
   ]
  },
  {
   "cell_type": "code",
   "execution_count": 3,
   "metadata": {
    "scrolled": true
   },
   "outputs": [
    {
     "name": "stdout",
     "output_type": "stream",
     "text": [
      "<class 'pandas.core.frame.DataFrame'>\n",
      "RangeIndex: 100000 entries, 0 to 99999\n",
      "Data columns (total 10 columns):\n",
      " #   Column  Non-Null Count   Dtype  \n",
      "---  ------  --------------   -----  \n",
      " 0   A       100000 non-null  float64\n",
      " 1   B       100000 non-null  float64\n",
      " 2   C       100000 non-null  float64\n",
      " 3   D       100000 non-null  float64\n",
      " 4   E       100000 non-null  float64\n",
      " 5   F       100000 non-null  float64\n",
      " 6   G       100000 non-null  float64\n",
      " 7   H       100000 non-null  float64\n",
      " 8   I       100000 non-null  float64\n",
      " 9   J       100000 non-null  float64\n",
      "dtypes: float64(10)\n",
      "memory usage: 7.6 MB\n"
     ]
    }
   ],
   "source": [
    "df.columns=['A','B','C','D','E','F','G','H','I','J']\n",
    "df.info()"
   ]
  },
  {
   "cell_type": "code",
   "execution_count": 4,
   "metadata": {},
   "outputs": [],
   "source": [
    "test = df.head(n=10)"
   ]
  },
  {
   "cell_type": "code",
   "execution_count": 5,
   "metadata": {},
   "outputs": [
    {
     "data": {
      "text/html": [
       "<div>\n",
       "<style scoped>\n",
       "    .dataframe tbody tr th:only-of-type {\n",
       "        vertical-align: middle;\n",
       "    }\n",
       "\n",
       "    .dataframe tbody tr th {\n",
       "        vertical-align: top;\n",
       "    }\n",
       "\n",
       "    .dataframe thead th {\n",
       "        text-align: right;\n",
       "    }\n",
       "</style>\n",
       "<table border=\"1\" class=\"dataframe\">\n",
       "  <thead>\n",
       "    <tr style=\"text-align: right;\">\n",
       "      <th></th>\n",
       "      <th>A</th>\n",
       "      <th>B</th>\n",
       "      <th>C</th>\n",
       "      <th>D</th>\n",
       "      <th>E</th>\n",
       "      <th>F</th>\n",
       "      <th>G</th>\n",
       "      <th>H</th>\n",
       "      <th>I</th>\n",
       "      <th>J</th>\n",
       "    </tr>\n",
       "  </thead>\n",
       "  <tbody>\n",
       "    <tr>\n",
       "      <th>5</th>\n",
       "      <td>0.4489</td>\n",
       "      <td>0.4909</td>\n",
       "      <td>0.7725</td>\n",
       "      <td>0.2022</td>\n",
       "      <td>0.8953</td>\n",
       "      <td>0.5092</td>\n",
       "      <td>0.8173</td>\n",
       "      <td>0.7625</td>\n",
       "      <td>0.1443</td>\n",
       "      <td>0.4925</td>\n",
       "    </tr>\n",
       "    <tr>\n",
       "      <th>6</th>\n",
       "      <td>0.4394</td>\n",
       "      <td>0.3217</td>\n",
       "      <td>0.1132</td>\n",
       "      <td>0.2208</td>\n",
       "      <td>0.8095</td>\n",
       "      <td>0.3704</td>\n",
       "      <td>0.2286</td>\n",
       "      <td>0.9346</td>\n",
       "      <td>0.4471</td>\n",
       "      <td>0.5666</td>\n",
       "    </tr>\n",
       "    <tr>\n",
       "      <th>7</th>\n",
       "      <td>0.9303</td>\n",
       "      <td>0.7911</td>\n",
       "      <td>0.5430</td>\n",
       "      <td>0.5337</td>\n",
       "      <td>0.4684</td>\n",
       "      <td>0.8183</td>\n",
       "      <td>0.1370</td>\n",
       "      <td>0.4674</td>\n",
       "      <td>0.2443</td>\n",
       "      <td>0.0493</td>\n",
       "    </tr>\n",
       "    <tr>\n",
       "      <th>8</th>\n",
       "      <td>0.6201</td>\n",
       "      <td>0.0116</td>\n",
       "      <td>0.6107</td>\n",
       "      <td>0.2698</td>\n",
       "      <td>0.0358</td>\n",
       "      <td>0.3431</td>\n",
       "      <td>0.3442</td>\n",
       "      <td>0.0320</td>\n",
       "      <td>0.3502</td>\n",
       "      <td>0.9311</td>\n",
       "    </tr>\n",
       "    <tr>\n",
       "      <th>9</th>\n",
       "      <td>0.7490</td>\n",
       "      <td>0.1973</td>\n",
       "      <td>0.5404</td>\n",
       "      <td>0.2042</td>\n",
       "      <td>0.3305</td>\n",
       "      <td>0.1897</td>\n",
       "      <td>0.0621</td>\n",
       "      <td>0.3288</td>\n",
       "      <td>0.2298</td>\n",
       "      <td>0.9059</td>\n",
       "    </tr>\n",
       "  </tbody>\n",
       "</table>\n",
       "</div>"
      ],
      "text/plain": [
       "       A      B      C      D      E      F      G      H      I      J\n",
       "5 0.4489 0.4909 0.7725 0.2022 0.8953 0.5092 0.8173 0.7625 0.1443 0.4925\n",
       "6 0.4394 0.3217 0.1132 0.2208 0.8095 0.3704 0.2286 0.9346 0.4471 0.5666\n",
       "7 0.9303 0.7911 0.5430 0.5337 0.4684 0.8183 0.1370 0.4674 0.2443 0.0493\n",
       "8 0.6201 0.0116 0.6107 0.2698 0.0358 0.3431 0.3442 0.0320 0.3502 0.9311\n",
       "9 0.7490 0.1973 0.5404 0.2042 0.3305 0.1897 0.0621 0.3288 0.2298 0.9059"
      ]
     },
     "execution_count": 5,
     "metadata": {},
     "output_type": "execute_result"
    }
   ],
   "source": [
    "test.tail()"
   ]
  },
  {
   "cell_type": "markdown",
   "metadata": {},
   "source": [
    "## 작업속도비교"
   ]
  },
  {
   "cell_type": "markdown",
   "metadata": {},
   "source": [
    "##### timeit으로 실행 ->측정한 시간을 비교"
   ]
  },
  {
   "cell_type": "code",
   "execution_count": 6,
   "metadata": {},
   "outputs": [
    {
     "data": {
      "text/html": [
       "<div>\n",
       "<style scoped>\n",
       "    .dataframe tbody tr th:only-of-type {\n",
       "        vertical-align: middle;\n",
       "    }\n",
       "\n",
       "    .dataframe tbody tr th {\n",
       "        vertical-align: top;\n",
       "    }\n",
       "\n",
       "    .dataframe thead th {\n",
       "        text-align: right;\n",
       "    }\n",
       "</style>\n",
       "<table border=\"1\" class=\"dataframe\">\n",
       "  <thead>\n",
       "    <tr style=\"text-align: right;\">\n",
       "      <th></th>\n",
       "      <th>read</th>\n",
       "      <th>write</th>\n",
       "    </tr>\n",
       "  </thead>\n",
       "  <tbody>\n",
       "  </tbody>\n",
       "</table>\n",
       "</div>"
      ],
      "text/plain": [
       "Empty DataFrame\n",
       "Columns: [read, write]\n",
       "Index: []"
      ]
     },
     "execution_count": 6,
     "metadata": {},
     "output_type": "execute_result"
    }
   ],
   "source": [
    "#결과를 저장할 빈 데이터 프레임 생성\n",
    "df_result = pd.DataFrame(columns=['read','write'])\n",
    "df_result.head()"
   ]
  },
  {
   "cell_type": "code",
   "execution_count": 8,
   "metadata": {},
   "outputs": [
    {
     "name": "stdout",
     "output_type": "stream",
     "text": [
      "Requirement already satisfied: openpyxl in c:\\programdata\\anaconda3\\lib\\site-packages (3.0.5)\n",
      "Requirement already satisfied: jdcal in c:\\programdata\\anaconda3\\lib\\site-packages (from openpyxl) (1.4.1)\n",
      "Requirement already satisfied: et-xmlfile in c:\\programdata\\anaconda3\\lib\\site-packages (from openpyxl) (1.0.1)\n"
     ]
    }
   ],
   "source": [
    "!pip install openpyxl# 엑셀을 읽고 쓰는게 가능해짐"
   ]
  },
  {
   "cell_type": "code",
   "execution_count": null,
   "metadata": {},
   "outputs": [
    {
     "name": "stdout",
     "output_type": "stream",
     "text": [
      "44.7 s ± 860 ms per loop (mean ± std. dev. of 7 runs, 1 loop each)\n"
     ]
    }
   ],
   "source": [
    "#EXCEL -> 시간이 많이 걸리므로 실행 x\n",
    "tm = %timeit -o df.to_excel('test_data.xlsx')\n",
    "df_result.loc['excel','write'] = tm.best\n",
    "tm = %timeit -o df = pd.read_excel('test_data.xlsx')\n",
    "df_result.loc['excel','read'] = tm.best"
   ]
  },
  {
   "cell_type": "code",
   "execution_count": 7,
   "metadata": {},
   "outputs": [
    {
     "name": "stdout",
     "output_type": "stream",
     "text": [
      "1.14 s ± 15.9 ms per loop (mean ± std. dev. of 7 runs, 1 loop each)\n",
      "160 ms ± 1.39 ms per loop (mean ± std. dev. of 7 runs, 10 loops each)\n"
     ]
    }
   ],
   "source": [
    "#CSV\n",
    "tm = %timeit -o df.to_csv('test_data.csv')\n",
    "df_result.loc['csv','write'] = tm.best\n",
    "tm = %timeit -o df = pd.read_csv('test_data.csv')\n",
    "df_result.loc['csv','read'] = tm.best"
   ]
  },
  {
   "cell_type": "code",
   "execution_count": 8,
   "metadata": {},
   "outputs": [
    {
     "name": "stdout",
     "output_type": "stream",
     "text": [
      "2.25 ms ± 24.1 µs per loop (mean ± std. dev. of 7 runs, 100 loops each)\n",
      "2.75 ms ± 139 µs per loop (mean ± std. dev. of 7 runs, 100 loops each)\n"
     ]
    }
   ],
   "source": [
    "#pickle\n",
    "tm = %timeit -o df.to_pickle('test_data.pickle')\n",
    "df_result.loc['pickle','write'] = tm.best\n",
    "tm = %timeit -o df = pd.read_pickle('test_data.pickle')\n",
    "df_result.loc['pickle','read'] = tm.best"
   ]
  },
  {
   "cell_type": "code",
   "execution_count": 9,
   "metadata": {},
   "outputs": [
    {
     "name": "stdout",
     "output_type": "stream",
     "text": [
      "8.07 ms ± 83.3 µs per loop (mean ± std. dev. of 7 runs, 100 loops each)\n",
      "6.21 ms ± 83.3 µs per loop (mean ± std. dev. of 7 runs, 100 loops each)\n"
     ]
    }
   ],
   "source": [
    "#feather\n",
    "tm = %timeit -o df.to_feather('test_data.ftr')\n",
    "df_result.loc['feather','write'] = tm.best\n",
    "tm = %timeit -o df = pd.read_feather('test_data.ftr')\n",
    "df_result.loc['feather','read'] = tm.best"
   ]
  },
  {
   "cell_type": "markdown",
   "metadata": {},
   "source": [
    "### parquet(파케이):\n",
    "##### > 많은 빅데이터  처리 프레임 워크 및 플랫폼 지원\n",
    "##### > 다양한 I/O 최적화를 제공하는 오픈소스 칼럼 기반 파일 형식"
   ]
  },
  {
   "cell_type": "code",
   "execution_count": 10,
   "metadata": {},
   "outputs": [
    {
     "name": "stdout",
     "output_type": "stream",
     "text": [
      "66 ms ± 1.33 ms per loop (mean ± std. dev. of 7 runs, 10 loops each)\n",
      "10.2 ms ± 113 µs per loop (mean ± std. dev. of 7 runs, 100 loops each)\n"
     ]
    }
   ],
   "source": [
    "tm = %timeit -o df.to_parquet('test_data.parquet')\n",
    "df_result.loc['parquet','write'] = tm.best\n",
    "tm = %timeit -o df = pd.read_parquet('test_data.parquet')\n",
    "df_result.loc['parquet','read'] = tm.best"
   ]
  },
  {
   "cell_type": "markdown",
   "metadata": {},
   "source": [
    "## Spark 기본 데이터 소스\n",
    "##### > Parquet files\n",
    "##### > ORC files\n",
    "##### > json files\n",
    "##### > csv files\n",
    "##### > Text files\n",
    "##### > Hive tables\n",
    "##### > JDBC to other databases\n",
    "##### > Avro files\n",
    "##### > Binary file: Ex, image file"
   ]
  },
  {
   "cell_type": "code",
   "execution_count": 11,
   "metadata": {},
   "outputs": [
    {
     "data": {
      "text/html": [
       "<div>\n",
       "<style scoped>\n",
       "    .dataframe tbody tr th:only-of-type {\n",
       "        vertical-align: middle;\n",
       "    }\n",
       "\n",
       "    .dataframe tbody tr th {\n",
       "        vertical-align: top;\n",
       "    }\n",
       "\n",
       "    .dataframe thead th {\n",
       "        text-align: right;\n",
       "    }\n",
       "</style>\n",
       "<table border=\"1\" class=\"dataframe\">\n",
       "  <thead>\n",
       "    <tr style=\"text-align: right;\">\n",
       "      <th></th>\n",
       "      <th>read</th>\n",
       "      <th>write</th>\n",
       "    </tr>\n",
       "  </thead>\n",
       "  <tbody>\n",
       "    <tr>\n",
       "      <th>csv</th>\n",
       "      <td>0.1582</td>\n",
       "      <td>1.1177</td>\n",
       "    </tr>\n",
       "    <tr>\n",
       "      <th>pickle</th>\n",
       "      <td>0.0026</td>\n",
       "      <td>0.0022</td>\n",
       "    </tr>\n",
       "    <tr>\n",
       "      <th>feather</th>\n",
       "      <td>0.0061</td>\n",
       "      <td>0.0080</td>\n",
       "    </tr>\n",
       "    <tr>\n",
       "      <th>parquet</th>\n",
       "      <td>0.0101</td>\n",
       "      <td>0.0649</td>\n",
       "    </tr>\n",
       "  </tbody>\n",
       "</table>\n",
       "</div>"
      ],
      "text/plain": [
       "          read  write\n",
       "csv     0.1582 1.1177\n",
       "pickle  0.0026 0.0022\n",
       "feather 0.0061 0.0080\n",
       "parquet 0.0101 0.0649"
      ]
     },
     "execution_count": 11,
     "metadata": {},
     "output_type": "execute_result"
    }
   ],
   "source": [
    "df_result"
   ]
  },
  {
   "cell_type": "code",
   "execution_count": 14,
   "metadata": {},
   "outputs": [],
   "source": [
    "%matplotlib inline\n",
    "import matplotlib.pyplot as plt\n",
    "plt.rcParams['axes.grid'] = True\n",
    "plt.rcParams['figure.figsize'] =(10,5) \n",
    "plt.rcParams['font.size'] = 20 "
   ]
  },
  {
   "cell_type": "code",
   "execution_count": 15,
   "metadata": {},
   "outputs": [
    {
     "data": {
      "image/png": "[encoded data removed]",
      "text/plain": [
       "<Figure size 1000x500 with 1 Axes>"
      ]
     },
     "metadata": {},
     "output_type": "display_data"
    }
   ],
   "source": [
    "df_result\n",
    "df_result.plot(kind='bar')\n",
    "plt.show()"
   ]
  }
 ],
 "metadata": {
  "kernelspec": {
   "display_name": "Python 3 (ipykernel)",
   "language": "python",
   "name": "python3"
  },
  "language_info": {
   "codemirror_mode": {
    "name": "ipython",
    "version": 3
   },
   "file_extension": ".py",
   "mimetype": "text/x-python",
   "name": "python",
   "nbconvert_exporter": "python",
   "pygments_lexer": "ipython3",
   "version": "3.9.13"
  }
 },
 "nbformat": 4,
 "nbformat_minor": 4
}
