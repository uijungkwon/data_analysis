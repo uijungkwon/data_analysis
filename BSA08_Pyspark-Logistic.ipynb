{
 "cells": [
  {
   "cell_type": "markdown",
   "id": "390ffede",
   "metadata": {},
   "source": [
    "### Telco Customer Churn\n",
    "Focused customer retention programs\n",
    "\n",
    "#### Context\n",
    "\"Predict behavior to retain customers. You can analyze all relevant customer data and develop focused customer retention programs.\" [IBM Sample Data Sets]\n",
    "\n",
    "#### Content\n",
    "Each row represents a customer, each column contains customer’s attributes described on the column Metadata.\n",
    "\n",
    "The data set includes information about:\n",
    "\n",
    "-Customers who left within the last month – the column is called Churn\n",
    "-Services that each customer has signed up for – phone, multiple lines, internet, online security, online backup, device protection, tech support, and streaming TV and movies\n",
    "-Customer account information – how long they’ve been a customer, contract, payment method, paperless billing, monthly charges, and total charges\n",
    "-Demographic info about customers – gender, age range, and if they have partners and dependents\n",
    "\n",
    "#### Inspiration\n",
    "To explore this type of models and learn more about the subject.\n",
    "\n",
    "#### New version from IBM:\n",
    "https://community.ibm.com/community/user/businessanalytics/blogs/steven-macko/2019/07/11/telco-customer-churn-1113"
   ]
  },
  {
   "cell_type": "code",
   "execution_count": 1,
   "id": "9e3e6d8d",
   "metadata": {},
   "outputs": [],
   "source": [
    "from pyspark.sql import SparkSession\n",
    "\n",
    "spark =  SparkSession.builder.appName(\"churn\").getOrCreate()\n",
    "spark.conf.set(\"spark.sql.execution.arrow.pyspark.enabled\",\"true\")"
   ]
  },
  {
   "cell_type": "code",
   "execution_count": 2,
   "id": "468805c5",
   "metadata": {},
   "outputs": [
    {
     "name": "stdout",
     "output_type": "stream",
     "text": [
      "+----------+------+-------------+-------+----------+------+------------+----------------+---------------+-------------------+-------------------+-------------------+-------------------+-------------------+-------------------+--------------+----------------+--------------------+--------------+------------+-----+\n",
      "|customerID|gender|SeniorCitizen|Partner|Dependents|tenure|PhoneService|   MultipleLines|InternetService|     OnlineSecurity|       OnlineBackup|   DeviceProtection|        TechSupport|        StreamingTV|    StreamingMovies|      Contract|PaperlessBilling|       PaymentMethod|MonthlyCharges|TotalCharges|Churn|\n",
      "+----------+------+-------------+-------+----------+------+------------+----------------+---------------+-------------------+-------------------+-------------------+-------------------+-------------------+-------------------+--------------+----------------+--------------------+--------------+------------+-----+\n",
      "|7590-VHVEG|Female|            0|    Yes|        No|     1|          No|No phone service|            DSL|                 No|                Yes|                 No|                 No|                 No|                 No|Month-to-month|             Yes|    Electronic check|         29.85|       29.85|   No|\n",
      "|5575-GNVDE|  Male|            0|     No|        No|    34|         Yes|              No|            DSL|                Yes|                 No|                Yes|                 No|                 No|                 No|      One year|              No|        Mailed check|         56.95|      1889.5|   No|\n",
      "|3668-QPYBK|  Male|            0|     No|        No|     2|         Yes|              No|            DSL|                Yes|                Yes|                 No|                 No|                 No|                 No|Month-to-month|             Yes|        Mailed check|         53.85|      108.15|  Yes|\n",
      "|7795-CFOCW|  Male|            0|     No|        No|    45|          No|No phone service|            DSL|                Yes|                 No|                Yes|                Yes|                 No|                 No|      One year|              No|Bank transfer (au...|          42.3|     1840.75|   No|\n",
      "|9237-HQITU|Female|            0|     No|        No|     2|         Yes|              No|    Fiber optic|                 No|                 No|                 No|                 No|                 No|                 No|Month-to-month|             Yes|    Electronic check|          70.7|      151.65|  Yes|\n",
      "|9305-CDSKC|Female|            0|     No|        No|     8|         Yes|             Yes|    Fiber optic|                 No|                 No|                Yes|                 No|                Yes|                Yes|Month-to-month|             Yes|    Electronic check|         99.65|       820.5|  Yes|\n",
      "|1452-KIOVK|  Male|            0|     No|       Yes|    22|         Yes|             Yes|    Fiber optic|                 No|                Yes|                 No|                 No|                Yes|                 No|Month-to-month|             Yes|Credit card (auto...|          89.1|      1949.4|   No|\n",
      "|6713-OKOMC|Female|            0|     No|        No|    10|          No|No phone service|            DSL|                Yes|                 No|                 No|                 No|                 No|                 No|Month-to-month|              No|        Mailed check|         29.75|       301.9|   No|\n",
      "|7892-POOKP|Female|            0|    Yes|        No|    28|         Yes|             Yes|    Fiber optic|                 No|                 No|                Yes|                Yes|                Yes|                Yes|Month-to-month|             Yes|    Electronic check|         104.8|     3046.05|  Yes|\n",
      "|6388-TABGU|  Male|            0|     No|       Yes|    62|         Yes|              No|            DSL|                Yes|                Yes|                 No|                 No|                 No|                 No|      One year|              No|Bank transfer (au...|         56.15|     3487.95|   No|\n",
      "|9763-GRSKD|  Male|            0|    Yes|       Yes|    13|         Yes|              No|            DSL|                Yes|                 No|                 No|                 No|                 No|                 No|Month-to-month|             Yes|        Mailed check|         49.95|      587.45|   No|\n",
      "|7469-LKBCI|  Male|            0|     No|        No|    16|         Yes|              No|             No|No internet service|No internet service|No internet service|No internet service|No internet service|No internet service|      Two year|              No|Credit card (auto...|         18.95|       326.8|   No|\n",
      "|8091-TTVAX|  Male|            0|    Yes|        No|    58|         Yes|             Yes|    Fiber optic|                 No|                 No|                Yes|                 No|                Yes|                Yes|      One year|              No|Credit card (auto...|        100.35|      5681.1|   No|\n",
      "|0280-XJGEX|  Male|            0|     No|        No|    49|         Yes|             Yes|    Fiber optic|                 No|                Yes|                Yes|                 No|                Yes|                Yes|Month-to-month|             Yes|Bank transfer (au...|         103.7|      5036.3|  Yes|\n",
      "|5129-JLPIS|  Male|            0|     No|        No|    25|         Yes|              No|    Fiber optic|                Yes|                 No|                Yes|                Yes|                Yes|                Yes|Month-to-month|             Yes|    Electronic check|         105.5|     2686.05|   No|\n",
      "|3655-SNQYZ|Female|            0|    Yes|       Yes|    69|         Yes|             Yes|    Fiber optic|                Yes|                Yes|                Yes|                Yes|                Yes|                Yes|      Two year|              No|Credit card (auto...|        113.25|     7895.15|   No|\n",
      "|8191-XWSZG|Female|            0|     No|        No|    52|         Yes|              No|             No|No internet service|No internet service|No internet service|No internet service|No internet service|No internet service|      One year|              No|        Mailed check|         20.65|     1022.95|   No|\n",
      "|9959-WOFKT|  Male|            0|     No|       Yes|    71|         Yes|             Yes|    Fiber optic|                Yes|                 No|                Yes|                 No|                Yes|                Yes|      Two year|              No|Bank transfer (au...|         106.7|     7382.25|   No|\n",
      "|4190-MFLUW|Female|            0|    Yes|       Yes|    10|         Yes|              No|            DSL|                 No|                 No|                Yes|                Yes|                 No|                 No|Month-to-month|              No|Credit card (auto...|          55.2|      528.35|  Yes|\n",
      "|4183-MYFRB|Female|            0|     No|        No|    21|         Yes|              No|    Fiber optic|                 No|                Yes|                Yes|                 No|                 No|                Yes|Month-to-month|             Yes|    Electronic check|         90.05|      1862.9|   No|\n",
      "+----------+------+-------------+-------+----------+------+------------+----------------+---------------+-------------------+-------------------+-------------------+-------------------+-------------------+-------------------+--------------+----------------+--------------------+--------------+------------+-----+\n",
      "only showing top 20 rows\n",
      "\n"
     ]
    }
   ],
   "source": [
    "churn_df  = spark.read.csv(\"Telco-Customer-Churn.csv\",inferSchema=True,header=True)\n",
    "churn_df.show()"
   ]
  },
  {
   "cell_type": "code",
   "execution_count": 3,
   "id": "71e551ea",
   "metadata": {},
   "outputs": [
    {
     "name": "stdout",
     "output_type": "stream",
     "text": [
      "root\n",
      " |-- customerID: string (nullable = true)\n",
      " |-- gender: string (nullable = true)\n",
      " |-- SeniorCitizen: integer (nullable = true)\n",
      " |-- Partner: string (nullable = true)\n",
      " |-- Dependents: string (nullable = true)\n",
      " |-- tenure: integer (nullable = true)\n",
      " |-- PhoneService: string (nullable = true)\n",
      " |-- MultipleLines: string (nullable = true)\n",
      " |-- InternetService: string (nullable = true)\n",
      " |-- OnlineSecurity: string (nullable = true)\n",
      " |-- OnlineBackup: string (nullable = true)\n",
      " |-- DeviceProtection: string (nullable = true)\n",
      " |-- TechSupport: string (nullable = true)\n",
      " |-- StreamingTV: string (nullable = true)\n",
      " |-- StreamingMovies: string (nullable = true)\n",
      " |-- Contract: string (nullable = true)\n",
      " |-- PaperlessBilling: string (nullable = true)\n",
      " |-- PaymentMethod: string (nullable = true)\n",
      " |-- MonthlyCharges: double (nullable = true)\n",
      " |-- TotalCharges: string (nullable = true)\n",
      " |-- Churn: string (nullable = true)\n",
      "\n"
     ]
    }
   ],
   "source": [
    "churn_df.printSchema() # 대부분이 문자열로 된 칼럼을 갖고 있음\n",
    "##1) 수업에서는 범주형 변수를 숫자로 변경할것임\n",
    "##2) 숫자로 변경된 범주값들을 dummy 변수로 변경해야함->onehotendocer"
   ]
  },
  {
   "cell_type": "code",
   "execution_count": 4,
   "id": "ad99c9d8",
   "metadata": {},
   "outputs": [],
   "source": [
    "churn_df = churn_df.drop(\"customerID\")"
   ]
  },
  {
   "cell_type": "code",
   "execution_count": 5,
   "id": "5b0f599b",
   "metadata": {},
   "outputs": [
    {
     "data": {
      "text/plain": [
       "['gender',\n",
       " 'Partner',\n",
       " 'Dependents',\n",
       " 'PhoneService',\n",
       " 'MultipleLines',\n",
       " 'InternetService',\n",
       " 'OnlineSecurity',\n",
       " 'OnlineBackup',\n",
       " 'DeviceProtection',\n",
       " 'TechSupport',\n",
       " 'StreamingTV',\n",
       " 'StreamingMovies',\n",
       " 'Contract',\n",
       " 'PaperlessBilling',\n",
       " 'PaymentMethod',\n",
       " 'TotalCharges',\n",
       " 'Churn']"
      ]
     },
     "execution_count": 5,
     "metadata": {},
     "output_type": "execute_result"
    }
   ],
   "source": [
    "from pyspark.sql.types import StringType\n",
    "\n",
    "문자변수 = [변수.name for 변수 in churn_df.schema.fields if isinstance(변수.dataType, StringType)] #데이터프레임의 범주의 타입이 문자인지 확인하고 맞다면 출력\n",
    "문자변수 # 앞으로 이 문자변수를 갖고 숫자 변수로 변화해주는 작업을 할것임"
   ]
  },
  {
   "cell_type": "markdown",
   "id": "e4f8214e",
   "metadata": {},
   "source": [
    "##### 문자변수를 숫자값을 가진 변수로 변환"
   ]
  },
  {
   "cell_type": "code",
   "execution_count": 6,
   "id": "9b44857d",
   "metadata": {},
   "outputs": [],
   "source": [
    "from pyspark.ml.feature import StringIndexer, OneHotEncoder # 더미변수로 변환"
   ]
  },
  {
   "cell_type": "code",
   "execution_count": 7,
   "id": "05164d3f",
   "metadata": {},
   "outputs": [
    {
     "name": "stdout",
     "output_type": "stream",
     "text": [
      "root\n",
      " |-- gender: string (nullable = true)\n",
      " |-- SeniorCitizen: integer (nullable = true)\n",
      " |-- Partner: string (nullable = true)\n",
      " |-- Dependents: string (nullable = true)\n",
      " |-- tenure: integer (nullable = true)\n",
      " |-- PhoneService: string (nullable = true)\n",
      " |-- MultipleLines: string (nullable = true)\n",
      " |-- InternetService: string (nullable = true)\n",
      " |-- OnlineSecurity: string (nullable = true)\n",
      " |-- OnlineBackup: string (nullable = true)\n",
      " |-- DeviceProtection: string (nullable = true)\n",
      " |-- TechSupport: string (nullable = true)\n",
      " |-- StreamingTV: string (nullable = true)\n",
      " |-- StreamingMovies: string (nullable = true)\n",
      " |-- Contract: string (nullable = true)\n",
      " |-- PaperlessBilling: string (nullable = true)\n",
      " |-- PaymentMethod: string (nullable = true)\n",
      " |-- MonthlyCharges: double (nullable = true)\n",
      " |-- TotalCharges: string (nullable = true)\n",
      " |-- Churn: string (nullable = true)\n",
      " |-- gender_SI: double (nullable = false)\n",
      " |-- Partner_SI: double (nullable = false)\n",
      " |-- Dependents_SI: double (nullable = false)\n",
      " |-- PhoneService_SI: double (nullable = false)\n",
      " |-- MultipleLines_SI: double (nullable = false)\n",
      " |-- InternetService_SI: double (nullable = false)\n",
      " |-- OnlineSecurity_SI: double (nullable = false)\n",
      " |-- OnlineBackup_SI: double (nullable = false)\n",
      " |-- DeviceProtection_SI: double (nullable = false)\n",
      " |-- TechSupport_SI: double (nullable = false)\n",
      " |-- StreamingTV_SI: double (nullable = false)\n",
      " |-- StreamingMovies_SI: double (nullable = false)\n",
      " |-- Contract_SI: double (nullable = false)\n",
      " |-- PaperlessBilling_SI: double (nullable = false)\n",
      " |-- PaymentMethod_SI: double (nullable = false)\n",
      " |-- TotalCharges_SI: double (nullable = false)\n",
      " |-- Churn_SI: double (nullable = false)\n",
      "\n"
     ]
    }
   ],
   "source": [
    "## StringIndexer\n",
    "indexer  = StringIndexer(inputCols=문자변수, #내가 바꿀 변수(1개 이상의 값을 가진 경우)\n",
    "                         outputCols=[\"{}_SI\".format(c) for c in 문자변수]) # 컬럼명을 변경\n",
    "encode_df  = indexer.fit(churn_df).transform(churn_df) #기존 데이터프레임에 새로운 변수값들이 추가 -> 타입이 숫자로 변환\n",
    "encode_df.printSchema()"
   ]
  },
  {
   "cell_type": "code",
   "execution_count": 8,
   "id": "66b1d404",
   "metadata": {},
   "outputs": [
    {
     "data": {
      "text/plain": [
       "['SeniorCitizen',\n",
       " 'MonthlyCharges',\n",
       " 'gender_SI',\n",
       " 'Partner_SI',\n",
       " 'Dependents_SI',\n",
       " 'PhoneService_SI',\n",
       " 'MultipleLines_SI',\n",
       " 'InternetService_SI',\n",
       " 'OnlineSecurity_SI',\n",
       " 'OnlineBackup_SI',\n",
       " 'DeviceProtection_SI',\n",
       " 'TechSupport_SI',\n",
       " 'StreamingTV_SI',\n",
       " 'StreamingMovies_SI',\n",
       " 'Contract_SI',\n",
       " 'PaperlessBilling_SI',\n",
       " 'PaymentMethod_SI',\n",
       " 'TotalCharges_SI']"
      ]
     },
     "execution_count": 8,
     "metadata": {},
     "output_type": "execute_result"
    }
   ],
   "source": [
    "설명변수 = [\"SeniorCitizen\",\"MonthlyCharges\"]+[\"{}_SI\".format(c) for c in 문자변수] #기존의 숫자칼럼 + 내가 변환한 숫자칼럼 => 하나의 데이터프레임으로 형성\n",
    "설명변수 = 설명변수[0:-1] # 설명변수들 선택\n",
    "설명변수"
   ]
  },
  {
   "cell_type": "code",
   "execution_count": 9,
   "id": "934bb229",
   "metadata": {},
   "outputs": [
    {
     "name": "stdout",
     "output_type": "stream",
     "text": [
      "+--------------------+--------+\n",
      "|            features|Churn_SI|\n",
      "+--------------------+--------+\n",
      "|(18,[1,2,3,5,6,7,...|     0.0|\n",
      "|(18,[1,7,8,10,14,...|     0.0|\n",
      "|(18,[1,7,8,9,16,1...|     1.0|\n",
      "|[0.0,42.3,0.0,0.0...|     0.0|\n",
      "|(18,[1,2,17],[70....|     1.0|\n",
      "|(18,[1,2,6,10,12,...|     1.0|\n",
      "|(18,[1,4,6,9,12,1...|     0.0|\n",
      "|(18,[1,2,5,6,7,8,...|     0.0|\n",
      "|(18,[1,2,3,6,10,1...|     1.0|\n",
      "|(18,[1,4,7,8,9,14...|     0.0|\n",
      "|(18,[1,3,4,7,8,16...|     0.0|\n",
      "|[0.0,18.95,0.0,0....|     0.0|\n",
      "|(18,[1,3,6,10,12,...|     0.0|\n",
      "|(18,[1,6,9,10,12,...|     1.0|\n",
      "|(18,[1,8,10,11,12...|     0.0|\n",
      "|[0.0,113.25,1.0,1...|     0.0|\n",
      "|[0.0,20.65,1.0,0....|     0.0|\n",
      "|[0.0,106.7,0.0,0....|     0.0|\n",
      "|(18,[1,2,3,4,7,10...|     1.0|\n",
      "|(18,[1,2,9,10,13,...|     0.0|\n",
      "+--------------------+--------+\n",
      "only showing top 20 rows\n",
      "\n"
     ]
    }
   ],
   "source": [
    "from pyspark.ml.feature import VectorAssembler\n",
    "\n",
    "변수묶음 = VectorAssembler(inputCols=설명변수,outputCol=\"features\") #output은 하나의 묶여진 형태로 나옴\n",
    "변환자료  = 변수묶음.transform(encode_df)\n",
    "변환자료.select(\"features\",\"Churn_SI\").show()"
   ]
  },
  {
   "cell_type": "code",
   "execution_count": 10,
   "id": "5bf9b678",
   "metadata": {},
   "outputs": [],
   "source": [
    "분류자료 = 변환자료.select([\"features\",\"Churn_SI\"]) #(설명변수, 반응 변수) , features는 디폴트값"
   ]
  },
  {
   "cell_type": "code",
   "execution_count": 14,
   "id": "5003f204",
   "metadata": {},
   "outputs": [
    {
     "name": "stdout",
     "output_type": "stream",
     "text": [
      "+--------------------+--------+\n",
      "|            features|Churn_SI|\n",
      "+--------------------+--------+\n",
      "|(18,[1,2,3,5,6,7,...|     0.0|\n",
      "|(18,[1,7,8,10,14,...|     0.0|\n",
      "|(18,[1,7,8,9,16,1...|     1.0|\n",
      "|[0.0,42.3,0.0,0.0...|     0.0|\n",
      "|(18,[1,2,17],[70....|     1.0|\n",
      "|(18,[1,2,6,10,12,...|     1.0|\n",
      "|(18,[1,4,6,9,12,1...|     0.0|\n",
      "|(18,[1,2,5,6,7,8,...|     0.0|\n",
      "|(18,[1,2,3,6,10,1...|     1.0|\n",
      "|(18,[1,4,7,8,9,14...|     0.0|\n",
      "|(18,[1,3,4,7,8,16...|     0.0|\n",
      "|[0.0,18.95,0.0,0....|     0.0|\n",
      "|(18,[1,3,6,10,12,...|     0.0|\n",
      "|(18,[1,6,9,10,12,...|     1.0|\n",
      "|(18,[1,8,10,11,12...|     0.0|\n",
      "|[0.0,113.25,1.0,1...|     0.0|\n",
      "|[0.0,20.65,1.0,0....|     0.0|\n",
      "|[0.0,106.7,0.0,0....|     0.0|\n",
      "|(18,[1,2,3,4,7,10...|     1.0|\n",
      "|(18,[1,2,9,10,13,...|     0.0|\n",
      "+--------------------+--------+\n",
      "only showing top 20 rows\n",
      "\n"
     ]
    }
   ],
   "source": [
    "분류자료.show()"
   ]
  },
  {
   "cell_type": "code",
   "execution_count": 11,
   "id": "7600872f",
   "metadata": {},
   "outputs": [],
   "source": [
    "from pyspark.ml.classification import LogisticRegression\n",
    "##데이터 분류\n",
    "train_data, test_data =분류자료.randomSplit([0.7, 0.3], 316)# train 70% test 30%"
   ]
  },
  {
   "cell_type": "code",
   "execution_count": 12,
   "id": "49346f3d",
   "metadata": {},
   "outputs": [
    {
     "data": {
      "text/plain": [
       "<pyspark.ml.classification.BinaryLogisticRegressionTrainingSummary at 0x1f1d6589bb0>"
      ]
     },
     "execution_count": 12,
     "metadata": {},
     "output_type": "execute_result"
    }
   ],
   "source": [
    "분석모형 =  LogisticRegression(labelCol=\"Churn_SI\").fit(train_data) # 반응변수:labelCol\n",
    "분석모형.summary"
   ]
  },
  {
   "cell_type": "code",
   "execution_count": 16,
   "id": "5b420835",
   "metadata": {},
   "outputs": [
    {
     "name": "stdout",
     "output_type": "stream",
     "text": [
      "+------------------------------------------------------------------------------+--------+--------------------------------------------+----------------------------------------+----------+\n",
      "|features                                                                      |Churn_SI|rawPrediction                               |probability                             |prediction|\n",
      "+------------------------------------------------------------------------------+--------+--------------------------------------------+----------------------------------------+----------+\n",
      "|(18,[0,1,2,3,4,6,9,12,13,17],[1.0,100.4,1.0,1.0,1.0,1.0,1.0,1.0,1.0,3003.0])  |0.0     |[-0.3622345163698677,0.3622345163698677]    |[0.4104187603640363,0.5895812396359636] |1.0       |\n",
      "|(18,[0,1,2,3,4,6,9,16,17],[1.0,79.6,1.0,1.0,1.0,1.0,1.0,1.0,2572.0])          |1.0     |[0.06812463409570224,-0.06812463409570224]  |[0.5170245748274009,0.48297542517259906]|0.0       |\n",
      "|(18,[0,1,2,3,4,6,10,12,16,17],[1.0,91.35,1.0,1.0,1.0,1.0,1.0,1.0,1.0,2710.0]) |0.0     |[-0.28852473199938844,0.28852473199938844]  |[0.4283650754005341,0.5716349245994659] |1.0       |\n",
      "|(18,[0,1,2,3,4,6,10,13,16,17],[1.0,88.75,1.0,1.0,1.0,1.0,1.0,1.0,3.0,4579.0]) |0.0     |[0.325964101652902,-0.325964101652902]      |[0.580777057798874,0.419222942201126]   |0.0       |\n",
      "|(18,[0,1,2,3,4,6,12,13,16,17],[1.0,94.55,1.0,1.0,1.0,1.0,1.0,1.0,3.0,3333.0]) |1.0     |[-0.12779559412049757,0.12779559412049757]  |[0.46809451226311055,0.5319054877368894]|1.0       |\n",
      "|(18,[0,1,2,3,4,6,12,13,17],[1.0,95.8,1.0,1.0,1.0,1.0,1.0,1.0,963.0])          |0.0     |[-0.9633424837300768,0.9633424837300768]    |[0.27620947328925544,0.7237905267107445]|1.0       |\n",
      "|(18,[0,1,2,3,4,6,12,15,16,17],[1.0,85.35,1.0,1.0,1.0,1.0,1.0,1.0,2.0,1843.0]) |0.0     |[0.08525575981204758,-0.08525575981204758]  |[0.5213010392196573,0.4786989607803427] |0.0       |\n",
      "|(18,[0,1,2,3,4,7,15,17],[1.0,46.0,1.0,1.0,1.0,1.0,1.0,1658.0])                |1.0     |[0.569237865519379,-0.569237865519379]      |[0.6385872980032634,0.3614127019967366] |0.0       |\n",
      "|(18,[0,1,2,3,4,8,11,12,16,17],[1.0,88.3,1.0,1.0,1.0,1.0,1.0,1.0,1.0,2591.0])  |1.0     |[0.48473612046355496,-0.48473612046355496]  |[0.6188656152317293,0.38113438476827066]|0.0       |\n",
      "|(18,[0,1,2,3,4,9,10,13,16,17],[1.0,88.45,1.0,1.0,1.0,1.0,1.0,1.0,2.0,2006.0]) |0.0     |[0.3075735058771465,-0.3075735058771465]    |[0.5762928712147297,0.4237071287852703] |0.0       |\n",
      "|(18,[0,1,2,3,4,10,11,12,13,17],[1.0,98.9,1.0,1.0,1.0,1.0,1.0,1.0,1.0,2728.0]) |1.0     |[-0.19994791784711508,0.19994791784711508]  |[0.4501788939169594,0.5498211060830406] |1.0       |\n",
      "|(18,[0,1,2,3,4,10,12,13,14,17],[1.0,96.55,1.0,1.0,1.0,1.0,1.0,1.0,1.0,2147.0])|0.0     |[0.07846129052719997,-0.07846129052719997]  |[0.5196052658777535,0.48039473412224654]|0.0       |\n",
      "|(18,[0,1,2,3,4,15,16,17],[1.0,70.55,1.0,1.0,1.0,1.0,2.0,3071.0])              |1.0     |[0.32958857619961934,-0.32958857619961934]  |[0.581659267727475,0.418340732272525]   |0.0       |\n",
      "|(18,[0,1,2,3,4,17],[1.0,69.25,1.0,1.0,1.0,58.0])                              |1.0     |[-0.8549568005664079,0.8549568005664079]    |[0.2983940903257219,0.7016059096742782] |1.0       |\n",
      "|(18,[0,1,2,3,5,6,7,9,12,17],[1.0,39.3,1.0,1.0,1.0,2.0,1.0,1.0,1.0,1420.0])    |1.0     |[-0.12484723091562566,0.12484723091562566]  |[0.46882867027774355,0.5311713297222564]|1.0       |\n",
      "|(18,[0,1,2,3,5,6,7,9,17],[1.0,30.75,1.0,1.0,1.0,2.0,1.0,1.0,327.0])           |0.0     |[0.008682052275883922,-0.008682052275883922]|[0.5021704994349901,0.49782950056500985]|0.0       |\n",
      "|(18,[0,1,2,3,5,6,7,17],[1.0,24.8,1.0,1.0,1.0,2.0,1.0,43.0])                   |1.0     |[-0.49673180890395363,0.49673180890395363]  |[0.3783090126609676,0.6216909873390324] |1.0       |\n",
      "|(18,[0,1,2,3,6,7,15,16,17],[1.0,51.65,1.0,1.0,1.0,1.0,1.0,2.0,2662.0])        |0.0     |[0.9871011458846288,-0.9871011458846288]    |[0.728514964287957,0.27148503571204297] |0.0       |\n",
      "|(18,[0,1,2,3,6,8,17],[1.0,77.5,1.0,1.0,1.0,1.0,3448.0])                       |1.0     |[-0.17754260460532345,0.17754260460532345]  |[0.4557305739066084,0.5442694260933916] |1.0       |\n",
      "|(18,[0,1,2,3,6,9,10,12,13,17],[1.0,103.5,1.0,1.0,1.0,1.0,1.0,1.0,1.0,5295.0]) |0.0     |[-0.20694015804133992,0.20694015804133992]  |[0.4484487993523467,0.5515512006476533] |1.0       |\n",
      "+------------------------------------------------------------------------------+--------+--------------------------------------------+----------------------------------------+----------+\n",
      "only showing top 20 rows\n",
      "\n"
     ]
    },
    {
     "name": "stderr",
     "output_type": "stream",
     "text": [
      "C:\\Users\\SM-PC\\AppData\\Local\\Programs\\Python\\Python39\\lib\\site-packages\\pyspark\\sql\\context.py:125: FutureWarning: Deprecated in 3.0.0. Use SparkSession.builder.getOrCreate() instead.\n",
      "  warnings.warn(\n"
     ]
    }
   ],
   "source": [
    "분석모형.summary.predictions.show(truncate=False) # 반응변수의 예측값들을 포함한 표를 보여줌 "
   ]
  },
  {
   "cell_type": "code",
   "execution_count": 17,
   "id": "d3e739d8",
   "metadata": {},
   "outputs": [
    {
     "name": "stdout",
     "output_type": "stream",
     "text": [
      "+-------+-------------------+-------------------+\n",
      "|summary|           Churn_SI|         prediction|\n",
      "+-------+-------------------+-------------------+\n",
      "|  count|               4861|               4861|\n",
      "|   mean|0.26290886648837686|0.20983336761983132|\n",
      "| stddev| 0.4402586381230306| 0.4072314346458762|\n",
      "|    min|                0.0|                0.0|\n",
      "|    max|                1.0|                1.0|\n",
      "+-------+-------------------+-------------------+\n",
      "\n"
     ]
    }
   ],
   "source": [
    "##기술 통계값 계산\n",
    "분석모형.summary.predictions.describe().show()"
   ]
  },
  {
   "cell_type": "markdown",
   "id": "490ff2ee",
   "metadata": {},
   "source": [
    "##### 모델 평가 "
   ]
  },
  {
   "cell_type": "code",
   "execution_count": 18,
   "id": "550a3ada",
   "metadata": {},
   "outputs": [],
   "source": [
    "from pyspark.ml.evaluation import BinaryClassificationEvaluator"
   ]
  },
  {
   "cell_type": "code",
   "execution_count": 19,
   "id": "a395d44a",
   "metadata": {},
   "outputs": [
    {
     "name": "stdout",
     "output_type": "stream",
     "text": [
      "+--------------------+--------+--------------------+--------------------+----------+\n",
      "|            features|Churn_SI|       rawPrediction|         probability|prediction|\n",
      "+--------------------+--------+--------------------+--------------------+----------+\n",
      "|(18,[0,1,2,3,4,5,...|     0.0|[0.03991562291143...|[0.50997758102550...|       0.0|\n",
      "|(18,[0,1,2,3,4,6,...|     0.0|[0.52300261993518...|[0.62784961080325...|       0.0|\n",
      "|(18,[0,1,2,3,6,8,...|     0.0|[0.18591998642556...|[0.54634657122375...|       0.0|\n",
      "|(18,[0,1,2,3,6,8,...|     1.0|[0.31517619789560...|[0.57814820688422...|       0.0|\n",
      "|(18,[0,1,2,3,6,8,...|     1.0|[-0.6255870934179...|[0.34851182313858...|       1.0|\n",
      "|(18,[0,1,2,3,6,8,...|     0.0|[-0.0149024193696...|[0.49627446410524...|       1.0|\n",
      "|(18,[0,1,2,3,6,8,...|     0.0|[1.61549463515296...|[0.83417284735446...|       0.0|\n",
      "|(18,[0,1,2,3,6,8,...|     0.0|[1.46697880093720...|[0.81259774427616...|       0.0|\n",
      "|(18,[0,1,2,3,6,8,...|     1.0|[0.36085810062148...|[0.58924814013897...|       0.0|\n",
      "|(18,[0,1,2,3,6,9,...|     0.0|[1.00127580009164...|[0.73130934219721...|       0.0|\n",
      "|(18,[0,1,2,3,6,9,...|     1.0|[-0.1545345169100...|[0.46144307148349...|       1.0|\n",
      "|(18,[0,1,2,3,6,9,...|     0.0|[-0.1955014984256...|[0.45127970416913...|       1.0|\n",
      "|(18,[0,1,2,3,6,9,...|     1.0|[-0.4531573548495...|[0.38861033941360...|       1.0|\n",
      "|(18,[0,1,2,3,6,9,...|     0.0|[0.18071126291680...|[0.54505526989995...|       0.0|\n",
      "|(18,[0,1,2,3,6,9,...|     1.0|[0.23824690648993...|[0.55928158181038...|       0.0|\n",
      "|(18,[0,1,2,3,6,10...|     0.0|[0.78888012384848...|[0.68759082089175...|       0.0|\n",
      "|(18,[0,1,2,3,6,11...|     0.0|[0.12504637642667...|[0.53122092229190...|       0.0|\n",
      "|(18,[0,1,2,3,6,11...|     0.0|[0.19363519006516...|[0.54825810684437...|       0.0|\n",
      "|(18,[0,1,2,3,6,12...|     0.0|[1.32447176915139...|[0.78992473029527...|       0.0|\n",
      "|(18,[0,1,2,3,6,12...|     0.0|[-1.1126686633751...|[0.24737370204169...|       1.0|\n",
      "+--------------------+--------+--------------------+--------------------+----------+\n",
      "only showing top 20 rows\n",
      "\n"
     ]
    }
   ],
   "source": [
    "예측 = 분석모형.evaluate(test_data) # 테스트 데이터로 모델을 평가해야함\n",
    "예측.predictions.show()"
   ]
  },
  {
   "cell_type": "code",
   "execution_count": 20,
   "id": "5afd7625",
   "metadata": {},
   "outputs": [
    {
     "data": {
      "text/plain": [
       "0.6953054459252075"
      ]
     },
     "execution_count": 20,
     "metadata": {},
     "output_type": "execute_result"
    }
   ],
   "source": [
    "평가 = BinaryClassificationEvaluator(rawPredictionCol=\"prediction\",labelCol=\"Churn_SI\") ## labelCol = 타겟값\n",
    "auc = 평가.evaluate(예측.predictions) # 예측값 출력\n",
    "auc"
   ]
  },
  {
   "cell_type": "code",
   "execution_count": null,
   "id": "a9325762",
   "metadata": {},
   "outputs": [],
   "source": []
  }
 ],
 "metadata": {
  "kernelspec": {
   "display_name": "Python 3 (ipykernel)",
   "language": "python",
   "name": "python3"
  },
  "language_info": {
   "codemirror_mode": {
    "name": "ipython",
    "version": 3
   },
   "file_extension": ".py",
   "mimetype": "text/x-python",
   "name": "python",
   "nbconvert_exporter": "python",
   "pygments_lexer": "ipython3",
   "version": "3.9.13"
  }
 },
 "nbformat": 4,
 "nbformat_minor": 5
}
