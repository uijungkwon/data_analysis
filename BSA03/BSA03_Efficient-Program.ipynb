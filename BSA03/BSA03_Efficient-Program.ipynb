{
 "cells": [
  {
   "cell_type": "code",
   "execution_count": 1,
   "id": "8ec3b098",
   "metadata": {},
   "outputs": [],
   "source": [
    "import pandas as pd\n",
    "import numpy as np"
   ]
  },
  {
   "cell_type": "code",
   "execution_count": 6,
   "id": "46a30eae",
   "metadata": {},
   "outputs": [],
   "source": [
    "def 데이터프레임생성(size): #함수 생성\n",
    "    df = pd.DataFrame()     #데이터프레임 생성 (아래에 칼럼과 데이터들을 대입)\n",
    "    df[\"나이\"]= np.random.choice(100,size)\n",
    "    df[\"수행평가1\"]= np.random.choice([\"A\", \"B\", \"C\", \"D\", \"F\"],size)\n",
    "    df[\"수행평가2\"]= np.random.choice([\"상\", \"중\", \"하\"],size)\n",
    "    df[\"학점\"]= np.random.choice([\"[0,3)\", \"[3,3.5)\", \"[3.5,4)\", \"[4,4.3]\"],size)\n",
    "    df[\"합격확률\"]= np.random.uniform(0,1,size)\n",
    "    df[\"결과\"]= np.random.choice([\"합격\", \"불합격\"],size)\n",
    "    return df"
   ]
  },
  {
   "cell_type": "code",
   "execution_count": 7,
   "id": "dd4f15df",
   "metadata": {},
   "outputs": [],
   "source": [
    "df=데이터프레임생성(1000000)"
   ]
  },
  {
   "cell_type": "code",
   "execution_count": 8,
   "id": "64e54771",
   "metadata": {},
   "outputs": [
    {
     "name": "stdout",
     "output_type": "stream",
     "text": [
      "<class 'pandas.core.frame.DataFrame'>\n",
      "RangeIndex: 1000000 entries, 0 to 999999\n",
      "Data columns (total 6 columns):\n",
      " #   Column  Non-Null Count    Dtype  \n",
      "---  ------  --------------    -----  \n",
      " 0   나이      1000000 non-null  int32  \n",
      " 1   수행평가1   1000000 non-null  object \n",
      " 2   수행평가2   1000000 non-null  object \n",
      " 3   학점      1000000 non-null  object \n",
      " 4   합격확률    1000000 non-null  float64\n",
      " 5   결과      1000000 non-null  object \n",
      "dtypes: float64(1), int32(1), object(4)\n",
      "memory usage: 42.0+ MB\n"
     ]
    }
   ],
   "source": [
    "df.info()"
   ]
  },
  {
   "cell_type": "code",
   "execution_count": 9,
   "id": "7ccaf8f6",
   "metadata": {
    "scrolled": true
   },
   "outputs": [
    {
     "name": "stdout",
     "output_type": "stream",
     "text": [
      "<class 'pandas.core.frame.DataFrame'>\n",
      "RangeIndex: 1000000 entries, 0 to 999999\n",
      "Data columns (total 6 columns):\n",
      " #   Column  Non-Null Count    Dtype  \n",
      "---  ------  --------------    -----  \n",
      " 0   나이      1000000 non-null  int32  \n",
      " 1   수행평가1   1000000 non-null  object \n",
      " 2   수행평가2   1000000 non-null  object \n",
      " 3   학점      1000000 non-null  object \n",
      " 4   합격확률    1000000 non-null  float64\n",
      " 5   결과      1000000 non-null  object \n",
      "dtypes: float64(1), int32(1), object(4)\n",
      "memory usage: 42.0+ MB\n"
     ]
    }
   ],
   "source": [
    "df1 = df.copy() # 데이터프레임값을 복사  \n",
    "df2 = df.copy()\n",
    "df1.info() #차지하는 메모리가 중요함"
   ]
  },
  {
   "cell_type": "code",
   "execution_count": 10,
   "id": "f43a01c6",
   "metadata": {
    "scrolled": true
   },
   "outputs": [
    {
     "name": "stdout",
     "output_type": "stream",
     "text": [
      "282 ms ± 12.3 ms per loop (mean ± std. dev. of 7 runs, 1 loop each)\n",
      "345 ms ± 20.6 ms per loop (mean ± std. dev. of 7 runs, 1 loop each)\n",
      "411 ms ± 21.8 ms per loop (mean ± std. dev. of 7 runs, 1 loop each)\n"
     ]
    }
   ],
   "source": [
    "%timeit df1[\"순위1\"] = df1.groupby([\"수행평가1\",\"학점\"])[\"나이\"].rank() #반복작업을 하며 해당 프로그램을 수행하는데 걸린 시간의 평균과 표준편차 제고 \n",
    "%timeit df1[\"순위2\"] = df1.groupby([\"수행평가1\",\"학점\"])[\"합격확률\"].rank()\n",
    "%timeit df1[\"순위3\"] = df1.groupby([\"수행평가1\",\"학점\", \"결과\"])[\"합격확률\"].rank()"
   ]
  },
  {
   "cell_type": "code",
   "execution_count": 12,
   "id": "14c8cdfb",
   "metadata": {
    "scrolled": true
   },
   "outputs": [
    {
     "name": "stdout",
     "output_type": "stream",
     "text": [
      "<class 'pandas.core.frame.DataFrame'>\n",
      "RangeIndex: 1000000 entries, 0 to 999999\n",
      "Data columns (total 6 columns):\n",
      " #   Column  Non-Null Count    Dtype   \n",
      "---  ------  --------------    -----   \n",
      " 0   나이      1000000 non-null  int32   \n",
      " 1   수행평가1   1000000 non-null  category\n",
      " 2   수행평가2   1000000 non-null  category\n",
      " 3   학점      1000000 non-null  category\n",
      " 4   합격확률    1000000 non-null  float64 \n",
      " 5   결과      1000000 non-null  object  \n",
      "dtypes: category(3), float64(1), int32(1), object(1)\n",
      "memory usage: 21.9+ MB\n"
     ]
    }
   ],
   "source": [
    "# string ->범주형 타입을 변화하여 비트 수를 주려 메모리 공간을 확보\n",
    "df2[\"수행평가1\"] = df2[\"수행평가1\"].astype('category')\n",
    "df2[\"수행평가2\"] = df2[\"수행평가2\"].astype('category')\n",
    "df2[\"학점\"] = df2[\"학점\"].astype('category')\n",
    "df2.info()"
   ]
  },
  {
   "cell_type": "code",
   "execution_count": 13,
   "id": "06a17c01",
   "metadata": {
    "scrolled": true
   },
   "outputs": [
    {
     "name": "stdout",
     "output_type": "stream",
     "text": [
      "<class 'pandas.core.frame.DataFrame'>\n",
      "RangeIndex: 1000000 entries, 0 to 999999\n",
      "Data columns (total 6 columns):\n",
      " #   Column  Non-Null Count    Dtype   \n",
      "---  ------  --------------    -----   \n",
      " 0   나이      1000000 non-null  int8    \n",
      " 1   수행평가1   1000000 non-null  category\n",
      " 2   수행평가2   1000000 non-null  category\n",
      " 3   학점      1000000 non-null  category\n",
      " 4   합격확률    1000000 non-null  float64 \n",
      " 5   결과      1000000 non-null  object  \n",
      "dtypes: category(3), float64(1), int8(1), object(1)\n",
      "memory usage: 19.1+ MB\n"
     ]
    }
   ],
   "source": [
    "#다운캐스팅: \n",
    "df2[\"나이\"] = df2[\"나이\"].astype('int8')\n",
    "df2.info()"
   ]
  },
  {
   "cell_type": "code",
   "execution_count": 14,
   "id": "a2cc4863",
   "metadata": {},
   "outputs": [
    {
     "name": "stdout",
     "output_type": "stream",
     "text": [
      "<class 'pandas.core.frame.DataFrame'>\n",
      "RangeIndex: 1000000 entries, 0 to 999999\n",
      "Data columns (total 6 columns):\n",
      " #   Column  Non-Null Count    Dtype   \n",
      "---  ------  --------------    -----   \n",
      " 0   나이      1000000 non-null  int8    \n",
      " 1   수행평가1   1000000 non-null  category\n",
      " 2   수행평가2   1000000 non-null  category\n",
      " 3   학점      1000000 non-null  category\n",
      " 4   합격확률    1000000 non-null  float32 \n",
      " 5   결과      1000000 non-null  object  \n",
      "dtypes: category(3), float32(1), int8(1), object(1)\n",
      "memory usage: 15.3+ MB\n"
     ]
    }
   ],
   "source": [
    "df2[\"합격확률\"] = df2[\"합격확률\"].astype('float32')\n",
    "df2.info()"
   ]
  },
  {
   "cell_type": "code",
   "execution_count": 15,
   "id": "903f8ff2",
   "metadata": {},
   "outputs": [
    {
     "name": "stdout",
     "output_type": "stream",
     "text": [
      "<class 'pandas.core.frame.DataFrame'>\n",
      "RangeIndex: 1000000 entries, 0 to 999999\n",
      "Data columns (total 6 columns):\n",
      " #   Column  Non-Null Count    Dtype   \n",
      "---  ------  --------------    -----   \n",
      " 0   나이      1000000 non-null  int8    \n",
      " 1   수행평가1   1000000 non-null  category\n",
      " 2   수행평가2   1000000 non-null  category\n",
      " 3   학점      1000000 non-null  category\n",
      " 4   합격확률    1000000 non-null  float32 \n",
      " 5   결과      1000000 non-null  bool    \n",
      "dtypes: bool(1), category(3), float32(1), int8(1)\n",
      "memory usage: 8.6 MB\n"
     ]
    }
   ],
   "source": [
    "df2[\"결과\"] = df2[\"결과\"].map({\"합격\":True, \"불합격\":False})\n",
    "df2.info()"
   ]
  },
  {
   "cell_type": "code",
   "execution_count": 16,
   "id": "8aba90e6",
   "metadata": {},
   "outputs": [
    {
     "name": "stdout",
     "output_type": "stream",
     "text": [
      "265 ms ± 2.55 ms per loop (mean ± std. dev. of 7 runs, 1 loop each)\n",
      "328 ms ± 5.29 ms per loop (mean ± std. dev. of 7 runs, 1 loop each)\n",
      "387 ms ± 6.52 ms per loop (mean ± std. dev. of 7 runs, 1 loop each)\n"
     ]
    }
   ],
   "source": [
    "%timeit df1[\"순위1\"] = df1.groupby([\"수행평가1\",\"학점\"])[\"나이\"].rank()\n",
    "%timeit df1[\"순위2\"] = df1.groupby([\"수행평가1\",\"학점\"])[\"합격확률\"].rank()\n",
    "%timeit df1[\"순위3\"] = df1.groupby([\"수행평가1\",\"학점\", \"결과\"])[\"합격확률\"].rank() #메모리도 줄어들고 속도도 빨라짐"
   ]
  },
  {
   "cell_type": "code",
   "execution_count": 17,
   "id": "95aa5fa3",
   "metadata": {},
   "outputs": [],
   "source": [
    "##파일 저장\n",
    "변수 = [\"나이\", \"수행평가1\", \"수행평가2\", \"학점\", \"합격확률\", \"결과\"]\n",
    "df2 = df2[변수]\n",
    "df1.to_csv(\"BSA03_df1.csv\", index=False) #판다스 파일 저장 csv파일 형태로 저장함, 인덱스는 없애면 메모리 확보에 좋음 \n",
    "df2.to_csv(\"BSA03_df2.csv\", index=False) \n"
   ]
  },
  {
   "cell_type": "code",
   "execution_count": 18,
   "id": "14e07ff2",
   "metadata": {},
   "outputs": [],
   "source": [
    "df1csv = pd.read_csv('BSA03_df1.csv')\n",
    "df2csv = pd.read_csv('BSA03_df2.csv')"
   ]
  },
  {
   "cell_type": "code",
   "execution_count": 19,
   "id": "ba8a2328",
   "metadata": {},
   "outputs": [
    {
     "name": "stdout",
     "output_type": "stream",
     "text": [
      "<class 'pandas.core.frame.DataFrame'>\n",
      "RangeIndex: 1000000 entries, 0 to 999999\n",
      "Data columns (total 9 columns):\n",
      " #   Column  Non-Null Count    Dtype  \n",
      "---  ------  --------------    -----  \n",
      " 0   나이      1000000 non-null  int64  \n",
      " 1   수행평가1   1000000 non-null  object \n",
      " 2   수행평가2   1000000 non-null  object \n",
      " 3   학점      1000000 non-null  object \n",
      " 4   합격확률    1000000 non-null  float64\n",
      " 5   결과      1000000 non-null  object \n",
      " 6   순위1     1000000 non-null  float64\n",
      " 7   순위2     1000000 non-null  float64\n",
      " 8   순위3     1000000 non-null  float64\n",
      "dtypes: float64(4), int64(1), object(4)\n",
      "memory usage: 68.7+ MB\n"
     ]
    }
   ],
   "source": [
    "df1csv.info()"
   ]
  },
  {
   "cell_type": "code",
   "execution_count": 20,
   "id": "204d7b86",
   "metadata": {},
   "outputs": [
    {
     "name": "stdout",
     "output_type": "stream",
     "text": [
      "<class 'pandas.core.frame.DataFrame'>\n",
      "RangeIndex: 1000000 entries, 0 to 999999\n",
      "Data columns (total 6 columns):\n",
      " #   Column  Non-Null Count    Dtype  \n",
      "---  ------  --------------    -----  \n",
      " 0   나이      1000000 non-null  int64  \n",
      " 1   수행평가1   1000000 non-null  object \n",
      " 2   수행평가2   1000000 non-null  object \n",
      " 3   학점      1000000 non-null  object \n",
      " 4   합격확률    1000000 non-null  float64\n",
      " 5   결과      1000000 non-null  bool   \n",
      "dtypes: bool(1), float64(1), int64(1), object(3)\n",
      "memory usage: 39.1+ MB\n"
     ]
    }
   ],
   "source": [
    "df2csv.info()"
   ]
  },
  {
   "cell_type": "code",
   "execution_count": 22,
   "id": "e3f63d9e",
   "metadata": {
    "scrolled": true
   },
   "outputs": [
    {
     "name": "stdout",
     "output_type": "stream",
     "text": [
      "Collecting pyarrow\n",
      "  Downloading pyarrow-11.0.0-cp39-cp39-win_amd64.whl (20.6 MB)\n",
      "     ---------------------------------------- 0.0/20.6 MB ? eta -:--:--\n",
      "     ---------------------------------------- 0.0/20.6 MB ? eta -:--:--\n",
      "     ---------------------------------------- 0.2/20.6 MB 3.5 MB/s eta 0:00:06\n",
      "     - -------------------------------------- 0.7/20.6 MB 6.0 MB/s eta 0:00:04\n",
      "     - -------------------------------------- 0.9/20.6 MB 6.4 MB/s eta 0:00:04\n",
      "     -- ------------------------------------- 1.2/20.6 MB 5.9 MB/s eta 0:00:04\n",
      "     --- ------------------------------------ 1.6/20.6 MB 6.5 MB/s eta 0:00:03\n",
      "     --- ------------------------------------ 1.9/20.6 MB 6.3 MB/s eta 0:00:03\n",
      "     ---- ----------------------------------- 2.2/20.6 MB 6.4 MB/s eta 0:00:03\n",
      "     ----- ---------------------------------- 2.6/20.6 MB 6.6 MB/s eta 0:00:03\n",
      "     ----- ---------------------------------- 3.1/20.6 MB 7.0 MB/s eta 0:00:03\n",
      "     ------ --------------------------------- 3.5/20.6 MB 7.2 MB/s eta 0:00:03\n",
      "     ------- -------------------------------- 3.9/20.6 MB 7.4 MB/s eta 0:00:03\n",
      "     -------- ------------------------------- 4.4/20.6 MB 7.5 MB/s eta 0:00:03\n",
      "     --------- ------------------------------ 4.8/20.6 MB 7.7 MB/s eta 0:00:03\n",
      "     ---------- ----------------------------- 5.3/20.6 MB 7.8 MB/s eta 0:00:02\n",
      "     ----------- ---------------------------- 5.7/20.6 MB 7.9 MB/s eta 0:00:02\n",
      "     ----------- ---------------------------- 6.2/20.6 MB 8.0 MB/s eta 0:00:02\n",
      "     ------------ --------------------------- 6.6/20.6 MB 8.1 MB/s eta 0:00:02\n",
      "     ------------- -------------------------- 7.1/20.6 MB 8.2 MB/s eta 0:00:02\n",
      "     -------------- ------------------------- 7.5/20.6 MB 8.3 MB/s eta 0:00:02\n",
      "     --------------- ------------------------ 8.0/20.6 MB 8.4 MB/s eta 0:00:02\n",
      "     ---------------- ----------------------- 8.4/20.6 MB 8.4 MB/s eta 0:00:02\n",
      "     ----------------- ---------------------- 8.9/20.6 MB 8.5 MB/s eta 0:00:02\n",
      "     ------------------ --------------------- 9.3/20.6 MB 8.5 MB/s eta 0:00:02\n",
      "     ------------------ --------------------- 9.7/20.6 MB 8.5 MB/s eta 0:00:02\n",
      "     ------------------- -------------------- 10.1/20.6 MB 8.5 MB/s eta 0:00:02\n",
      "     -------------------- ------------------- 10.5/20.6 MB 8.8 MB/s eta 0:00:02\n",
      "     --------------------- ------------------ 11.0/20.6 MB 8.8 MB/s eta 0:00:02\n",
      "     ---------------------- ----------------- 11.4/20.6 MB 9.1 MB/s eta 0:00:02\n",
      "     ----------------------- ---------------- 11.9/20.6 MB 9.1 MB/s eta 0:00:01\n",
      "     ----------------------- ---------------- 12.3/20.6 MB 9.4 MB/s eta 0:00:01\n",
      "     ------------------------ --------------- 12.8/20.6 MB 9.5 MB/s eta 0:00:01\n",
      "     ------------------------- -------------- 13.2/20.6 MB 9.5 MB/s eta 0:00:01\n",
      "     -------------------------- ------------- 13.6/20.6 MB 9.5 MB/s eta 0:00:01\n",
      "     -------------------------- ------------- 13.6/20.6 MB 9.5 MB/s eta 0:00:01\n",
      "     --------------------------- ------------ 13.9/20.6 MB 9.0 MB/s eta 0:00:01\n",
      "     --------------------------- ------------ 14.4/20.6 MB 9.0 MB/s eta 0:00:01\n",
      "     ---------------------------- ----------- 14.8/20.6 MB 9.0 MB/s eta 0:00:01\n",
      "     ----------------------------- ---------- 15.3/20.6 MB 9.0 MB/s eta 0:00:01\n",
      "     ------------------------------ --------- 15.7/20.6 MB 9.0 MB/s eta 0:00:01\n",
      "     ------------------------------- -------- 16.2/20.6 MB 9.0 MB/s eta 0:00:01\n",
      "     -------------------------------- ------- 16.6/20.6 MB 9.0 MB/s eta 0:00:01\n",
      "     --------------------------------- ------ 17.1/20.6 MB 9.0 MB/s eta 0:00:01\n",
      "     ---------------------------------- ----- 17.5/20.6 MB 9.0 MB/s eta 0:00:01\n",
      "     ---------------------------------- ----- 18.0/20.6 MB 9.0 MB/s eta 0:00:01\n",
      "     ----------------------------------- ---- 18.4/20.6 MB 9.0 MB/s eta 0:00:01\n",
      "     ------------------------------------ --- 18.9/20.6 MB 9.0 MB/s eta 0:00:01\n",
      "     ------------------------------------- -- 19.3/20.6 MB 9.0 MB/s eta 0:00:01\n",
      "     -------------------------------------- - 19.8/20.6 MB 9.0 MB/s eta 0:00:01\n",
      "     ---------------------------------------  20.2/20.6 MB 9.1 MB/s eta 0:00:01\n",
      "     ---------------------------------------  20.6/20.6 MB 9.0 MB/s eta 0:00:01\n",
      "     ---------------------------------------  20.6/20.6 MB 9.0 MB/s eta 0:00:01\n",
      "     ---------------------------------------- 20.6/20.6 MB 8.3 MB/s eta 0:00:00\n",
      "Requirement already satisfied: numpy>=1.16.6 in c:\\users\\sm-pc\\appdata\\local\\programs\\python\\python39\\lib\\site-packages (from pyarrow) (1.24.2)\n",
      "Installing collected packages: pyarrow\n",
      "Successfully installed pyarrow-11.0.0\n"
     ]
    }
   ],
   "source": [
    "!pip install pyarrow"
   ]
  },
  {
   "cell_type": "code",
   "execution_count": 23,
   "id": "03aa6f96",
   "metadata": {
    "scrolled": true
   },
   "outputs": [
    {
     "name": "stdout",
     "output_type": "stream",
     "text": [
      "<class 'pandas.core.frame.DataFrame'>\n",
      "RangeIndex: 1000000 entries, 0 to 999999\n",
      "Data columns (total 6 columns):\n",
      " #   Column  Non-Null Count    Dtype   \n",
      "---  ------  --------------    -----   \n",
      " 0   나이      1000000 non-null  int8    \n",
      " 1   수행평가1   1000000 non-null  category\n",
      " 2   수행평가2   1000000 non-null  category\n",
      " 3   학점      1000000 non-null  category\n",
      " 4   합격확률    1000000 non-null  float32 \n",
      " 5   결과      1000000 non-null  bool    \n",
      "dtypes: bool(1), category(3), float32(1), int8(1)\n",
      "memory usage: 8.6 MB\n"
     ]
    }
   ],
   "source": [
    "#pip install pyarrow\n",
    "df2.to_parquet('BSA03_df2.parquet') #빅데이터 기본 저장 방식 -> 정보가 그대로 살아있는게 중요함\n",
    "df2pqt = pd.read_parquet('BSA03_df2.parquet')\n",
    "df2pqt.info()"
   ]
  },
  {
   "cell_type": "code",
   "execution_count": null,
   "id": "405f3976",
   "metadata": {},
   "outputs": [],
   "source": [
    "#효율적인 프로그램 \n"
   ]
  },
  {
   "cell_type": "code",
   "execution_count": 24,
   "id": "9333cbbf",
   "metadata": {},
   "outputs": [],
   "source": [
    "def 변수추가(행자료):\n",
    "    if 행자료[\"나이\"] < 65:\n",
    "        return 행자료[\"수행평가1\"]\n",
    "    if(행자료[\"합격확률\"] >= 0.6) & (행자료[\"학점\"] == \"[4,4.3]\"):\n",
    "        return 행자료[\"수행평가1\"]\n",
    "    return(행자료[\"수행평가2\"])"
   ]
  },
  {
   "cell_type": "code",
   "execution_count": 26,
   "id": "86eb0708",
   "metadata": {},
   "outputs": [],
   "source": [
    "#루프를 이용한 프로그램\n",
    "df = 데이터프레임생성(100_000)\n",
    "df1 = df.copy()\n",
    "df2 = df.copy()\n",
    "df3 = df.copy()"
   ]
  },
  {
   "cell_type": "code",
   "execution_count": 29,
   "id": "d6c32610",
   "metadata": {},
   "outputs": [
    {
     "name": "stdout",
     "output_type": "stream",
     "text": [
      "27.7 s ± 294 ms per loop (mean ± std. dev. of 7 runs, 1 loop each)\n"
     ]
    }
   ],
   "source": [
    "%%timeit #loop는 너무 오래걸림\n",
    "for index, row in df1.iterrows(): #데이터프레임의 각 하나의 행을 가져옴\n",
    "    df1.loc[index, \"평가\"] = 변수추가(row)"
   ]
  },
  {
   "cell_type": "code",
   "execution_count": null,
   "id": "8634e4a5",
   "metadata": {},
   "outputs": [],
   "source": [
    "#Apply를 이용한 프로그램 "
   ]
  },
  {
   "cell_type": "code",
   "execution_count": 33,
   "id": "cb6ae4f0",
   "metadata": {
    "scrolled": true
   },
   "outputs": [
    {
     "name": "stdout",
     "output_type": "stream",
     "text": [
      "754 ms ± 20.5 ms per loop (mean ± std. dev. of 7 runs, 1 loop each)\n"
     ]
    }
   ],
   "source": [
    "%%timeit\n",
    "df2[\"평가\"] =df2.apply(변수추가,axis=1) # axis = 0: 행, axis = 1: 열 "
   ]
  },
  {
   "cell_type": "code",
   "execution_count": 35,
   "id": "887546e9",
   "metadata": {},
   "outputs": [
    {
     "data": {
      "text/plain": [
       "0         True\n",
       "1         True\n",
       "2         True\n",
       "3        False\n",
       "4         True\n",
       "         ...  \n",
       "99995     True\n",
       "99996    False\n",
       "99997     True\n",
       "99998     True\n",
       "99999    False\n",
       "Length: 100000, dtype: bool"
      ]
     },
     "execution_count": 35,
     "metadata": {},
     "output_type": "execute_result"
    }
   ],
   "source": [
    "#Vectorized를 이용한 프로그램 -> 이중에서 가장 빠름 (속도가 훨씬 빠르므로 이것을 사용하는게 이득)\n",
    "(df3[\"나이\"] <65) | ((df3[\"합격확률\"] >=0.6) & (df3[\"학점\"] == \"[4,4.3]\")) #pandas의 표현"
   ]
  },
  {
   "cell_type": "code",
   "execution_count": 34,
   "id": "746e6b9b",
   "metadata": {},
   "outputs": [
    {
     "name": "stdout",
     "output_type": "stream",
     "text": [
      "9.51 ms ± 54.7 µs per loop (mean ± std. dev. of 7 runs, 100 loops each)\n"
     ]
    }
   ],
   "source": [
    "%%timeit\n",
    "df3[\"평가\"] = df3[\"수행평가2\"]\n",
    "조건 = (df3[\"나이\"] <65) | ((df3[\"합격확률\"] >=0.6) & (df3[\"학점\"] == \"[4,4.3]\"))\n",
    "df3.loc[조건, \"평가\"] = df[\"수행평가1\"]\n"
   ]
  }
 ],
 "metadata": {
  "kernelspec": {
   "display_name": "Python 3 (ipykernel)",
   "language": "python",
   "name": "python3"
  },
  "language_info": {
   "codemirror_mode": {
    "name": "ipython",
    "version": 3
   },
   "file_extension": ".py",
   "mimetype": "text/x-python",
   "name": "python",
   "nbconvert_exporter": "python",
   "pygments_lexer": "ipython3",
   "version": "3.9.13"
  }
 },
 "nbformat": 4,
 "nbformat_minor": 5
}
