{
 "cells": [
  {
   "cell_type": "markdown",
   "metadata": {},
   "source": [
    "## Libear Regression & Logistic Regression"
   ]
  },
  {
   "cell_type": "code",
   "execution_count": 5,
   "metadata": {},
   "outputs": [],
   "source": [
    "import numpy as np\n",
    "import pandas as pd\n",
    "import matplotlib.pyplot as plt\n",
    "from sklearn.linear_model import LinearRegression  \n",
    "import statsmodels.api as sm # 통계학적인 학습 "
   ]
  },
  {
   "cell_type": "code",
   "execution_count": 6,
   "metadata": {},
   "outputs": [
    {
     "data": {
      "text/plain": [
       "x1     0\n",
       "x2     0\n",
       "x3     0\n",
       "x4     0\n",
       "x5     0\n",
       "x6     0\n",
       "x7     0\n",
       "x8     0\n",
       "x9     0\n",
       "x10    0\n",
       "x11    0\n",
       "y      0\n",
       "dtype: int64"
      ]
     },
     "execution_count": 6,
     "metadata": {},
     "output_type": "execute_result"
    }
   ],
   "source": [
    "whitedata = pd.read_csv(\"white.csv\")   # dataframe\n",
    "whitedata.isna().sum()"
   ]
  },
  {
   "cell_type": "code",
   "execution_count": 7,
   "metadata": {},
   "outputs": [
    {
     "data": {
      "text/html": [
       "<div>\n",
       "<style scoped>\n",
       "    .dataframe tbody tr th:only-of-type {\n",
       "        vertical-align: middle;\n",
       "    }\n",
       "\n",
       "    .dataframe tbody tr th {\n",
       "        vertical-align: top;\n",
       "    }\n",
       "\n",
       "    .dataframe thead th {\n",
       "        text-align: right;\n",
       "    }\n",
       "</style>\n",
       "<table border=\"1\" class=\"dataframe\">\n",
       "  <thead>\n",
       "    <tr style=\"text-align: right;\">\n",
       "      <th></th>\n",
       "      <th>x1</th>\n",
       "      <th>x2</th>\n",
       "      <th>x3</th>\n",
       "      <th>x4</th>\n",
       "      <th>x5</th>\n",
       "      <th>x6</th>\n",
       "      <th>x7</th>\n",
       "      <th>x8</th>\n",
       "      <th>x9</th>\n",
       "      <th>x10</th>\n",
       "      <th>x11</th>\n",
       "      <th>y</th>\n",
       "    </tr>\n",
       "  </thead>\n",
       "  <tbody>\n",
       "    <tr>\n",
       "      <th>0</th>\n",
       "      <td>7.0</td>\n",
       "      <td>0.27</td>\n",
       "      <td>0.36</td>\n",
       "      <td>20.7</td>\n",
       "      <td>0.045</td>\n",
       "      <td>45.0</td>\n",
       "      <td>170.0</td>\n",
       "      <td>1.0010</td>\n",
       "      <td>3.00</td>\n",
       "      <td>0.45</td>\n",
       "      <td>8.8</td>\n",
       "      <td>6</td>\n",
       "    </tr>\n",
       "    <tr>\n",
       "      <th>1</th>\n",
       "      <td>6.3</td>\n",
       "      <td>0.30</td>\n",
       "      <td>0.34</td>\n",
       "      <td>1.6</td>\n",
       "      <td>0.049</td>\n",
       "      <td>14.0</td>\n",
       "      <td>132.0</td>\n",
       "      <td>0.9940</td>\n",
       "      <td>3.30</td>\n",
       "      <td>0.49</td>\n",
       "      <td>9.5</td>\n",
       "      <td>6</td>\n",
       "    </tr>\n",
       "    <tr>\n",
       "      <th>2</th>\n",
       "      <td>8.1</td>\n",
       "      <td>0.28</td>\n",
       "      <td>0.40</td>\n",
       "      <td>6.9</td>\n",
       "      <td>0.050</td>\n",
       "      <td>30.0</td>\n",
       "      <td>97.0</td>\n",
       "      <td>0.9951</td>\n",
       "      <td>3.26</td>\n",
       "      <td>0.44</td>\n",
       "      <td>10.1</td>\n",
       "      <td>6</td>\n",
       "    </tr>\n",
       "    <tr>\n",
       "      <th>3</th>\n",
       "      <td>7.2</td>\n",
       "      <td>0.23</td>\n",
       "      <td>0.32</td>\n",
       "      <td>8.5</td>\n",
       "      <td>0.058</td>\n",
       "      <td>47.0</td>\n",
       "      <td>186.0</td>\n",
       "      <td>0.9956</td>\n",
       "      <td>3.19</td>\n",
       "      <td>0.40</td>\n",
       "      <td>9.9</td>\n",
       "      <td>6</td>\n",
       "    </tr>\n",
       "    <tr>\n",
       "      <th>4</th>\n",
       "      <td>7.2</td>\n",
       "      <td>0.23</td>\n",
       "      <td>0.32</td>\n",
       "      <td>8.5</td>\n",
       "      <td>0.058</td>\n",
       "      <td>47.0</td>\n",
       "      <td>186.0</td>\n",
       "      <td>0.9956</td>\n",
       "      <td>3.19</td>\n",
       "      <td>0.40</td>\n",
       "      <td>9.9</td>\n",
       "      <td>6</td>\n",
       "    </tr>\n",
       "  </tbody>\n",
       "</table>\n",
       "</div>"
      ],
      "text/plain": [
       "    x1    x2    x3    x4     x5    x6     x7      x8    x9   x10   x11  y\n",
       "0  7.0  0.27  0.36  20.7  0.045  45.0  170.0  1.0010  3.00  0.45   8.8  6\n",
       "1  6.3  0.30  0.34   1.6  0.049  14.0  132.0  0.9940  3.30  0.49   9.5  6\n",
       "2  8.1  0.28  0.40   6.9  0.050  30.0   97.0  0.9951  3.26  0.44  10.1  6\n",
       "3  7.2  0.23  0.32   8.5  0.058  47.0  186.0  0.9956  3.19  0.40   9.9  6\n",
       "4  7.2  0.23  0.32   8.5  0.058  47.0  186.0  0.9956  3.19  0.40   9.9  6"
      ]
     },
     "execution_count": 7,
     "metadata": {},
     "output_type": "execute_result"
    }
   ],
   "source": [
    "whitedata.head()  # whitedata.tail() # 수치데이터로만 구성"
   ]
  },
  {
   "cell_type": "markdown",
   "metadata": {},
   "source": [
    "### Linear Regression "
   ]
  },
  {
   "cell_type": "code",
   "execution_count": 8,
   "metadata": {},
   "outputs": [
    {
     "data": {
      "image/png": "[encoded data removed]",
      "text/plain": [
       "<Figure size 640x480 with 1 Axes>"
      ]
     },
     "metadata": {},
     "output_type": "display_data"
    }
   ],
   "source": [
    "y = whitedata.y  # whitedata[\"y\"] 같은의미 -> 반응변수\n",
    "x = whitedata.x1 # 설명변수\n",
    "plt.scatter(x,y,color=\"blue\"); plt.show()       # 산점도 -> 시각화 : 음의 기울기를 가짐 "
   ]
  },
  {
   "cell_type": "code",
   "execution_count": 9,
   "metadata": {},
   "outputs": [],
   "source": [
    "x = whitedata[\"x1\"].to_frame() # 설명변수 1개를 가져옴 , 시리즈를 데이터프레임으로 변환\n",
    "y = whitedata.y"
   ]
  },
  {
   "cell_type": "code",
   "execution_count": 10,
   "metadata": {},
   "outputs": [
    {
     "name": "stdout",
     "output_type": "stream",
     "text": [
      "-0.1192889886319587 6.695610039009974\n"
     ]
    }
   ],
   "source": [
    "slm = LinearRegression().fit(x,y) # linear regression에 적합시킴       \n",
    "w, b = slm.coef_[0], slm.intercept_ #codf = B1, intercept = B0\n",
    "print(w,b)"
   ]
  },
  {
   "cell_type": "code",
   "execution_count": 11,
   "metadata": {},
   "outputs": [
    {
     "name": "stdout",
     "output_type": "stream",
     "text": [
      "3.8 14.2\n"
     ]
    }
   ],
   "source": [
    "x0, x1 = x[\"x1\"].min(), x[\"x1\"].max() # 최소값과 최대값을 구함 \n",
    "print(x0, x1)"
   ]
  },
  {
   "cell_type": "code",
   "execution_count": 12,
   "metadata": {},
   "outputs": [
    {
     "data": {
      "image/png": "[encoded data removed]",
      "text/plain": [
       "<Figure size 640x480 with 1 Axes>"
      ]
     },
     "metadata": {},
     "output_type": "display_data"
    }
   ],
   "source": [
    "plt.scatter(x,y,color=\"blue\")\n",
    "plt.plot([x0,x1],[w*x0+b,w*x1+b],'r'); plt.show() # 기울기에 맞는 선을 추가"
   ]
  },
  {
   "cell_type": "code",
   "execution_count": 13,
   "metadata": {},
   "outputs": [
    {
     "name": "stdout",
     "output_type": "stream",
     "text": [
      "                            OLS Regression Results                            \n",
      "==============================================================================\n",
      "Dep. Variable:                      y   R-squared:                       0.013\n",
      "Model:                            OLS   Adj. R-squared:                  0.013\n",
      "Method:                 Least Squares   F-statistic:                     64.08\n",
      "Date:                Mon, 22 May 2023   Prob (F-statistic):           1.48e-15\n",
      "Time:                        15:04:26   Log-Likelihood:                -6322.8\n",
      "No. Observations:                4898   AIC:                         1.265e+04\n",
      "Df Residuals:                    4896   BIC:                         1.266e+04\n",
      "Df Model:                           1                                         \n",
      "Covariance Type:            nonrobust                                         \n",
      "==============================================================================\n",
      "                 coef    std err          t      P>|t|      [0.025      0.975]\n",
      "------------------------------------------------------------------------------\n",
      "const          6.6956      0.103     65.057      0.000       6.494       6.897\n",
      "x1            -0.1193      0.015     -8.005      0.000      -0.149      -0.090\n",
      "==============================================================================\n",
      "Omnibus:                       29.986   Durbin-Watson:                   1.657\n",
      "Prob(Omnibus):                  0.000   Jarque-Bera (JB):               31.513\n",
      "Skew:                           0.166   Prob(JB):                     1.44e-07\n",
      "Kurtosis:                       3.211   Cond. No.                         57.7\n",
      "==============================================================================\n",
      "\n",
      "Notes:\n",
      "[1] Standard Errors assume that the covariance matrix of the errors is correctly specified.\n"
     ]
    }
   ],
   "source": [
    "model = sm.OLS(y, sm.add_constant(x))   # sm.OLS(y,x)와 비교 => x만 집어넣으면 B0를 계산하지 않음\n",
    "results = model.fit()   # sm.OLS(y, sm.add_constant(x)).fit()\n",
    "print(results.summary()) # 위와 다르게 설명력 있는 모델임을 확인 할 수 있음 \n"
   ]
  },
  {
   "cell_type": "code",
   "execution_count": 14,
   "metadata": {},
   "outputs": [],
   "source": [
    "## Multiple linear regression # 다중 선형 회귀\n",
    "X = whitedata.drop([\"y\"],axis=1)\n",
    "y = whitedata[\"y\"]"
   ]
  },
  {
   "cell_type": "code",
   "execution_count": 15,
   "metadata": {},
   "outputs": [],
   "source": [
    "from sklearn.model_selection import train_test_split\n",
    "\n",
    "X_train, X_test, y_train, y_test = train_test_split(X, y, test_size=0.3, random_state=100)"
   ]
  },
  {
   "cell_type": "code",
   "execution_count": 16,
   "metadata": {},
   "outputs": [
    {
     "name": "stdout",
     "output_type": "stream",
     "text": [
      "[ 8.00846101e-02 -1.70374343e+00  5.69767648e-02  8.17351234e-02\n",
      " -1.64381383e-02  4.96141486e-03 -4.74149230e-04 -1.48223181e+02\n",
      "  7.49786197e-01  7.33900620e-01  2.08766177e-01]\n"
     ]
    }
   ],
   "source": [
    "lrm = LinearRegression(n_jobs=-1)      # fit_intercept=True  # -1: 지금있는 모든 core를 모두 사용하라는 뜻\n",
    "result = lrm.fit(X_train, y_train) \n",
    "print(result.coef_)"
   ]
  },
  {
   "cell_type": "code",
   "execution_count": 17,
   "metadata": {},
   "outputs": [
    {
     "name": "stdout",
     "output_type": "stream",
     "text": [
      "['x1' 'x2' 'x3' 'x4' 'x5' 'x6' 'x7' 'x8' 'x9' 'x10' 'x11']\n"
     ]
    }
   ],
   "source": [
    "print(result.feature_names_in_)"
   ]
  },
  {
   "cell_type": "code",
   "execution_count": 18,
   "metadata": {},
   "outputs": [
    {
     "name": "stdout",
     "output_type": "stream",
     "text": [
      "[6.13867211 4.87485387 5.80282258 6.02253147 6.30505131 6.55048122\n",
      " 5.98089896 6.06284824 5.56466996 5.94534116]\n"
     ]
    }
   ],
   "source": [
    "forecast = lrm.predict(X_test)\n",
    "print(forecast[0:10])"
   ]
  },
  {
   "cell_type": "code",
   "execution_count": 19,
   "metadata": {},
   "outputs": [
    {
     "name": "stdout",
     "output_type": "stream",
     "text": [
      "0.2480396226265077\n"
     ]
    }
   ],
   "source": [
    "accuracy = lrm.score(X_test, y_test)    # 결정계수 Y hat 과 Y를 비교하여 정확도를 비교\n",
    "print(accuracy) # 정확도가 낮다고 판단할 수 있음"
   ]
  },
  {
   "cell_type": "code",
   "execution_count": 20,
   "metadata": {},
   "outputs": [
    {
     "name": "stdout",
     "output_type": "stream",
     "text": [
      "                            OLS Regression Results                            \n",
      "==============================================================================\n",
      "Dep. Variable:                      y   R-squared:                       0.294\n",
      "Model:                            OLS   Adj. R-squared:                  0.291\n",
      "Method:                 Least Squares   F-statistic:                     129.1\n",
      "Date:                Mon, 22 May 2023   Prob (F-statistic):          3.70e-248\n",
      "Time:                        15:04:27   Log-Likelihood:                -3878.0\n",
      "No. Observations:                3428   AIC:                             7780.\n",
      "Df Residuals:                    3416   BIC:                             7854.\n",
      "Df Model:                          11                                         \n",
      "Covariance Type:            nonrobust                                         \n",
      "==============================================================================\n",
      "                 coef    std err          t      P>|t|      [0.025      0.975]\n",
      "------------------------------------------------------------------------------\n",
      "const        147.5394     21.311      6.923      0.000     105.755     189.324\n",
      "x1             0.0801      0.025      3.246      0.001       0.032       0.128\n",
      "x2            -1.7037      0.136    -12.503      0.000      -1.971      -1.437\n",
      "x3             0.0570      0.117      0.489      0.625      -0.172       0.286\n",
      "x4             0.0817      0.009      9.368      0.000       0.065       0.099\n",
      "x5            -0.0164      0.687     -0.024      0.981      -1.363       1.330\n",
      "x6             0.0050      0.001      4.790      0.000       0.003       0.007\n",
      "x7            -0.0005      0.000     -1.061      0.289      -0.001       0.000\n",
      "x8          -148.2232     21.632     -6.852      0.000    -190.635    -105.811\n",
      "x9             0.7498      0.124      6.048      0.000       0.507       0.993\n",
      "x10            0.7339      0.121      6.082      0.000       0.497       0.971\n",
      "x11            0.2088      0.028      7.557      0.000       0.155       0.263\n",
      "==============================================================================\n",
      "Omnibus:                       65.953   Durbin-Watson:                   1.982\n",
      "Prob(Omnibus):                  0.000   Jarque-Bera (JB):              123.067\n",
      "Skew:                           0.114   Prob(JB):                     1.89e-27\n",
      "Kurtosis:                       3.900   Cond. No.                     3.54e+05\n",
      "==============================================================================\n",
      "\n",
      "Notes:\n",
      "[1] Standard Errors assume that the covariance matrix of the errors is correctly specified.\n",
      "[2] The condition number is large, 3.54e+05. This might indicate that there are\n",
      "strong multicollinearity or other numerical problems.\n"
     ]
    }
   ],
   "source": [
    "model = sm.OLS(y_train, sm.add_constant(X_train)) \n",
    "results = model.fit()  \n",
    "print(results.summary())  #결과 확인"
   ]
  },
  {
   "cell_type": "markdown",
   "metadata": {},
   "source": [
    "### LASSO, Ridge regression\n",
    "\n",
    "- Elastic net\n",
    "$$ \\min_{\\beta \\in R^p} \\left\\{ ||y- X \\beta||_2^2 + \\lambda_1 ||\\beta||_1 + \\lambda_2 ||\\beta||_2^2 \\right\\} $$\n",
    "- Lasso : $\\lambda_2 = 0$\n",
    "- Ridge : $\\lambda_1 = 0$"
   ]
  },
  {
   "cell_type": "code",
   "execution_count": 21,
   "metadata": {},
   "outputs": [],
   "source": [
    "## 다음에 시작 \n",
    "from sklearn.linear_model import Lasso, Ridge"
   ]
  },
  {
   "cell_type": "code",
   "execution_count": 22,
   "metadata": {},
   "outputs": [],
   "source": [
    "lasso = Lasso(alpha=0.1)\n",
    "ridge = Ridge(alpha=0.1)  # alpha=0: OLS"
   ]
  },
  {
   "cell_type": "code",
   "execution_count": 23,
   "metadata": {},
   "outputs": [
    {
     "name": "stdout",
     "output_type": "stream",
     "text": [
      "3.1350119050228873 [-0.         -0.          0.          0.00658765 -0.          0.00931903\n",
      " -0.0026721  -0.          0.          0.          0.26000292]\n"
     ]
    }
   ],
   "source": [
    "lasso.fit(X_train, y_train)\n",
    "print(lasso.intercept_ , lasso.coef_ )# 추정한 값이 0.1보다 더 작으면 기각시킴"
   ]
  },
  {
   "cell_type": "code",
   "execution_count": 24,
   "metadata": {},
   "outputs": [
    {
     "name": "stdout",
     "output_type": "stream",
     "text": [
      "[5.98542298 5.39795764 5.75828732 5.94075017 6.3486235  6.35493312\n",
      " 5.74667097 6.083002   5.67070478 5.79674228]\n"
     ]
    }
   ],
   "source": [
    "forecast = lasso.predict(X_test) # 테스트 데이터로 예측함\n",
    "print(forecast[0:10])"
   ]
  },
  {
   "cell_type": "code",
   "execution_count": 25,
   "metadata": {},
   "outputs": [
    {
     "name": "stdout",
     "output_type": "stream",
     "text": [
      "[[0.57998542 0.57993849 0.58026641 0.58096906 0.58204652]\n",
      " [0.60919867 0.60964528 0.61048226 0.61134903 0.61251897]\n",
      " [0.60091517 0.60073638 0.60097051 0.60161758 0.60267759]\n",
      " [0.59410275 0.59459949 0.59552597 0.59688219 0.59866819]\n",
      " [0.57863237 0.57832669 0.57840395 0.57886158 0.57970142]\n",
      " [0.54396721 0.54452774 0.54550652 0.5469035  0.54863308]\n",
      " [0.55135949 0.55188251 0.55279163 0.55408688 0.55547655]\n",
      " [0.56200709 0.561993   0.56253328 0.56350646 0.56486984]\n",
      " [0.55846186 0.55889092 0.55976527 0.56108471 0.56284697]\n",
      " [0.57317467 0.57519277 0.57762293 0.58046507 0.5835661 ]]\n"
     ]
    }
   ],
   "source": [
    "## training-validation procedure(반복 with train-test-split) # 무작위로 10번 test # 설명변수가 많은경우 모델을 fitting하면서 설명변수를 선택할 때 사용, 약간의 bias가 발생할 수 있다.\n",
    "from sklearn.metrics import mean_squared_error\n",
    "result = np.zeros((10,5))\n",
    "a = [0.001, 0.002, 0.003, 0.004, 0.005] # 유의수준 지정 -> 0.001을 선택하는 것이 좋음 \n",
    "for step in range(10):\n",
    "    X0, X1, y0, y1 = train_test_split(X, y, test_size=0.3)\n",
    "    for choice in range(len(a)):\n",
    "        lasso = Lasso(alpha=a[choice])      # sklearn.preprocessing.StandardScaler\n",
    "        lasso.fit(X0, y0); forecast = lasso.predict(X1)\n",
    "        result[step,choice] = mean_squared_error(y1,forecast)\n",
    "print(result)"
   ]
  },
  {
   "cell_type": "code",
   "execution_count": 26,
   "metadata": {},
   "outputs": [
    {
     "data": {
      "text/plain": [
       "0    0.575180\n",
       "1    0.575573\n",
       "2    0.576387\n",
       "3    0.577573\n",
       "4    0.579101\n",
       "dtype: float64"
      ]
     },
     "execution_count": 26,
     "metadata": {},
     "output_type": "execute_result"
    }
   ],
   "source": [
    "result = pd.DataFrame(result)\n",
    "result.mean()"
   ]
  },
  {
   "cell_type": "code",
   "execution_count": 27,
   "metadata": {},
   "outputs": [],
   "source": [
    "##5.22수업내용 업데이트 "
   ]
  },
  {
   "cell_type": "markdown",
   "metadata": {},
   "source": [
    "### Logistic Regression"
   ]
  },
  {
   "cell_type": "code",
   "execution_count": 28,
   "metadata": {},
   "outputs": [],
   "source": [
    "whitedata[\"good\"] = (whitedata.y > 5).astype(float) #good 칼럼의 데이터만 가져옴\n",
    "\n",
    "y_binary = whitedata[\"good\"] #target value\n",
    "X_train, X_test, y_train, y_test = train_test_split(X, y_binary, test_size=0.3, random_state=100)"
   ]
  },
  {
   "cell_type": "code",
   "execution_count": 29,
   "metadata": {},
   "outputs": [
    {
     "name": "stdout",
     "output_type": "stream",
     "text": [
      "Optimization terminated successfully.\n",
      "         Current function value: 0.508625\n",
      "         Iterations 8\n"
     ]
    }
   ],
   "source": [
    "# statmodels - sm에서 함수 사용 \n",
    "logit_sm = sm.Logit(y_train, sm.add_constant(X_train)).fit()"
   ]
  },
  {
   "cell_type": "code",
   "execution_count": 30,
   "metadata": {},
   "outputs": [
    {
     "name": "stdout",
     "output_type": "stream",
     "text": [
      "                           Logit Regression Results                           \n",
      "==============================================================================\n",
      "Dep. Variable:                   good   No. Observations:                 3428\n",
      "Model:                          Logit   Df Residuals:                     3416\n",
      "Method:                           MLE   Df Model:                           11\n",
      "Date:                Mon, 22 May 2023   Pseudo R-squ.:                  0.2100\n",
      "Time:                        15:06:52   Log-Likelihood:                -1743.6\n",
      "converged:                       True   LL-Null:                       -2206.9\n",
      "Covariance Type:            nonrobust   LLR p-value:                1.101e-191\n",
      "==============================================================================\n",
      "                 coef    std err          z      P>|z|      [0.025      0.975]\n",
      "------------------------------------------------------------------------------\n",
      "const        202.1746     77.031      2.625      0.009      51.196     353.153\n",
      "x1             0.0022      0.083      0.026      0.979      -0.160       0.164\n",
      "x2            -5.8583      0.487    -12.033      0.000      -6.813      -4.904\n",
      "x3             0.1649      0.371      0.445      0.657      -0.562       0.892\n",
      "x4             0.1498      0.030      4.962      0.000       0.091       0.209\n",
      "x5             0.9854      2.091      0.471      0.637      -3.113       5.083\n",
      "x6             0.0112      0.003      3.344      0.001       0.005       0.018\n",
      "x7            -0.0022      0.001     -1.564      0.118      -0.005       0.001\n",
      "x8          -215.0109     78.140     -2.752      0.006    -368.163     -61.859\n",
      "x9             1.0349      0.417      2.479      0.013       0.217       1.853\n",
      "x10            2.3811      0.434      5.481      0.000       1.530       3.233\n",
      "x11            0.8020      0.103      7.779      0.000       0.600       1.004\n",
      "==============================================================================\n"
     ]
    }
   ],
   "source": [
    "print(logit_sm.summary()) #logisitic regression 결과를 표로 작성 #X1는 필요없고 그 나머지는 유의하다고 할 수 있음"
   ]
  },
  {
   "cell_type": "code",
   "execution_count": 32,
   "metadata": {},
   "outputs": [
    {
     "name": "stdout",
     "output_type": "stream",
     "text": [
      "Parameters: const    202.174579\n",
      "x1         0.002172\n",
      "x2        -5.858328\n",
      "x3         0.164871\n",
      "x4         0.149811\n",
      "x5         0.985393\n",
      "x6         0.011172\n",
      "x7        -0.002212\n",
      "x8      -215.010948\n",
      "x9         1.034857\n",
      "x10        2.381093\n",
      "x11        0.801961\n",
      "dtype: float64\n",
      "Eta: 1044    1.135539\n",
      "3224    2.072523\n",
      "2808   -0.131601\n",
      "3382    2.380944\n",
      "295    -0.762854\n",
      "728     1.427865\n",
      "4772   -0.486029\n",
      "4053   -0.015095\n",
      "361    -1.930199\n",
      "1466    1.976535\n",
      "dtype: float64\n"
     ]
    }
   ],
   "source": [
    "print(\"Parameters:\",logit_sm.params)# 파라미터 출력\n",
    "print(\"Eta:\", logit_sm.fittedvalues[0:10])# 70%(training data) 중에 제일먼저 뽑힌 데이터 번호가 1044! 확률이 0.5이상이면 좋고 이하면 나쁨\n"
   ]
  },
  {
   "cell_type": "code",
   "execution_count": 33,
   "metadata": {},
   "outputs": [
    {
     "name": "stdout",
     "output_type": "stream",
     "text": [
      "prob: 828     0.871299\n",
      "1621    0.131395\n",
      "3091    0.633535\n",
      "2010    0.793015\n",
      "1433    0.876213\n",
      "1101    0.943365\n",
      "3349    0.782047\n",
      "2262    0.800305\n",
      "4600    0.524013\n",
      "1318    0.772940\n",
      "dtype: float64\n"
     ]
    }
   ],
   "source": [
    "muhat = logit_sm.predict(sm.add_constant(X_test)) #새로운 데이터로 타겟값을 예측 \n",
    "print(\"prob:\", muhat[0:10])# 뮤값 즉 모평균의값을 출력함 , 0.5이상이면 good 이하면 bad"
   ]
  },
  {
   "cell_type": "code",
   "execution_count": 34,
   "metadata": {},
   "outputs": [
    {
     "name": "stdout",
     "output_type": "stream",
     "text": [
      "828     1\n",
      "1621    0\n",
      "3091    1\n",
      "2010    1\n",
      "1433    1\n",
      "1101    1\n",
      "3349    1\n",
      "2262    1\n",
      "4600    1\n",
      "1318    1\n",
      "dtype: int32\n"
     ]
    }
   ],
   "source": [
    "yhat = (muhat > 0.5).astype(int) # true =1, false=0 # y예측값을 구함\n",
    "print(yhat[0:10])"
   ]
  },
  {
   "cell_type": "code",
   "execution_count": 35,
   "metadata": {},
   "outputs": [
    {
     "name": "stdout",
     "output_type": "stream",
     "text": [
      "Confusion Matrix : \n",
      " [[238 222]\n",
      " [151 859]]\n"
     ]
    }
   ],
   "source": [
    "from sklearn.metrics import confusion_matrix, accuracy_score\n",
    "\n",
    "cm = confusion_matrix(y_test, yhat) #정확도 매트릭스를 사용하여 y의 테스트값과, 예측값인 yhat 값 비교\n",
    "print (\"Confusion Matrix : \\n\", cm) \n",
    "##TP FN   (실제 x 예측)\n",
    "##FP TN"
   ]
  },
  {
   "cell_type": "code",
   "execution_count": 36,
   "metadata": {},
   "outputs": [
    {
     "name": "stdout",
     "output_type": "stream",
     "text": [
      "Test accuracy =  0.7462585034013606\n"
     ]
    }
   ],
   "source": [
    "# accuracy score of the model\n",
    "print('Test accuracy = ', accuracy_score(y_test, yhat)) # 정확도 출력 "
   ]
  },
  {
   "cell_type": "code",
   "execution_count": 39,
   "metadata": {},
   "outputs": [
    {
     "name": "stdout",
     "output_type": "stream",
     "text": [
      "Optimization terminated successfully.\n",
      "         Current function value: 0.507797\n",
      "         Iterations 6\n"
     ]
    },
    {
     "data": {
      "text/html": [
       "<table class=\"simpletable\">\n",
       "<caption>Logit Regression Results</caption>\n",
       "<tr>\n",
       "  <th>Dep. Variable:</th>         <td>good</td>       <th>  No. Observations:  </th>   <td>  4898</td>  \n",
       "</tr>\n",
       "<tr>\n",
       "  <th>Model:</th>                 <td>Logit</td>      <th>  Df Residuals:      </th>   <td>  4892</td>  \n",
       "</tr>\n",
       "<tr>\n",
       "  <th>Method:</th>                 <td>MLE</td>       <th>  Df Model:          </th>   <td>     5</td>  \n",
       "</tr>\n",
       "<tr>\n",
       "  <th>Date:</th>            <td>Mon, 22 May 2023</td> <th>  Pseudo R-squ.:     </th>   <td>0.2035</td>  \n",
       "</tr>\n",
       "<tr>\n",
       "  <th>Time:</th>                <td>15:21:58</td>     <th>  Log-Likelihood:    </th>  <td> -2487.2</td> \n",
       "</tr>\n",
       "<tr>\n",
       "  <th>converged:</th>             <td>True</td>       <th>  LL-Null:           </th>  <td> -3122.7</td> \n",
       "</tr>\n",
       "<tr>\n",
       "  <th>Covariance Type:</th>     <td>nonrobust</td>    <th>  LLR p-value:       </th> <td>1.207e-272</td>\n",
       "</tr>\n",
       "</table>\n",
       "<table class=\"simpletable\">\n",
       "<tr>\n",
       "      <td></td>         <th>coef</th>     <th>std err</th>      <th>z</th>      <th>P>|z|</th>  <th>[0.025</th>    <th>0.975]</th>  \n",
       "</tr>\n",
       "<tr>\n",
       "  <th>Intercept</th> <td>   -9.9599</td> <td>    0.479</td> <td>  -20.797</td> <td> 0.000</td> <td>  -10.899</td> <td>   -9.021</td>\n",
       "</tr>\n",
       "<tr>\n",
       "  <th>x2</th>        <td>   -6.7043</td> <td>    0.394</td> <td>  -17.011</td> <td> 0.000</td> <td>   -7.477</td> <td>   -5.932</td>\n",
       "</tr>\n",
       "<tr>\n",
       "  <th>x4</th>        <td>    0.0654</td> <td>    0.008</td> <td>    8.407</td> <td> 0.000</td> <td>    0.050</td> <td>    0.081</td>\n",
       "</tr>\n",
       "<tr>\n",
       "  <th>x6</th>        <td>    0.0092</td> <td>    0.002</td> <td>    4.148</td> <td> 0.000</td> <td>    0.005</td> <td>    0.014</td>\n",
       "</tr>\n",
       "<tr>\n",
       "  <th>x10</th>       <td>    1.3013</td> <td>    0.331</td> <td>    3.935</td> <td> 0.000</td> <td>    0.653</td> <td>    1.949</td>\n",
       "</tr>\n",
       "<tr>\n",
       "  <th>x11</th>       <td>    1.0799</td> <td>    0.041</td> <td>   26.567</td> <td> 0.000</td> <td>    1.000</td> <td>    1.160</td>\n",
       "</tr>\n",
       "</table>"
      ],
      "text/plain": [
       "<class 'statsmodels.iolib.summary.Summary'>\n",
       "\"\"\"\n",
       "                           Logit Regression Results                           \n",
       "==============================================================================\n",
       "Dep. Variable:                   good   No. Observations:                 4898\n",
       "Model:                          Logit   Df Residuals:                     4892\n",
       "Method:                           MLE   Df Model:                            5\n",
       "Date:                Mon, 22 May 2023   Pseudo R-squ.:                  0.2035\n",
       "Time:                        15:21:58   Log-Likelihood:                -2487.2\n",
       "converged:                       True   LL-Null:                       -3122.7\n",
       "Covariance Type:            nonrobust   LLR p-value:                1.207e-272\n",
       "==============================================================================\n",
       "                 coef    std err          z      P>|z|      [0.025      0.975]\n",
       "------------------------------------------------------------------------------\n",
       "Intercept     -9.9599      0.479    -20.797      0.000     -10.899      -9.021\n",
       "x2            -6.7043      0.394    -17.011      0.000      -7.477      -5.932\n",
       "x4             0.0654      0.008      8.407      0.000       0.050       0.081\n",
       "x6             0.0092      0.002      4.148      0.000       0.005       0.014\n",
       "x10            1.3013      0.331      3.935      0.000       0.653       1.949\n",
       "x11            1.0799      0.041     26.567      0.000       1.000       1.160\n",
       "==============================================================================\n",
       "\"\"\""
      ]
     },
     "execution_count": 39,
     "metadata": {},
     "output_type": "execute_result"
    }
   ],
   "source": [
    "## 변수지정 fomula.api  ## 이방법이 모델링하기 쉽기 때문에 많이 사용!\n",
    "##공부할것 : 상호작용을 하기 위해서는 어떤 모델을 생성할 필요가 있나? ->파이널 프로젝트 \n",
    "import statsmodels.formula.api as smf # 직접 데이터의 모델을 설정\n",
    "model = \"good ~ x2+x4+x6+x10+x11\" #칼럼 X1~X11을 사용해여 모델 생성\n",
    "logit_smf = smf.logit(formula=str(model),data=whitedata).fit()\n",
    "logit_smf.summary() ##logistic regression의 결과를 표로 출력 "
   ]
  },
  {
   "cell_type": "code",
   "execution_count": 40,
   "metadata": {},
   "outputs": [],
   "source": [
    "#sklearn : “statsmodels”과 다른 설정\n",
    "#sklearn사용 !\n",
    "from sklearn.linear_model import LogisticRegression"
   ]
  },
  {
   "cell_type": "code",
   "execution_count": 41,
   "metadata": {
    "scrolled": true
   },
   "outputs": [
    {
     "name": "stderr",
     "output_type": "stream",
     "text": [
      "C:\\Users\\SM-PC\\AppData\\Local\\Programs\\Python\\Python39\\lib\\site-packages\\sklearn\\linear_model\\_logistic.py:458: ConvergenceWarning: lbfgs failed to converge (status=1):\n",
      "STOP: TOTAL NO. of ITERATIONS REACHED LIMIT.\n",
      "\n",
      "Increase the number of iterations (max_iter) or scale the data as shown in:\n",
      "    https://scikit-learn.org/stable/modules/preprocessing.html\n",
      "Please also refer to the documentation for alternative solver options:\n",
      "    https://scikit-learn.org/stable/modules/linear_model.html#logistic-regression\n",
      "  n_iter_i = _check_optimize_result(\n"
     ]
    },
    {
     "data": {
      "text/html": [
       "<style>#sk-container-id-1 {color: black;background-color: white;}#sk-container-id-1 pre{padding: 0;}#sk-container-id-1 div.sk-toggleable {background-color: white;}#sk-container-id-1 label.sk-toggleable__label {cursor: pointer;display: block;width: 100%;margin-bottom: 0;padding: 0.3em;box-sizing: border-box;text-align: center;}#sk-container-id-1 label.sk-toggleable__label-arrow:before {content: \"▸\";float: left;margin-right: 0.25em;color: #696969;}#sk-container-id-1 label.sk-toggleable__label-arrow:hover:before {color: black;}#sk-container-id-1 div.sk-estimator:hover label.sk-toggleable__label-arrow:before {color: black;}#sk-container-id-1 div.sk-toggleable__content {max-height: 0;max-width: 0;overflow: hidden;text-align: left;background-color: #f0f8ff;}#sk-container-id-1 div.sk-toggleable__content pre {margin: 0.2em;color: black;border-radius: 0.25em;background-color: #f0f8ff;}#sk-container-id-1 input.sk-toggleable__control:checked~div.sk-toggleable__content {max-height: 200px;max-width: 100%;overflow: auto;}#sk-container-id-1 input.sk-toggleable__control:checked~label.sk-toggleable__label-arrow:before {content: \"▾\";}#sk-container-id-1 div.sk-estimator input.sk-toggleable__control:checked~label.sk-toggleable__label {background-color: #d4ebff;}#sk-container-id-1 div.sk-label input.sk-toggleable__control:checked~label.sk-toggleable__label {background-color: #d4ebff;}#sk-container-id-1 input.sk-hidden--visually {border: 0;clip: rect(1px 1px 1px 1px);clip: rect(1px, 1px, 1px, 1px);height: 1px;margin: -1px;overflow: hidden;padding: 0;position: absolute;width: 1px;}#sk-container-id-1 div.sk-estimator {font-family: monospace;background-color: #f0f8ff;border: 1px dotted black;border-radius: 0.25em;box-sizing: border-box;margin-bottom: 0.5em;}#sk-container-id-1 div.sk-estimator:hover {background-color: #d4ebff;}#sk-container-id-1 div.sk-parallel-item::after {content: \"\";width: 100%;border-bottom: 1px solid gray;flex-grow: 1;}#sk-container-id-1 div.sk-label:hover label.sk-toggleable__label {background-color: #d4ebff;}#sk-container-id-1 div.sk-serial::before {content: \"\";position: absolute;border-left: 1px solid gray;box-sizing: border-box;top: 0;bottom: 0;left: 50%;z-index: 0;}#sk-container-id-1 div.sk-serial {display: flex;flex-direction: column;align-items: center;background-color: white;padding-right: 0.2em;padding-left: 0.2em;position: relative;}#sk-container-id-1 div.sk-item {position: relative;z-index: 1;}#sk-container-id-1 div.sk-parallel {display: flex;align-items: stretch;justify-content: center;background-color: white;position: relative;}#sk-container-id-1 div.sk-item::before, #sk-container-id-1 div.sk-parallel-item::before {content: \"\";position: absolute;border-left: 1px solid gray;box-sizing: border-box;top: 0;bottom: 0;left: 50%;z-index: -1;}#sk-container-id-1 div.sk-parallel-item {display: flex;flex-direction: column;z-index: 1;position: relative;background-color: white;}#sk-container-id-1 div.sk-parallel-item:first-child::after {align-self: flex-end;width: 50%;}#sk-container-id-1 div.sk-parallel-item:last-child::after {align-self: flex-start;width: 50%;}#sk-container-id-1 div.sk-parallel-item:only-child::after {width: 0;}#sk-container-id-1 div.sk-dashed-wrapped {border: 1px dashed gray;margin: 0 0.4em 0.5em 0.4em;box-sizing: border-box;padding-bottom: 0.4em;background-color: white;}#sk-container-id-1 div.sk-label label {font-family: monospace;font-weight: bold;display: inline-block;line-height: 1.2em;}#sk-container-id-1 div.sk-label-container {text-align: center;}#sk-container-id-1 div.sk-container {/* jupyter's `normalize.less` sets `[hidden] { display: none; }` but bootstrap.min.css set `[hidden] { display: none !important; }` so we also need the `!important` here to be able to override the default hidden behavior on the sphinx rendered scikit-learn.org. See: https://github.com/scikit-learn/scikit-learn/issues/21755 */display: inline-block !important;position: relative;}#sk-container-id-1 div.sk-text-repr-fallback {display: none;}</style><div id=\"sk-container-id-1\" class=\"sk-top-container\"><div class=\"sk-text-repr-fallback\"><pre>LogisticRegression(penalty=None)</pre><b>In a Jupyter environment, please rerun this cell to show the HTML representation or trust the notebook. <br />On GitHub, the HTML representation is unable to render, please try loading this page with nbviewer.org.</b></div><div class=\"sk-container\" hidden><div class=\"sk-item\"><div class=\"sk-estimator sk-toggleable\"><input class=\"sk-toggleable__control sk-hidden--visually\" id=\"sk-estimator-id-1\" type=\"checkbox\" checked><label for=\"sk-estimator-id-1\" class=\"sk-toggleable__label sk-toggleable__label-arrow\">LogisticRegression</label><div class=\"sk-toggleable__content\"><pre>LogisticRegression(penalty=None)</pre></div></div></div></div></div>"
      ],
      "text/plain": [
       "LogisticRegression(penalty=None)"
      ]
     },
     "execution_count": 41,
     "metadata": {},
     "output_type": "execute_result"
    }
   ],
   "source": [
    "logitS = LogisticRegression(penalty=None)  ## C=1/alpha=1, penality=\"l2\" {\"l1\",\"l2\",\"elasticnet\",None}\n",
    "logitS.fit(X_train, y_train)  #기본적으로 분석할 때 1을 포함   "
   ]
  },
  {
   "cell_type": "code",
   "execution_count": 42,
   "metadata": {},
   "outputs": [
    {
     "name": "stdout",
     "output_type": "stream",
     "text": [
      "[[-2.65831808e-01 -6.60393173e+00 -4.55204322e-01  6.10587409e-02\n",
      "  -5.53974022e-01  1.10710499e-02 -2.68518619e-03 -2.40885588e+00\n",
      "  -7.39746026e-01  2.20586985e+00  9.87125075e-01]] [-2.41690669]\n"
     ]
    }
   ],
   "source": [
    "print(logitS.coef_, logitS.intercept_)     #상관계수와 B0 값 출력, 위 모델의 coef값과 비교  "
   ]
  },
  {
   "cell_type": "markdown",
   "metadata": {},
   "source": [
    "#### The choice of the algorithm depends on the penalty chosen. Supported penalties by solver:\n",
    " - lbfgs’ - [‘l2’, None]\n",
    "\n",
    " - liblinear’ - [‘l1’, ‘l2’]\n",
    " - 'newton-cg’ - [‘l2’, None]\n",
    " - 'newton-cholesky’ - [‘l2’, None]\n",
    " - 'sag’ - [‘l2’, None]\n",
    " - 'saga’ - [‘elasticnet’, ‘l1’, ‘l2’, None]"
   ]
  },
  {
   "cell_type": "code",
   "execution_count": 43,
   "metadata": {},
   "outputs": [
    {
     "name": "stderr",
     "output_type": "stream",
     "text": [
      "C:\\Users\\SM-PC\\AppData\\Local\\Programs\\Python\\Python39\\lib\\site-packages\\sklearn\\linear_model\\_sag.py:350: ConvergenceWarning: The max_iter was reached which means the coef_ did not converge\n",
      "  warnings.warn(\n"
     ]
    },
    {
     "data": {
      "text/html": [
       "<style>#sk-container-id-2 {color: black;background-color: white;}#sk-container-id-2 pre{padding: 0;}#sk-container-id-2 div.sk-toggleable {background-color: white;}#sk-container-id-2 label.sk-toggleable__label {cursor: pointer;display: block;width: 100%;margin-bottom: 0;padding: 0.3em;box-sizing: border-box;text-align: center;}#sk-container-id-2 label.sk-toggleable__label-arrow:before {content: \"▸\";float: left;margin-right: 0.25em;color: #696969;}#sk-container-id-2 label.sk-toggleable__label-arrow:hover:before {color: black;}#sk-container-id-2 div.sk-estimator:hover label.sk-toggleable__label-arrow:before {color: black;}#sk-container-id-2 div.sk-toggleable__content {max-height: 0;max-width: 0;overflow: hidden;text-align: left;background-color: #f0f8ff;}#sk-container-id-2 div.sk-toggleable__content pre {margin: 0.2em;color: black;border-radius: 0.25em;background-color: #f0f8ff;}#sk-container-id-2 input.sk-toggleable__control:checked~div.sk-toggleable__content {max-height: 200px;max-width: 100%;overflow: auto;}#sk-container-id-2 input.sk-toggleable__control:checked~label.sk-toggleable__label-arrow:before {content: \"▾\";}#sk-container-id-2 div.sk-estimator input.sk-toggleable__control:checked~label.sk-toggleable__label {background-color: #d4ebff;}#sk-container-id-2 div.sk-label input.sk-toggleable__control:checked~label.sk-toggleable__label {background-color: #d4ebff;}#sk-container-id-2 input.sk-hidden--visually {border: 0;clip: rect(1px 1px 1px 1px);clip: rect(1px, 1px, 1px, 1px);height: 1px;margin: -1px;overflow: hidden;padding: 0;position: absolute;width: 1px;}#sk-container-id-2 div.sk-estimator {font-family: monospace;background-color: #f0f8ff;border: 1px dotted black;border-radius: 0.25em;box-sizing: border-box;margin-bottom: 0.5em;}#sk-container-id-2 div.sk-estimator:hover {background-color: #d4ebff;}#sk-container-id-2 div.sk-parallel-item::after {content: \"\";width: 100%;border-bottom: 1px solid gray;flex-grow: 1;}#sk-container-id-2 div.sk-label:hover label.sk-toggleable__label {background-color: #d4ebff;}#sk-container-id-2 div.sk-serial::before {content: \"\";position: absolute;border-left: 1px solid gray;box-sizing: border-box;top: 0;bottom: 0;left: 50%;z-index: 0;}#sk-container-id-2 div.sk-serial {display: flex;flex-direction: column;align-items: center;background-color: white;padding-right: 0.2em;padding-left: 0.2em;position: relative;}#sk-container-id-2 div.sk-item {position: relative;z-index: 1;}#sk-container-id-2 div.sk-parallel {display: flex;align-items: stretch;justify-content: center;background-color: white;position: relative;}#sk-container-id-2 div.sk-item::before, #sk-container-id-2 div.sk-parallel-item::before {content: \"\";position: absolute;border-left: 1px solid gray;box-sizing: border-box;top: 0;bottom: 0;left: 50%;z-index: -1;}#sk-container-id-2 div.sk-parallel-item {display: flex;flex-direction: column;z-index: 1;position: relative;background-color: white;}#sk-container-id-2 div.sk-parallel-item:first-child::after {align-self: flex-end;width: 50%;}#sk-container-id-2 div.sk-parallel-item:last-child::after {align-self: flex-start;width: 50%;}#sk-container-id-2 div.sk-parallel-item:only-child::after {width: 0;}#sk-container-id-2 div.sk-dashed-wrapped {border: 1px dashed gray;margin: 0 0.4em 0.5em 0.4em;box-sizing: border-box;padding-bottom: 0.4em;background-color: white;}#sk-container-id-2 div.sk-label label {font-family: monospace;font-weight: bold;display: inline-block;line-height: 1.2em;}#sk-container-id-2 div.sk-label-container {text-align: center;}#sk-container-id-2 div.sk-container {/* jupyter's `normalize.less` sets `[hidden] { display: none; }` but bootstrap.min.css set `[hidden] { display: none !important; }` so we also need the `!important` here to be able to override the default hidden behavior on the sphinx rendered scikit-learn.org. See: https://github.com/scikit-learn/scikit-learn/issues/21755 */display: inline-block !important;position: relative;}#sk-container-id-2 div.sk-text-repr-fallback {display: none;}</style><div id=\"sk-container-id-2\" class=\"sk-top-container\"><div class=\"sk-text-repr-fallback\"><pre>LogisticRegression(penalty=&#x27;l1&#x27;, solver=&#x27;saga&#x27;)</pre><b>In a Jupyter environment, please rerun this cell to show the HTML representation or trust the notebook. <br />On GitHub, the HTML representation is unable to render, please try loading this page with nbviewer.org.</b></div><div class=\"sk-container\" hidden><div class=\"sk-item\"><div class=\"sk-estimator sk-toggleable\"><input class=\"sk-toggleable__control sk-hidden--visually\" id=\"sk-estimator-id-2\" type=\"checkbox\" checked><label for=\"sk-estimator-id-2\" class=\"sk-toggleable__label sk-toggleable__label-arrow\">LogisticRegression</label><div class=\"sk-toggleable__content\"><pre>LogisticRegression(penalty=&#x27;l1&#x27;, solver=&#x27;saga&#x27;)</pre></div></div></div></div></div>"
      ],
      "text/plain": [
       "LogisticRegression(penalty='l1', solver='saga')"
      ]
     },
     "execution_count": 43,
     "metadata": {},
     "output_type": "execute_result"
    }
   ],
   "source": [
    "logitL = LogisticRegression(penalty=\"l1\",solver=\"saga\")  # LASSO , C = 1/alpha, solver를 saga로 적용 후 사용가능함, 라쏘는 기준값 이하로 내려가면 0으로 보내버림\n",
    "logitL.fit(X_train, y_train)   "
   ]
  },
  {
   "cell_type": "code",
   "execution_count": 44,
   "metadata": {},
   "outputs": [
    {
     "name": "stdout",
     "output_type": "stream",
     "text": [
      "[[0.24486208 0.75513792]\n",
      " [0.58471433 0.41528567]\n",
      " [0.36855233 0.63144767]\n",
      " [0.2565897  0.7434103 ]\n",
      " [0.16571528 0.83428472]\n",
      " [0.13910636 0.86089364]\n",
      " [0.28382279 0.71617721]\n",
      " [0.23968072 0.76031928]\n",
      " [0.4277204  0.5722796 ]\n",
      " [0.26209616 0.73790384]]\n",
      "[1. 0. 1. 1. 1. 1. 1. 1. 1. 1.]\n"
     ]
    }
   ],
   "source": [
    "muL = logitL.predict_proba(X_test) # 뮤 햇을 구하여 muL 생성 (예측 확률 구함)\n",
    "yhat = logitL.predict(X_test)  # 예측값을 생성 \n",
    "print(muL[0:10])\n",
    "print(yhat[0:10]) #결과값은 0 ,1 로 표현 "
   ]
  },
  {
   "cell_type": "code",
   "execution_count": 45,
   "metadata": {},
   "outputs": [
    {
     "data": {
      "text/plain": [
       "0.6843537414965987"
      ]
     },
     "execution_count": 45,
     "metadata": {},
     "output_type": "execute_result"
    }
   ],
   "source": [
    "logitL.score(X_test, y_test)# 예측값의 정확도를 출력\n",
    "\n",
    "##5.22일 수업 내용"
   ]
  },
  {
   "cell_type": "markdown",
   "metadata": {},
   "source": [
    "### 다범주 로짓 모형"
   ]
  },
  {
   "cell_type": "code",
   "execution_count": 46,
   "metadata": {},
   "outputs": [],
   "source": [
    "from sklearn import datasets   \n",
    "# iris data\n",
    "iris = datasets.load_iris()\n",
    "X = iris.data[:, :2]\n",
    "Y = iris.target"
   ]
  },
  {
   "cell_type": "code",
   "execution_count": null,
   "metadata": {},
   "outputs": [],
   "source": [
    "from statsmodels.discrete.discrete_model import MNLogit"
   ]
  },
  {
   "cell_type": "code",
   "execution_count": null,
   "metadata": {},
   "outputs": [],
   "source": [
    "mlogit_sm = MNLogit(Y,sm.add_constant(X)).fit(maxiter=100,method=\"bfgs\")\n",
    "mlogit_sm.summary()"
   ]
  },
  {
   "cell_type": "code",
   "execution_count": null,
   "metadata": {},
   "outputs": [],
   "source": [
    "prob = mlogit_sm.predict(sm.add_constant(X))\n",
    "print(prob[0:10])"
   ]
  },
  {
   "cell_type": "code",
   "execution_count": null,
   "metadata": {},
   "outputs": [],
   "source": [
    "yhat = np.argmax(prob,1)\n",
    "print(yhat[0:10])"
   ]
  },
  {
   "cell_type": "markdown",
   "metadata": {},
   "source": [
    "### LASSO with statsmodels"
   ]
  },
  {
   "cell_type": "code",
   "execution_count": null,
   "metadata": {},
   "outputs": [],
   "source": [
    "mlogit_sm = MNLogit(Y,sm.add_constant(X))\n",
    "mlogit_smL = mlogit_sm.fit_regularized(method=\"l1\", alpha=0.5)\n",
    "mlogit_smL.summary()"
   ]
  },
  {
   "cell_type": "code",
   "execution_count": null,
   "metadata": {},
   "outputs": [],
   "source": [
    "yhatL = np.argmax(mlogit_smL.predict(sm.add_constant(X)),1)\n",
    "print(yhatL[0:10])"
   ]
  },
  {
   "cell_type": "code",
   "execution_count": null,
   "metadata": {},
   "outputs": [],
   "source": [
    "# Sklearn\n",
    "mlogitR = LogisticRegression(C=1e5)  # multi_class=\"auto\" {'ovr','multinomial','auto'}  \n",
    "mlogitR.fit(X,Y)"
   ]
  },
  {
   "cell_type": "code",
   "execution_count": null,
   "metadata": {},
   "outputs": [],
   "source": [
    "muR = mlogitR.predict_proba(X)\n",
    "yhatR = np.argmax(muR,1)\n",
    "print(muR[0:10])\n",
    "print(yhatR[0:10])"
   ]
  },
  {
   "cell_type": "code",
   "execution_count": null,
   "metadata": {},
   "outputs": [],
   "source": [
    "## 그림으로 표시\n",
    "h = .02  # step size in the mesh\n",
    "x_min, x_max = X[:, 0].min() - .5, X[:, 0].max() + .5\n",
    "y_min, y_max = X[:, 1].min() - .5, X[:, 1].max() + .5\n",
    "xx, yy = np.meshgrid(np.arange(x_min, x_max, h), np.arange(y_min, y_max, h))\n",
    "Z = mlogitR.predict(np.c_[xx.ravel(), yy.ravel()])\n",
    "# put the result into a color plot\n",
    "Z = Z.reshape(xx.shape)\n",
    "plt.figure(1, figsize=(8, 7))\n",
    "plt.pcolormesh(xx, yy, Z, cmap=plt.cm.Paired)\n",
    "# Plot also the training points\n",
    "plt.scatter(X[:, 0], X[:, 1], c=Y, edgecolors='k', cmap=plt.cm.Paired)\n",
    "plt.xlabel('Sepal length'); plt.ylabel('Sepal width')\n",
    "plt.xlim(xx.min(), xx.max());  plt.ylim(yy.min(), yy.max())\n",
    "plt.xticks(()); plt.yticks(())\n",
    "plt.show()"
   ]
  },
  {
   "cell_type": "code",
   "execution_count": null,
   "metadata": {},
   "outputs": [],
   "source": []
  }
 ],
 "metadata": {
  "kernelspec": {
   "display_name": "Python 3 (ipykernel)",
   "language": "python",
   "name": "python3"
  },
  "language_info": {
   "codemirror_mode": {
    "name": "ipython",
    "version": 3
   },
   "file_extension": ".py",
   "mimetype": "text/x-python",
   "name": "python",
   "nbconvert_exporter": "python",
   "pygments_lexer": "ipython3",
   "version": "3.9.13"
  }
 },
 "nbformat": 4,
 "nbformat_minor": 2
}
